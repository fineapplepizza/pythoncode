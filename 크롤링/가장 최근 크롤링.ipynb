{
 "cells": [
  {
   "cell_type": "code",
   "execution_count": 1,
   "metadata": {},
   "outputs": [],
   "source": [
    "#webdriver-웹페이지 제어하기 위한 모듈\n",
    "#keys-컴퓨터의 키보드와 같은 역할 모듈 \n",
    "#time=쉬는 시간을 부여한다.\n",
    "#pandas\n",
    "from selenium import webdriver as wb\n",
    "from selenium.webdriver.common.keys import Keys\n",
    "import pandas as pd \n",
    "import time\n",
    "import pandas as pd\n",
    "from bs4 import BeautifulSoup as bs"
   ]
  },
  {
   "cell_type": "code",
   "execution_count": 68,
   "metadata": {},
   "outputs": [],
   "source": [
    "# # 크롬 드라이버를 실행\n",
    "# driver=wb.Chrome()\n",
    "# driver.get(\"https://terms.naver.com/list.naver?cid=42883&categoryId=44358\")\n",
    "\n",
    "# for i in range(1,4):\n",
    "# #강아지이름 클릭\n",
    "#     btnDog=driver.find_element_by_css_selector(\"ul.content_list>li:nth-child(\"+str(i)+\")>div.info_area>div.subject>strong.title>a:nth-child(1)\")\n",
    "#     btnDog.click()\n",
    "# # 리스트 이름 생성\n",
    "#     dog[i]=[]\n",
    "# #강아지 이름\n",
    "#     name=driver.find_element_by_css_selector(\"h2.headword\").text\n",
    "#     dog[i].append(name)\n",
    "#     \n",
    "#     for j in range(1,15):\n",
    "#         feature=driver.find_element_by_css_selector(\"table>tbody>tr:nth-child(\"+str(j)+\")>td\").text\n",
    "#         dog[i].append(feature)\n",
    "#     driver.back()\n"
   ]
  },
  {
   "cell_type": "code",
   "execution_count": 17,
   "metadata": {},
   "outputs": [
    {
     "ename": "AttributeError",
     "evalue": "'list' object has no attribute 'text'",
     "output_type": "error",
     "traceback": [
      "\u001b[1;31m---------------------------------------------------------------------------\u001b[0m",
      "\u001b[1;31mAttributeError\u001b[0m                            Traceback (most recent call last)",
      "\u001b[1;32m<ipython-input-17-19f21c52634c>\u001b[0m in \u001b[0;36m<module>\u001b[1;34m\u001b[0m\n\u001b[0;32m     10\u001b[0m         \u001b[0mbtnDog\u001b[0m\u001b[1;33m.\u001b[0m\u001b[0mclick\u001b[0m\u001b[1;33m(\u001b[0m\u001b[1;33m)\u001b[0m\u001b[1;33m\u001b[0m\u001b[1;33m\u001b[0m\u001b[0m\n\u001b[0;32m     11\u001b[0m         \u001b[0mtime\u001b[0m\u001b[1;33m.\u001b[0m\u001b[0msleep\u001b[0m\u001b[1;33m(\u001b[0m\u001b[1;36m1\u001b[0m\u001b[1;33m)\u001b[0m\u001b[1;33m\u001b[0m\u001b[1;33m\u001b[0m\u001b[0m\n\u001b[1;32m---> 12\u001b[1;33m         \u001b[0mdog\u001b[0m\u001b[1;33m=\u001b[0m\u001b[0mdriver\u001b[0m\u001b[1;33m.\u001b[0m\u001b[0mfind_elements_by_tag_name\u001b[0m\u001b[1;33m(\u001b[0m\u001b[1;34m'td'\u001b[0m\u001b[1;33m)\u001b[0m\u001b[1;33m.\u001b[0m\u001b[0mtext\u001b[0m\u001b[1;33m\u001b[0m\u001b[1;33m\u001b[0m\u001b[0m\n\u001b[0m\u001b[0;32m     13\u001b[0m         \u001b[0mdog_list\u001b[0m\u001b[1;33m.\u001b[0m\u001b[0mappend\u001b[0m\u001b[1;33m(\u001b[0m\u001b[0mdog\u001b[0m\u001b[1;33m)\u001b[0m\u001b[1;33m\u001b[0m\u001b[1;33m\u001b[0m\u001b[0m\n\u001b[0;32m     14\u001b[0m         \u001b[0mcntindex\u001b[0m \u001b[1;33m+=\u001b[0m \u001b[1;36m1\u001b[0m\u001b[1;33m\u001b[0m\u001b[1;33m\u001b[0m\u001b[0m\n",
      "\u001b[1;31mAttributeError\u001b[0m: 'list' object has no attribute 'text'"
     ]
    }
   ],
   "source": [
    "cntpage = 6\n",
    "dog_list= []\n",
    "cntindex = 0\n",
    "driver=wb.Chrome()\n",
    "for p in range(0,9):\n",
    "    driver.get(\"https://terms.naver.com/list.naver?cid=42883&categoryId=44358&so=date.dsc&viewType=&categoryType=&page=\"+str(cntpage))\n",
    "    \n",
    "    for i in range(1,16):\n",
    "        btnDog=driver.find_element_by_css_selector(\"ul.content_list>li:nth-child(\"+str(i)+\")>div.info_area>div.subject>strong.title>a:first-child\")\n",
    "        btnDog.click()\n",
    "        time.sleep(1)\n",
    "        dog=driver.find_elements_by_tag_name('td').text\n",
    "        cntindex += 1\n",
    "        driver.back()\n",
    "\n",
    "    #강아지 정보 가져오기\n",
    "#         \n",
    "#         for j in range(len(dog)):\n",
    "#             dog_list[cntindex].append(dog[j].text.strip())\n",
    "#             cntindex += 1\n",
    "#         driver.back()\n",
    "        cntpage += 1\n",
    "    "
   ]
  },
  {
   "cell_type": "code",
   "execution_count": 15,
   "metadata": {
    "scrolled": true
   },
   "outputs": [
    {
     "data": {
      "text/plain": [
       "'원산지 한국 체고 53~55cm 체중 23~28kg 크기 중형 외모 비교적 작은 눈에 목은 굵고 짧으며 작게 선 귀는 옆을 향함 성격 주인에 대한 충성심이 뛰어나 한번 주인은 영원한 주인 추천성향 단독주택/전원주택, 젊은층/노년층, 운동량 보통 색상 흰색 황색 황백색 그룹구분 한국개 친화성 낮음 털빠짐 보통 집지키기 뛰어남 실내외구분 실외'"
      ]
     },
     "execution_count": 15,
     "metadata": {},
     "output_type": "execute_result"
    }
   ],
   "source": [
    "dog_list[1]"
   ]
  },
  {
   "cell_type": "code",
   "execution_count": 4,
   "metadata": {},
   "outputs": [
    {
     "ename": "AttributeError",
     "evalue": "'str' object has no attribute 'text'",
     "output_type": "error",
     "traceback": [
      "\u001b[1;31m---------------------------------------------------------------------------\u001b[0m",
      "\u001b[1;31mAttributeError\u001b[0m                            Traceback (most recent call last)",
      "\u001b[1;32m<ipython-input-4-62984197360f>\u001b[0m in \u001b[0;36m<module>\u001b[1;34m\u001b[0m\n\u001b[1;32m----> 1\u001b[1;33m \u001b[0mdog\u001b[0m\u001b[1;33m[\u001b[0m\u001b[1;36m1\u001b[0m\u001b[1;33m]\u001b[0m\u001b[1;33m.\u001b[0m\u001b[0mtext\u001b[0m\u001b[1;33m\u001b[0m\u001b[1;33m\u001b[0m\u001b[0m\n\u001b[0m",
      "\u001b[1;31mAttributeError\u001b[0m: 'str' object has no attribute 'text'"
     ]
    }
   ],
   "source": [
    "dog[1].text"
   ]
  },
  {
   "cell_type": "code",
   "execution_count": null,
   "metadata": {},
   "outputs": [],
   "source": []
  },
  {
   "cell_type": "code",
   "execution_count": null,
   "metadata": {},
   "outputs": [],
   "source": [
    "dog_list"
   ]
  }
 ],
 "metadata": {
  "kernelspec": {
   "display_name": "Python 3",
   "language": "python",
   "name": "python3"
  },
  "language_info": {
   "codemirror_mode": {
    "name": "ipython",
    "version": 3
   },
   "file_extension": ".py",
   "mimetype": "text/x-python",
   "name": "python",
   "nbconvert_exporter": "python",
   "pygments_lexer": "ipython3",
   "version": "3.8.5"
  }
 },
 "nbformat": 4,
 "nbformat_minor": 4
}
