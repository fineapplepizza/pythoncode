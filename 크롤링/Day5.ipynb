{
 "cells": [
  {
   "cell_type": "markdown",
   "metadata": {},
   "source": [
    "# Gmarket 100 가져오기"
   ]
  },
  {
   "cell_type": "code",
   "execution_count": 1,
   "metadata": {},
   "outputs": [],
   "source": [
    "from selenium import webdriver as wb\n",
    "import pandas as pd\n",
    "import time"
   ]
  },
  {
   "cell_type": "code",
   "execution_count": 31,
   "metadata": {},
   "outputs": [],
   "source": []
  },
  {
   "cell_type": "code",
   "execution_count": 11,
   "metadata": {},
   "outputs": [],
   "source": [
    "\n",
    "#하나만 클릭 하기 때문에 단수 element\n",
    "# css_selector\n",
    "# 복합선택자를 통해 접근할때 쓴다.\n",
    "# 가장효율성이 좋다."
   ]
  },
  {
   "cell_type": "code",
   "execution_count": 12,
   "metadata": {},
   "outputs": [],
   "source": []
  },
  {
   "cell_type": "code",
   "execution_count": 26,
   "metadata": {},
   "outputs": [],
   "source": []
  },
  {
   "cell_type": "code",
   "execution_count": 27,
   "metadata": {},
   "outputs": [],
   "source": []
  },
  {
   "cell_type": "code",
   "execution_count": 28,
   "metadata": {},
   "outputs": [],
   "source": []
  },
  {
   "cell_type": "code",
   "execution_count": 29,
   "metadata": {},
   "outputs": [
    {
     "name": "stdout",
     "output_type": "stream",
     "text": [
      "(신세계강남점) 블랙야크키즈 역시즌 한겨울용 헤비급 야상 / 여아 롱다운자켓 3종택1 \n",
      " 69,300원 \n",
      " 유아동코트\n"
     ]
    }
   ],
   "source": []
  },
  {
   "cell_type": "code",
   "execution_count": 54,
   "metadata": {},
   "outputs": [],
   "source": [
    "options =wb.ChromeOptions()\n",
    "options.add_argument('headless')\n",
    "options.add_argument('window-size=1920x1080')\n",
    "options.add_argument('disable-gpu')\n"
   ]
  },
  {
   "cell_type": "code",
   "execution_count": 55,
   "metadata": {},
   "outputs": [
    {
     "name": "stderr",
     "output_type": "stream",
     "text": [
      "<ipython-input-55-30e9d4b2f940>:1: DeprecationWarning: use options instead of chrome_options\n",
      "  driver=wb.Chrome(\"C:/Users/SM2127/크롤링/chromedriver.exe\",chrome_options=options)\n"
     ]
    },
    {
     "data": {
      "text/html": [
       "<div>\n",
       "<style scoped>\n",
       "    .dataframe tbody tr th:only-of-type {\n",
       "        vertical-align: middle;\n",
       "    }\n",
       "\n",
       "    .dataframe tbody tr th {\n",
       "        vertical-align: top;\n",
       "    }\n",
       "\n",
       "    .dataframe thead th {\n",
       "        text-align: right;\n",
       "    }\n",
       "</style>\n",
       "<table border=\"1\" class=\"dataframe\">\n",
       "  <thead>\n",
       "    <tr style=\"text-align: right;\">\n",
       "      <th></th>\n",
       "      <th>상품명</th>\n",
       "      <th>가격</th>\n",
       "      <th>카테고리</th>\n",
       "    </tr>\n",
       "  </thead>\n",
       "  <tbody>\n",
       "    <tr>\n",
       "      <th>0</th>\n",
       "      <td>2080 히말라야 마운틴솔트 치약 핑크120gx(10+10)+짜개</td>\n",
       "      <td>16,500원</td>\n",
       "      <td>치약</td>\n",
       "    </tr>\n",
       "    <tr>\n",
       "      <th>1</th>\n",
       "      <td>브렉퍼스트 블랙커피 275mlx6캔+트레이:쿠폰가 17900원</td>\n",
       "      <td>20,900원</td>\n",
       "      <td>커피음료</td>\n",
       "    </tr>\n",
       "    <tr>\n",
       "      <th>2</th>\n",
       "      <td>참조은 성주 참외 7kg내외 실속혼합과 농할가 11230원</td>\n",
       "      <td>14,500원</td>\n",
       "      <td>참외</td>\n",
       "    </tr>\n",
       "    <tr>\n",
       "      <th>3</th>\n",
       "      <td>(신세계강남점) 블랙야크키즈 역시즌 한겨울용 헤비급 야상 / 여아 롱다운자켓 3종택1</td>\n",
       "      <td>69,300원</td>\n",
       "      <td>유아동코트</td>\n",
       "    </tr>\n",
       "    <tr>\n",
       "      <th>4</th>\n",
       "      <td>샤프란 섬유유연제 소프트코튼 용기 3.1Lx4개</td>\n",
       "      <td>10,500원</td>\n",
       "      <td>섬유유연제</td>\n",
       "    </tr>\n",
       "    <tr>\n",
       "      <th>5</th>\n",
       "      <td>농협 완숙토마토 5kg(특)/랜덤과수/고맛나루/할인9920</td>\n",
       "      <td>12,400원</td>\n",
       "      <td>토마토</td>\n",
       "    </tr>\n",
       "    <tr>\n",
       "      <th>6</th>\n",
       "      <td>베이직 고무장갑 (중) 10개+사은품 증정</td>\n",
       "      <td>16,800원</td>\n",
       "      <td>고무장갑</td>\n",
       "    </tr>\n",
       "    <tr>\n",
       "      <th>7</th>\n",
       "      <td>Zak Zoo 시리즈 8종세트 (Book+CD)</td>\n",
       "      <td>39,680원</td>\n",
       "      <td>유아/어린이</td>\n",
       "    </tr>\n",
       "    <tr>\n",
       "      <th>8</th>\n",
       "      <td>에코라믹 이든 후라이팬 1+1</td>\n",
       "      <td>13,900원</td>\n",
       "      <td>일반프라이팬</td>\n",
       "    </tr>\n",
       "    <tr>\n",
       "      <th>9</th>\n",
       "      <td>+25%쿠폰수지 화보컷 여름 신상 추가 특가전</td>\n",
       "      <td>17,000원</td>\n",
       "      <td>기본/라운드/브이넥</td>\n",
       "    </tr>\n",
       "  </tbody>\n",
       "</table>\n",
       "</div>"
      ],
      "text/plain": [
       "                                               상품명       가격        카테고리\n",
       "0             2080 히말라야 마운틴솔트 치약 핑크120gx(10+10)+짜개  16,500원          치약\n",
       "1               브렉퍼스트 블랙커피 275mlx6캔+트레이:쿠폰가 17900원  20,900원        커피음료\n",
       "2                 참조은 성주 참외 7kg내외 실속혼합과 농할가 11230원  14,500원          참외\n",
       "3  (신세계강남점) 블랙야크키즈 역시즌 한겨울용 헤비급 야상 / 여아 롱다운자켓 3종택1  69,300원       유아동코트\n",
       "4                       샤프란 섬유유연제 소프트코튼 용기 3.1Lx4개  10,500원       섬유유연제\n",
       "5                 농협 완숙토마토 5kg(특)/랜덤과수/고맛나루/할인9920  12,400원         토마토\n",
       "6                          베이직 고무장갑 (중) 10개+사은품 증정  16,800원        고무장갑\n",
       "7                       Zak Zoo 시리즈 8종세트 (Book+CD)  39,680원      유아/어린이\n",
       "8                                 에코라믹 이든 후라이팬 1+1  13,900원      일반프라이팬\n",
       "9                        +25%쿠폰수지 화보컷 여름 신상 추가 특가전  17,000원  기본/라운드/브이넥"
      ]
     },
     "execution_count": 55,
     "metadata": {},
     "output_type": "execute_result"
    }
   ],
   "source": [
    "driver=wb.Chrome(\"C:/Users/SM2127/크롤링/chromedriver.exe\",chrome_options=options)\n",
    "driver.get(\"http://corners.gmarket.co.kr/Bestsellers\")\n",
    "time.sleep(1)\n",
    "title_list=[]\n",
    "price_list=[]\n",
    "category_list=[]\n",
    "for i in range(1,11):\n",
    "    div=driver.find_element_by_css_selector(\"p#no\"+str(i)+\"+div\")\n",
    "    div.click()\n",
    "    time.sleep(1)\n",
    "    itemtitle=driver.find_element_by_css_selector(\"h1.itemtit\").text\n",
    "    itemprice=driver.find_element_by_css_selector(\"strong.price_real\").text\n",
    "    category=driver.find_element_by_css_selector(\"li.on>a\").text\n",
    "    #리스트로 가지고 온게 아닌 텍스트로만 가져와서 인덱스를 가지고 오지 않아도 된다.\n",
    "    title_list.append(itemtitle) \n",
    "    price_list.append(itemprice)\n",
    "    category_list.append(category)\n",
    "    time.sleep(1)\n",
    "    driver.back()\n",
    "    time.sleep(1)\n",
    "    #페이지 변환이나 이동있을때는 time.sleep넣기\n",
    "\n",
    "info={\"상품명\":title_list,\"가격\":price_list,\"카테고리\":category_list}\n",
    "pd.DataFrame(info)\n",
    "\n",
    "driver.quit() #종료"
   ]
  },
  {
   "cell_type": "code",
   "execution_count": 49,
   "metadata": {},
   "outputs": [
    {
     "data": {
      "text/plain": [
       "['2080 히말라야 마운틴솔트 치약 핑크120gx(10+10)+짜개',\n",
       " '브렉퍼스트 블랙커피 275mlx6캔+트레이:쿠폰가 17900원',\n",
       " '참조은 성주 참외 7kg내외 실속혼합과 농할가 11230원',\n",
       " '(신세계강남점) 블랙야크키즈 역시즌 한겨울용 헤비급 야상 / 여아 롱다운자켓 3종택1',\n",
       " '샤프란 섬유유연제 소프트코튼 용기 3.1Lx4개',\n",
       " '농협 완숙토마토 5kg(특)/랜덤과수/고맛나루/할인9920',\n",
       " '베이직 고무장갑 (중) 10개+사은품 증정',\n",
       " 'Zak Zoo 시리즈 8종세트 (Book+CD)',\n",
       " '에코라믹 이든 후라이팬 1+1',\n",
       " '+25%쿠폰수지 화보컷 여름 신상 추가 특가전']"
      ]
     },
     "execution_count": 49,
     "metadata": {},
     "output_type": "execute_result"
    }
   ],
   "source": [
    "title_list"
   ]
  },
  {
   "cell_type": "code",
   "execution_count": 51,
   "metadata": {},
   "outputs": [],
   "source": []
  },
  {
   "cell_type": "code",
   "execution_count": 52,
   "metadata": {},
   "outputs": [
    {
     "data": {
      "text/html": [
       "<div>\n",
       "<style scoped>\n",
       "    .dataframe tbody tr th:only-of-type {\n",
       "        vertical-align: middle;\n",
       "    }\n",
       "\n",
       "    .dataframe tbody tr th {\n",
       "        vertical-align: top;\n",
       "    }\n",
       "\n",
       "    .dataframe thead th {\n",
       "        text-align: right;\n",
       "    }\n",
       "</style>\n",
       "<table border=\"1\" class=\"dataframe\">\n",
       "  <thead>\n",
       "    <tr style=\"text-align: right;\">\n",
       "      <th></th>\n",
       "      <th>상품명</th>\n",
       "      <th>가격</th>\n",
       "      <th>카테고리</th>\n",
       "    </tr>\n",
       "  </thead>\n",
       "  <tbody>\n",
       "    <tr>\n",
       "      <th>0</th>\n",
       "      <td>2080 히말라야 마운틴솔트 치약 핑크120gx(10+10)+짜개</td>\n",
       "      <td>16,500원</td>\n",
       "      <td>치약</td>\n",
       "    </tr>\n",
       "    <tr>\n",
       "      <th>1</th>\n",
       "      <td>브렉퍼스트 블랙커피 275mlx6캔+트레이:쿠폰가 17900원</td>\n",
       "      <td>20,900원</td>\n",
       "      <td>커피음료</td>\n",
       "    </tr>\n",
       "    <tr>\n",
       "      <th>2</th>\n",
       "      <td>참조은 성주 참외 7kg내외 실속혼합과 농할가 11230원</td>\n",
       "      <td>14,500원</td>\n",
       "      <td>참외</td>\n",
       "    </tr>\n",
       "    <tr>\n",
       "      <th>3</th>\n",
       "      <td>(신세계강남점) 블랙야크키즈 역시즌 한겨울용 헤비급 야상 / 여아 롱다운자켓 3종택1</td>\n",
       "      <td>69,300원</td>\n",
       "      <td>유아동코트</td>\n",
       "    </tr>\n",
       "    <tr>\n",
       "      <th>4</th>\n",
       "      <td>샤프란 섬유유연제 소프트코튼 용기 3.1Lx4개</td>\n",
       "      <td>10,500원</td>\n",
       "      <td>섬유유연제</td>\n",
       "    </tr>\n",
       "    <tr>\n",
       "      <th>5</th>\n",
       "      <td>농협 완숙토마토 5kg(특)/랜덤과수/고맛나루/할인9920</td>\n",
       "      <td>12,400원</td>\n",
       "      <td>토마토</td>\n",
       "    </tr>\n",
       "    <tr>\n",
       "      <th>6</th>\n",
       "      <td>베이직 고무장갑 (중) 10개+사은품 증정</td>\n",
       "      <td>16,800원</td>\n",
       "      <td>고무장갑</td>\n",
       "    </tr>\n",
       "    <tr>\n",
       "      <th>7</th>\n",
       "      <td>Zak Zoo 시리즈 8종세트 (Book+CD)</td>\n",
       "      <td>39,680원</td>\n",
       "      <td>유아/어린이</td>\n",
       "    </tr>\n",
       "    <tr>\n",
       "      <th>8</th>\n",
       "      <td>에코라믹 이든 후라이팬 1+1</td>\n",
       "      <td>13,900원</td>\n",
       "      <td>일반프라이팬</td>\n",
       "    </tr>\n",
       "    <tr>\n",
       "      <th>9</th>\n",
       "      <td>+25%쿠폰수지 화보컷 여름 신상 추가 특가전</td>\n",
       "      <td>17,000원</td>\n",
       "      <td>기본/라운드/브이넥</td>\n",
       "    </tr>\n",
       "  </tbody>\n",
       "</table>\n",
       "</div>"
      ],
      "text/plain": [
       "                                               상품명       가격        카테고리\n",
       "0             2080 히말라야 마운틴솔트 치약 핑크120gx(10+10)+짜개  16,500원          치약\n",
       "1               브렉퍼스트 블랙커피 275mlx6캔+트레이:쿠폰가 17900원  20,900원        커피음료\n",
       "2                 참조은 성주 참외 7kg내외 실속혼합과 농할가 11230원  14,500원          참외\n",
       "3  (신세계강남점) 블랙야크키즈 역시즌 한겨울용 헤비급 야상 / 여아 롱다운자켓 3종택1  69,300원       유아동코트\n",
       "4                       샤프란 섬유유연제 소프트코튼 용기 3.1Lx4개  10,500원       섬유유연제\n",
       "5                 농협 완숙토마토 5kg(특)/랜덤과수/고맛나루/할인9920  12,400원         토마토\n",
       "6                          베이직 고무장갑 (중) 10개+사은품 증정  16,800원        고무장갑\n",
       "7                       Zak Zoo 시리즈 8종세트 (Book+CD)  39,680원      유아/어린이\n",
       "8                                 에코라믹 이든 후라이팬 1+1  13,900원      일반프라이팬\n",
       "9                        +25%쿠폰수지 화보컷 여름 신상 추가 특가전  17,000원  기본/라운드/브이넥"
      ]
     },
     "execution_count": 52,
     "metadata": {},
     "output_type": "execute_result"
    }
   ],
   "source": []
  },
  {
   "cell_type": "code",
   "execution_count": null,
   "metadata": {},
   "outputs": [],
   "source": []
  }
 ],
 "metadata": {
  "kernelspec": {
   "display_name": "Python 3",
   "language": "python",
   "name": "python3"
  },
  "language_info": {
   "codemirror_mode": {
    "name": "ipython",
    "version": 3
   },
   "file_extension": ".py",
   "mimetype": "text/x-python",
   "name": "python",
   "nbconvert_exporter": "python",
   "pygments_lexer": "ipython3",
   "version": "3.8.5"
  }
 },
 "nbformat": 4,
 "nbformat_minor": 4
}
