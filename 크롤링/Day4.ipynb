{
 "cells": [
  {
   "cell_type": "markdown",
   "metadata": {},
   "source": [
    "# 유튜브에서 영상의 제목, 조회수 크롤링"
   ]
  },
  {
   "cell_type": "code",
   "execution_count": 45,
   "metadata": {},
   "outputs": [],
   "source": [
    "from selenium import webdriver as wb\n",
    "from selenium.webdriver.common.keys import Keys\n",
    "from bs4 import BeautifulSoup as bs\n",
    "import pandas as pd\n",
    "import time"
   ]
  },
  {
   "cell_type": "code",
   "execution_count": null,
   "metadata": {},
   "outputs": [],
   "source": [
    "# 1. 크롬드라이버를 실행해서 유튜브 화면 실행\n",
    "# 2. 영상의 제목만 크롤링\n",
    "# 3. 영상의 길이를 확인,순수한 텍스트까지 출력"
   ]
  },
  {
   "cell_type": "code",
   "execution_count": 46,
   "metadata": {},
   "outputs": [],
   "source": [
    "# 1.크롬드라이벌르 실행해서 유튜브 화면 실행\n",
    "driver=wb.Chrome()\n",
    "url=\"https://www.youtube.com/results?search_query=%EC%A7%80%EA%B5%AC%EB%A5%BC+%EC%A7%80%EC%BC%9C%EC%B8%84\"\n",
    "driver.get(url)"
   ]
  },
  {
   "cell_type": "code",
   "execution_count": 41,
   "metadata": {},
   "outputs": [],
   "source": [
    "# 2. 영상의 제목만 크롤링\n",
    "\n"
   ]
  },
  {
   "cell_type": "code",
   "execution_count": 42,
   "metadata": {},
   "outputs": [],
   "source": [
    "chuu=soup.select('a#video-title')"
   ]
  },
  {
   "cell_type": "code",
   "execution_count": 43,
   "metadata": {},
   "outputs": [
    {
     "data": {
      "text/plain": [
       "62"
      ]
     },
     "execution_count": 43,
     "metadata": {},
     "output_type": "execute_result"
    }
   ],
   "source": [
    "len(chuu)"
   ]
  },
  {
   "cell_type": "code",
   "execution_count": 44,
   "metadata": {
    "collapsed": true
   },
   "outputs": [
    {
     "name": "stdout",
     "output_type": "stream",
     "text": [
      "(ENG) 인생샷 찍다가 PD언니랑 손절각...? ( ˃̣̣̥᷄⌓˂̣̣̥᷅ ) 📸 화려한 목포가 츄를 싸악 감싸네❤️| 지켜츄 EP21\n",
      "(ENG) 요즘 내 동년배들 다 파주 전망대 간다👥 망원경으로 보이는 민트 건물의 정체?! 뚜둔 | 지켜츄 EP20\n",
      "(ENG) 🚨개밥그릇🚨에 케이크 주는 곳이 있다?! 일회용품 없는 카페 알바 체험 | 지켜츄 EP1\n",
      "(ENG) 이 영상 보면 배달시키게 됨. 당연함. 🍕🍗🍔 철이 없었죠... 일회용품이 싫어서 배민라이더를 했다는 게... | 지켜츄 EP19\n",
      "(ENG) 이 세상 플라스틱 모조리 빻아버리는 K-방앗간 클라스 ㅎㄷㄷ | 지켜츄 EP5\n",
      "(ENG) 로또 용지🧾 일쓰일까? 종이일까? 헷갈리는 분리수거 시험봤습니다 | 지켜츄 EP4\n",
      "(ENG) 사주로 본 츄의 운명... 츄가 우릴 먹여 살린다고?! 🙇‍♀️(넙죽) | 지켜츄 EP16\n",
      "(ENG) 츄가 만든 비건 버거 맛없다고 한 사람? 🔫(탕!) 또 있나? | 지켜츄 EP3\n",
      "(ENG) 츄랑 쇼핑하실 분~? 명품 FLEX💸로 새학기 봄 스타일링 7가지 🌼  (feat. 프리지아) ㅣ EP11\n",
      "(ENG) 제목은 💚호불호 음료💚 리뷰로 하겠습니다 근데 이제 친환경 빨대를 곁들인...🌟 | 지켜츄 EP6\n",
      "(ENG) 그동안 사랑해주셔서 감사합니다 | 지켜츄 EP14\n",
      "(ENG) 💯츄의 레드카펫 챌린지💯 대학생 학과별 패션 정리합니다. l 오떼르 미션컴플릿츄 [Ep. 7]\n",
      "이달의소녀 츄 입덕영상\n",
      "♨핫클립♨ 아는언니高에서 전학 온 퍼포먼스 甲 멋진 언니들..♥ (feat. Tears) #아는형님 #JTBC봐야지\n",
      "(EN) 🥕 '가수 비 친필 싸인 앨범 싸게 팝니다' 이걸 파네...? ㅣ시즌비시즌 ep.30\n",
      "(ENG) 🥕당근마켓🥕에서 포카 파는 탈덕 참교육😤 츄의 매너온도에 동상 입고 갑니다... | 지켜츄 EP13\n",
      "(ENG) 실버 버튼 받았츄❤ 츄가 직접 만든 ‘지켜츄 로고송’ 大공개 (빠밤) | 지켜츄 EP9\n",
      "(ENG) 🔥테슬라🔥 살까 말까? 계좌를... 아니 환경을 지키는 전기차 타고 출근하기🚗🚕🚙  | 지켜츄 EP2\n",
      "미선을 지켜츄🌏 보스의 존맛 떡볶이 레시피 공개(빠밤) | [미선이네👩‍🍳]\n",
      "(ENG) 포카리 모델이었는데요 이제 아닙니다👋 츄 VS 포카리스웨트 500병 | 지켜츄 EP18\n",
      "[지구를 지켜츄 LIVE] 이달의 소녀 츄 - Tears (원곡 : 소찬휘)\n",
      "(ENG) 사랑스럽고 귀엽고 다 하는 츄 모음.ZIPㅣ지켜츄 EP15 미방분 하드털이\n",
      "(ENG) 동창회는 랜선으로 하세요 제발… 🚨저세상 美친 텐션🚨 [이달소 츄 x 모모랜드 주이] | 지켜츄 EP7\n",
      "(ENG) 츄, 드디어 가영이와 만났습니다... 🖐퇴사짤🖐장인들의 역사적인 만남 | 지켜츄 EP17\n",
      "(ENG) 인생샷 찍다가 PD언니랑 손절각...? ( ˃̣̣̥᷄⌓˂̣̣̥᷅ ) 📸 화려한 목포가 츄를 싸악 감싸네❤️| 지켜츄 EP21\n",
      "(ENG) 요즘 내 동년배들 다 파주 전망대 간다👥 망원경으로 보이는 민트 건물의 정체?! 뚜둔 | 지켜츄 EP20\n",
      "(ENG) 요즘 유튜브 시작 다 이렇게 한다면서요...? (feat.회의실) | 지켜츄 EP0\n",
      "지구를 지켜츄 LIVE 종방연 FULL\n",
      "지구를 지켜츄 몰아보기 통합본 (EP.1~14)\n",
      "(ENG) 츄의 첫 더빙 도전💗 정미숙, 츄 - 사랑하는 소녀 (Dear Girl)  | 지켜츄 EP17\n",
      "(ENG) 촬영장에서 츄의 모습은?! 그리고⭐️츄 찐맘 찐공개⭐️ | 지켜츄 BEHIND\n",
      "(ENG) \"내가 나를 믿어줘야 되는데...\"  조심스럽게 꺼내보는 츄의 속마음(Q&A) | 지켜츄 EP8\n",
      "이달의 소녀 츄(LOONA CHUU), 당신이 몰랐던 츄의 115가지 놀라운 정보들![ENG]\n",
      "(ENG) 츄는 슬플 때 빨래를 해...☀️ 당신의 일요일 오후는 어떤가요? | 지켜츄 EP10\n",
      "[이달의소녀 츄] 츄가 혤륨가스를 먹으면?\n",
      "[덕질=일상] 지구를 지켜츄🍓 굿즈 언박싱 | 오빛 브이로그 | 🌏지구를 지켜츄🍓\n",
      "도망치는 츄\n",
      "츄 - 지구를 지켜츄 로고송 1시간 반복\n",
      "지구를 지켜츄 반복\n",
      "(ENG) 앗뇽❤ 이달소 츄예요 ٩(ˊᗜˋ )و  츄 유튜브 드디어 오픈합니다 |  지켜츄  teaser\n",
      "[지구를 지켜츄 LIVE] 이달의 소녀 츄 - 자장가 (원곡 : 아이유)\n",
      "안녕하세요 츄예요 모음집\n",
      "[이달의소녀/츄] 지구를 지켜츄 로고송 Live.ver\n",
      "힘든 티를 못내는, 울음을 참는 착한 츄 ㅠㅠㅠ\n",
      "이달의 소녀 츄, 당신이 몰랐던 11가지 사실\n",
      "인간 사과, 이달의소녀 츄에 대한 8가지 사연\n",
      "줍깅이 하다가 화가 난 츄 😡\n",
      "날개 달고 신난 츄 #shorts\n",
      "어떻게 지구를 지켜!요오(지구를 지켜츄)\n",
      "지구를 지켜츄 비하인드\n",
      "[이달의 소녀 츄] 지구를 지켜츄 선물\n",
      "이달의소녀 츄에 대해 몰랐던 9가지 재밌는 사실들\n",
      "[이달의소녀 츄] 지구를 지키는 비트주세요(?)\n",
      "내 배경화면도 츄\n",
      "일단 만나면 입덕시키고 보는 츄\n",
      "쓰레기통 속 츄 ☺\n",
      "[이달의 소녀 츄] 지구를지켜츄  시즌 1 마지막 소감 with 언니들\n",
      "지구를 지켜츄 3화 비하인드\n",
      "[이달의 소녀/츄] 츄가 포카리스웨트 광고를 찍었다고?\n",
      "체온 재고 자랑하는 츄 😍\n",
      "이거 이거 20% 할인 남았어요!! [이달의 소녀 츄]\n",
      "북한 전공??? 그럼 북한으로 진출 하세요?! [이달의 소녀 츄]\n"
     ]
    }
   ],
   "source": [
    "for i in chuu:\n",
    "    print(i.text.strip())"
   ]
  },
  {
   "cell_type": "code",
   "execution_count": 47,
   "metadata": {},
   "outputs": [],
   "source": [
    "body=driver.find_element_by_tag_name(\"body\")"
   ]
  },
  {
   "cell_type": "code",
   "execution_count": 51,
   "metadata": {},
   "outputs": [],
   "source": [
    "body.send_keys(Keys.PAGE_DOWN)"
   ]
  },
  {
   "cell_type": "code",
   "execution_count": 52,
   "metadata": {},
   "outputs": [],
   "source": [
    "for i in range(50):\n",
    "    body.send_keys(Keys.PAGE_DOWN)\n",
    "    time.sleep(0.5)"
   ]
  },
  {
   "cell_type": "code",
   "execution_count": 53,
   "metadata": {},
   "outputs": [],
   "source": [
    "soup=bs(driver.page_source,'lxml')"
   ]
  },
  {
   "cell_type": "code",
   "execution_count": 54,
   "metadata": {},
   "outputs": [],
   "source": [
    "chuu=soup.select('a#video-title')"
   ]
  },
  {
   "cell_type": "code",
   "execution_count": 55,
   "metadata": {},
   "outputs": [
    {
     "data": {
      "text/plain": [
       "157"
      ]
     },
     "execution_count": 55,
     "metadata": {},
     "output_type": "execute_result"
    }
   ],
   "source": [
    "len(chuu)"
   ]
  },
  {
   "cell_type": "code",
   "execution_count": 58,
   "metadata": {
    "collapsed": true
   },
   "outputs": [
    {
     "data": {
      "text/plain": [
       "[<span class=\"style-scope ytd-video-meta-block\">조회수 16만회</span>,\n",
       " <span class=\"style-scope ytd-video-meta-block\">18시간 전</span>,\n",
       " <span class=\"style-scope ytd-video-meta-block\">조회수 27만회</span>,\n",
       " <span class=\"style-scope ytd-video-meta-block\">1주 전</span>,\n",
       " <span class=\"style-scope ytd-video-meta-block\">조회수 133만회</span>,\n",
       " <span class=\"style-scope ytd-video-meta-block\">4개월 전</span>,\n",
       " <span class=\"style-scope ytd-video-meta-block\">조회수 98만회</span>,\n",
       " <span class=\"style-scope ytd-video-meta-block\">3개월 전</span>,\n",
       " <span class=\"style-scope ytd-video-meta-block\">조회수 58만회</span>,\n",
       " <span class=\"style-scope ytd-video-meta-block\">2주 전</span>,\n",
       " <span class=\"style-scope ytd-video-meta-block\">조회수 58만회</span>,\n",
       " <span class=\"style-scope ytd-video-meta-block\">4개월 전</span>,\n",
       " <span class=\"style-scope ytd-video-meta-block\">조회수 33만회</span>,\n",
       " <span class=\"style-scope ytd-video-meta-block\">1개월 전</span>,\n",
       " <span class=\"style-scope ytd-video-meta-block\">조회수 75만회</span>,\n",
       " <span class=\"style-scope ytd-video-meta-block\">4개월 전</span>,\n",
       " <span class=\"style-scope ytd-video-meta-block\">조회수 240만회</span>,\n",
       " <span class=\"style-scope ytd-video-meta-block\">2개월 전</span>,\n",
       " <span class=\"style-scope ytd-video-meta-block\">조회수 101만회</span>,\n",
       " <span class=\"style-scope ytd-video-meta-block\">3개월 전</span>,\n",
       " <span class=\"style-scope ytd-video-meta-block\">조회수 107만회</span>,\n",
       " <span class=\"style-scope ytd-video-meta-block\">1개월 전</span>,\n",
       " <span class=\"style-scope ytd-video-meta-block\">조회수 40만회</span>,\n",
       " <span class=\"style-scope ytd-video-meta-block\">1개월 전</span>,\n",
       " <span class=\"style-scope ytd-video-meta-block\">조회수 147만회</span>,\n",
       " <span class=\"style-scope ytd-video-meta-block\">3개월 전</span>,\n",
       " <span class=\"style-scope ytd-video-meta-block\">조회수 74만회</span>,\n",
       " <span class=\"style-scope ytd-video-meta-block\">1년 전</span>,\n",
       " <span class=\"style-scope ytd-video-meta-block\">조회수 169만회</span>,\n",
       " <span class=\"style-scope ytd-video-meta-block\">2개월 전</span>,\n",
       " <span class=\"style-scope ytd-video-meta-block\">조회수 108만회</span>,\n",
       " <span class=\"style-scope ytd-video-meta-block\">2개월 전</span>,\n",
       " <span class=\"style-scope ytd-video-meta-block\">조회수 40만회</span>,\n",
       " <span class=\"style-scope ytd-video-meta-block\">2개월 전</span>,\n",
       " <span class=\"style-scope ytd-video-meta-block\">조회수 93만회</span>,\n",
       " <span class=\"style-scope ytd-video-meta-block\">4개월 전</span>,\n",
       " <span class=\"style-scope ytd-video-meta-block\">조회수 50만회</span>,\n",
       " <span class=\"style-scope ytd-video-meta-block\">1개월 전</span>,\n",
       " <span class=\"style-scope ytd-video-meta-block\">조회수 102만회</span>,\n",
       " <span class=\"style-scope ytd-video-meta-block\">3주 전</span>,\n",
       " <span class=\"style-scope ytd-video-meta-block\">조회수 16만회</span>,\n",
       " <span class=\"style-scope ytd-video-meta-block\">1개월 전</span>,\n",
       " <span class=\"style-scope ytd-video-meta-block\">조회수 50만회</span>,\n",
       " <span class=\"style-scope ytd-video-meta-block\">1개월 전</span>,\n",
       " <span class=\"style-scope ytd-video-meta-block\">조회수 93만회</span>,\n",
       " <span class=\"style-scope ytd-video-meta-block\">3개월 전</span>,\n",
       " <span class=\"style-scope ytd-video-meta-block\">조회수 64만회</span>,\n",
       " <span class=\"style-scope ytd-video-meta-block\">4주 전</span>,\n",
       " <span class=\"style-scope ytd-video-meta-block\">조회수 16만회</span>,\n",
       " <span class=\"style-scope ytd-video-meta-block\">18시간 전</span>,\n",
       " <span class=\"style-scope ytd-video-meta-block\">조회수 27만회</span>,\n",
       " <span class=\"style-scope ytd-video-meta-block\">1주 전</span>,\n",
       " <span class=\"style-scope ytd-video-meta-block\">조회수 33만회</span>,\n",
       " <span class=\"style-scope ytd-video-meta-block\">2개월 전</span>,\n",
       " <span class=\"style-scope ytd-video-meta-block\">조회수 59만회</span>,\n",
       " <span class=\"style-scope ytd-video-meta-block\">2개월 전</span>,\n",
       " <span class=\"style-scope ytd-video-meta-block\">조회수 155회</span>,\n",
       " <span class=\"style-scope ytd-video-meta-block\">3주 전</span>,\n",
       " <span class=\"style-scope ytd-video-meta-block\">조회수 69만회</span>,\n",
       " <span class=\"style-scope ytd-video-meta-block\">3개월 전</span>,\n",
       " <span class=\"style-scope ytd-video-meta-block\">조회수 2만회</span>,\n",
       " <span class=\"style-scope ytd-video-meta-block\">1개월 전</span>,\n",
       " <span class=\"style-scope ytd-video-meta-block\">조회수 78만회</span>,\n",
       " <span class=\"style-scope ytd-video-meta-block\">2개월 전</span>,\n",
       " <span class=\"style-scope ytd-video-meta-block\">조회수 23만회</span>,\n",
       " <span class=\"style-scope ytd-video-meta-block\">4주 전</span>,\n",
       " <span class=\"style-scope ytd-video-meta-block\">조회수 35만회</span>,\n",
       " <span class=\"style-scope ytd-video-meta-block\">2개월 전</span>,\n",
       " <span class=\"style-scope ytd-video-meta-block\">조회수 4.5천회</span>,\n",
       " <span class=\"style-scope ytd-video-meta-block\">2개월 전</span>,\n",
       " <span class=\"style-scope ytd-video-meta-block\">조회수 47만회</span>,\n",
       " <span class=\"style-scope ytd-video-meta-block\">5개월 전</span>,\n",
       " <span class=\"style-scope ytd-video-meta-block\">조회수 16만회</span>,\n",
       " <span class=\"style-scope ytd-video-meta-block\">2개월 전</span>,\n",
       " <span class=\"style-scope ytd-video-meta-block\">조회수 5.4천회</span>,\n",
       " <span class=\"style-scope ytd-video-meta-block\">3주 전</span>,\n",
       " <span class=\"style-scope ytd-video-meta-block\">업데이트: 오늘</span>,\n",
       " <span class=\"style-scope ytd-video-meta-block\">조회수 32만회</span>,\n",
       " <span class=\"style-scope ytd-video-meta-block\">2개월 전</span>,\n",
       " <span class=\"style-scope ytd-video-meta-block\">조회수 5.6만회</span>,\n",
       " <span class=\"style-scope ytd-video-meta-block\">2개월 전</span>,\n",
       " <span class=\"style-scope ytd-video-meta-block\">조회수 70회</span>,\n",
       " <span class=\"style-scope ytd-video-meta-block\">2일 전</span>,\n",
       " <span class=\"style-scope ytd-video-meta-block\">조회수 3.8천회</span>,\n",
       " <span class=\"style-scope ytd-video-meta-block\">1개월 전</span>,\n",
       " <span class=\"style-scope ytd-video-meta-block\">조회수 3만회</span>,\n",
       " <span class=\"style-scope ytd-video-meta-block\">3개월 전</span>,\n",
       " <span class=\"style-scope ytd-video-meta-block\">조회수 3.4천회</span>,\n",
       " <span class=\"style-scope ytd-video-meta-block\">1개월 전</span>,\n",
       " <span class=\"style-scope ytd-video-meta-block\">조회수 3.2천회</span>,\n",
       " <span class=\"style-scope ytd-video-meta-block\">2주 전</span>,\n",
       " <span class=\"style-scope ytd-video-meta-block\">조회수 8.2만회</span>,\n",
       " <span class=\"style-scope ytd-video-meta-block\">4주 전</span>,\n",
       " <span class=\"style-scope ytd-video-meta-block\">조회수 2.6천회</span>,\n",
       " <span class=\"style-scope ytd-video-meta-block\">1개월 전</span>,\n",
       " <span class=\"style-scope ytd-video-meta-block\">조회수 847회</span>,\n",
       " <span class=\"style-scope ytd-video-meta-block\">16시간 전</span>,\n",
       " <span class=\"style-scope ytd-video-meta-block\">조회수 18만회</span>,\n",
       " <span class=\"style-scope ytd-video-meta-block\">2주 전</span>,\n",
       " <span class=\"style-scope ytd-video-meta-block\">조회수 388회</span>,\n",
       " <span class=\"style-scope ytd-video-meta-block\">3개월 전</span>,\n",
       " <span class=\"style-scope ytd-video-meta-block\">조회수 6.5만회</span>,\n",
       " <span class=\"style-scope ytd-video-meta-block\">5일 전</span>,\n",
       " <span class=\"style-scope ytd-video-meta-block\">조회수 2.4만회</span>,\n",
       " <span class=\"style-scope ytd-video-meta-block\">3개월 전</span>,\n",
       " <span class=\"style-scope ytd-video-meta-block\">조회수 5.9천회</span>,\n",
       " <span class=\"style-scope ytd-video-meta-block\">5개월 전</span>,\n",
       " <span class=\"style-scope ytd-video-meta-block\">조회수 3.1만회</span>,\n",
       " <span class=\"style-scope ytd-video-meta-block\">2개월 전</span>,\n",
       " <span class=\"style-scope ytd-video-meta-block\">조회수 1.1천회</span>,\n",
       " <span class=\"style-scope ytd-video-meta-block\">1일 전</span>,\n",
       " <span class=\"style-scope ytd-video-meta-block\">조회수 5.8만회</span>,\n",
       " <span class=\"style-scope ytd-video-meta-block\">3개월 전</span>,\n",
       " <span class=\"style-scope ytd-video-meta-block\">조회수 4.2만회</span>,\n",
       " <span class=\"style-scope ytd-video-meta-block\">3주 전</span>,\n",
       " <span class=\"style-scope ytd-video-meta-block\">조회수 702회</span>,\n",
       " <span class=\"style-scope ytd-video-meta-block\">1개월 전</span>,\n",
       " <span class=\"style-scope ytd-video-meta-block\">조회수 3.1천회</span>,\n",
       " <span class=\"style-scope ytd-video-meta-block\">4개월 전</span>,\n",
       " <span class=\"style-scope ytd-video-meta-block\">조회수 17만회</span>,\n",
       " <span class=\"style-scope ytd-video-meta-block\">2개월 전</span>,\n",
       " <span class=\"style-scope ytd-video-meta-block\">조회수 7.7천회</span>,\n",
       " <span class=\"style-scope ytd-video-meta-block\">1개월 전</span>,\n",
       " <span class=\"style-scope ytd-video-meta-block\">조회수 40만회</span>,\n",
       " <span class=\"style-scope ytd-video-meta-block\">1주 전</span>,\n",
       " <span class=\"style-scope ytd-video-meta-block\">조회수 3.8만회</span>,\n",
       " <span class=\"style-scope ytd-video-meta-block\">1주 전</span>,\n",
       " <span class=\"style-scope ytd-video-meta-block\">조회수 943회</span>,\n",
       " <span class=\"style-scope ytd-video-meta-block\">3개월 전</span>,\n",
       " <span class=\"style-scope ytd-video-meta-block\">조회수 11만회</span>,\n",
       " <span class=\"style-scope ytd-video-meta-block\">2주 전</span>,\n",
       " <span class=\"style-scope ytd-video-meta-block\">조회수 19만회</span>,\n",
       " <span class=\"style-scope ytd-video-meta-block\">2개월 전</span>,\n",
       " <span class=\"style-scope ytd-video-meta-block\">조회수 7.6천회</span>,\n",
       " <span class=\"style-scope ytd-video-meta-block\">1주 전</span>,\n",
       " <span class=\"style-scope ytd-video-meta-block\">조회수 1.6만회</span>,\n",
       " <span class=\"style-scope ytd-video-meta-block\">1주 전</span>,\n",
       " <span class=\"style-scope ytd-video-meta-block\">조회수 25만회</span>,\n",
       " <span class=\"style-scope ytd-video-meta-block\">4개월 전</span>,\n",
       " <span class=\"style-scope ytd-video-meta-block\">조회수 242회</span>,\n",
       " <span class=\"style-scope ytd-video-meta-block\">3주 전</span>,\n",
       " <span class=\"style-scope ytd-video-meta-block\">조회수 125회</span>,\n",
       " <span class=\"style-scope ytd-video-meta-block\">1개월 전</span>,\n",
       " <span class=\"style-scope ytd-video-meta-block\">조회수 5.2만회</span>,\n",
       " <span class=\"style-scope ytd-video-meta-block\">6일 전</span>,\n",
       " <span class=\"style-scope ytd-video-meta-block\">조회수 6.1천회</span>,\n",
       " <span class=\"style-scope ytd-video-meta-block\">1개월 전</span>,\n",
       " <span class=\"style-scope ytd-video-meta-block\">조회수 114회</span>,\n",
       " <span class=\"style-scope ytd-video-meta-block\">4개월 전</span>,\n",
       " <span class=\"style-scope ytd-video-meta-block\">조회수 172회</span>,\n",
       " <span class=\"style-scope ytd-video-meta-block\">2개월 전</span>,\n",
       " <span class=\"style-scope ytd-video-meta-block\">조회수 4회</span>,\n",
       " <span class=\"style-scope ytd-video-meta-block\">2주 전</span>,\n",
       " <span class=\"style-scope ytd-video-meta-block\">조회수 1.8만회</span>,\n",
       " <span class=\"style-scope ytd-video-meta-block\">1일 전</span>,\n",
       " <span class=\"style-scope ytd-video-meta-block\">조회수 1.4천회</span>,\n",
       " <span class=\"style-scope ytd-video-meta-block\">3주 전</span>,\n",
       " <span class=\"style-scope ytd-video-meta-block\">조회수 2.3만회</span>,\n",
       " <span class=\"style-scope ytd-video-meta-block\">2주 전</span>,\n",
       " <span class=\"style-scope ytd-video-meta-block\">조회수 53회</span>,\n",
       " <span class=\"style-scope ytd-video-meta-block\">3주 전</span>,\n",
       " <span class=\"style-scope ytd-video-meta-block\">조회수 921회</span>,\n",
       " <span class=\"style-scope ytd-video-meta-block\">1주 전</span>,\n",
       " <span class=\"style-scope ytd-video-meta-block\">조회수 205회</span>,\n",
       " <span class=\"style-scope ytd-video-meta-block\">2개월 전</span>,\n",
       " <span class=\"style-scope ytd-video-meta-block\">조회수 1.5천회</span>,\n",
       " <span class=\"style-scope ytd-video-meta-block\">1개월 전</span>,\n",
       " <span class=\"style-scope ytd-video-meta-block\">조회수 7.5천회</span>,\n",
       " <span class=\"style-scope ytd-video-meta-block\">1개월 전</span>,\n",
       " <span class=\"style-scope ytd-video-meta-block\">조회수 365회</span>,\n",
       " <span class=\"style-scope ytd-video-meta-block\">3개월 전</span>,\n",
       " <span class=\"style-scope ytd-video-meta-block\">조회수 40만회</span>,\n",
       " <span class=\"style-scope ytd-video-meta-block\">1개월 전</span>,\n",
       " <span class=\"style-scope ytd-video-meta-block\">조회수 263회</span>,\n",
       " <span class=\"style-scope ytd-video-meta-block\">3주 전</span>,\n",
       " <span class=\"style-scope ytd-video-meta-block\">조회수 16만회</span>,\n",
       " <span class=\"style-scope ytd-video-meta-block\">1개월 전</span>,\n",
       " <span class=\"style-scope ytd-video-meta-block\">조회수 4.6만회</span>,\n",
       " <span class=\"style-scope ytd-video-meta-block\">2개월 전</span>,\n",
       " <span class=\"style-scope ytd-video-meta-block\">조회수 12만회</span>,\n",
       " <span class=\"style-scope ytd-video-meta-block\">1주 전</span>,\n",
       " <span class=\"style-scope ytd-video-meta-block\">조회수 147만회</span>,\n",
       " <span class=\"style-scope ytd-video-meta-block\">3개월 전</span>,\n",
       " <span class=\"style-scope ytd-video-meta-block\">조회수 831회</span>,\n",
       " <span class=\"style-scope ytd-video-meta-block\">1개월 전</span>,\n",
       " <span class=\"style-scope ytd-video-meta-block\">조회수 182만회</span>,\n",
       " <span class=\"style-scope ytd-video-meta-block\">1년 전</span>,\n",
       " <span class=\"style-scope ytd-video-meta-block\">조회수 2.2만회</span>,\n",
       " <span class=\"style-scope ytd-video-meta-block\">1주 전</span>,\n",
       " <span class=\"style-scope ytd-video-meta-block\">조회수 407회</span>,\n",
       " <span class=\"style-scope ytd-video-meta-block\">1개월 전</span>,\n",
       " <span class=\"style-scope ytd-video-meta-block\">업데이트: 오늘</span>,\n",
       " <span class=\"style-scope ytd-video-meta-block\">조회수 21회</span>,\n",
       " <span class=\"style-scope ytd-video-meta-block\">1개월 전</span>,\n",
       " <span class=\"style-scope ytd-video-meta-block\">조회수 196회</span>,\n",
       " <span class=\"style-scope ytd-video-meta-block\">2개월 전</span>,\n",
       " <span class=\"style-scope ytd-video-meta-block\">조회수 129만회</span>,\n",
       " <span class=\"style-scope ytd-video-meta-block\">6일 전</span>,\n",
       " <span class=\"style-scope ytd-video-meta-block\">업데이트: 6일 전</span>,\n",
       " <span class=\"style-scope ytd-video-meta-block\">조회수 1.9만회</span>,\n",
       " <span class=\"style-scope ytd-video-meta-block\">1일 전</span>,\n",
       " <span class=\"style-scope ytd-video-meta-block\">조회수 12만회</span>,\n",
       " <span class=\"style-scope ytd-video-meta-block\">1주 전</span>,\n",
       " <span class=\"style-scope ytd-video-meta-block\">조회수 1.8천회</span>,\n",
       " <span class=\"style-scope ytd-video-meta-block\">3개월 전</span>,\n",
       " <span class=\"style-scope ytd-video-meta-block\">조회수 4.1만회</span>,\n",
       " <span class=\"style-scope ytd-video-meta-block\">1주 전</span>,\n",
       " <span class=\"style-scope ytd-video-meta-block\">조회수 1.6천회</span>,\n",
       " <span class=\"style-scope ytd-video-meta-block\">1개월 전</span>,\n",
       " <span class=\"style-scope ytd-video-meta-block\">조회수 28만회</span>,\n",
       " <span class=\"style-scope ytd-video-meta-block\">1개월 전</span>,\n",
       " <span class=\"style-scope ytd-video-meta-block\">조회수 217회</span>,\n",
       " <span class=\"style-scope ytd-video-meta-block\">2개월 전</span>,\n",
       " <span class=\"style-scope ytd-video-meta-block\">조회수 165회</span>,\n",
       " <span class=\"style-scope ytd-video-meta-block\">3개월 전</span>,\n",
       " <span class=\"style-scope ytd-video-meta-block\">조회수 1.3만회</span>,\n",
       " <span class=\"style-scope ytd-video-meta-block\">2주 전</span>,\n",
       " <span class=\"style-scope ytd-video-meta-block\">조회수 51만회</span>,\n",
       " <span class=\"style-scope ytd-video-meta-block\">2개월 전</span>,\n",
       " <span class=\"style-scope ytd-video-meta-block\">조회수 107회</span>,\n",
       " <span class=\"style-scope ytd-video-meta-block\">2개월 전</span>,\n",
       " <span class=\"style-scope ytd-video-meta-block\">조회수 16만회</span>,\n",
       " <span class=\"style-scope ytd-video-meta-block\">1주 전</span>,\n",
       " <span class=\"style-scope ytd-video-meta-block\">조회수 9.3만회</span>,\n",
       " <span class=\"style-scope ytd-video-meta-block\">1주 전</span>,\n",
       " <span class=\"style-scope ytd-video-meta-block\">조회수 430회</span>,\n",
       " <span class=\"style-scope ytd-video-meta-block\">2주 전</span>,\n",
       " <span class=\"style-scope ytd-video-meta-block\">조회수 2.1천회</span>,\n",
       " <span class=\"style-scope ytd-video-meta-block\">1주 전</span>,\n",
       " <span class=\"style-scope ytd-video-meta-block\">조회수 5.4천회</span>,\n",
       " <span class=\"style-scope ytd-video-meta-block\">1개월 전</span>,\n",
       " <span class=\"style-scope ytd-video-meta-block\">조회수 169만회</span>,\n",
       " <span class=\"style-scope ytd-video-meta-block\">2개월 전</span>,\n",
       " <span class=\"style-scope ytd-video-meta-block\">조회수 73만회</span>,\n",
       " <span class=\"style-scope ytd-video-meta-block\">1개월 전</span>,\n",
       " <span class=\"style-scope ytd-video-meta-block\">조회수 55만회</span>,\n",
       " <span class=\"style-scope ytd-video-meta-block\">1주 전</span>,\n",
       " <span class=\"style-scope ytd-video-meta-block\">조회수 6만회</span>,\n",
       " <span class=\"style-scope ytd-video-meta-block\">1주 전</span>,\n",
       " <span class=\"style-scope ytd-video-meta-block\">조회수 1천회</span>,\n",
       " <span class=\"style-scope ytd-video-meta-block\">4개월 전</span>,\n",
       " <span class=\"style-scope ytd-video-meta-block\">조회수 42만회</span>,\n",
       " <span class=\"style-scope ytd-video-meta-block\">1개월 전</span>,\n",
       " <span class=\"style-scope ytd-video-meta-block\">조회수 534회</span>,\n",
       " <span class=\"style-scope ytd-video-meta-block\">1개월 전</span>,\n",
       " <span class=\"style-scope ytd-video-meta-block\">조회수 91만회</span>,\n",
       " <span class=\"style-scope ytd-video-meta-block\">2개월 전</span>,\n",
       " <span class=\"style-scope ytd-video-meta-block\">조회수 4.9천회</span>,\n",
       " <span class=\"style-scope ytd-video-meta-block\">3개월 전</span>,\n",
       " <span class=\"style-scope ytd-video-meta-block\">조회수 1.3만회</span>,\n",
       " <span class=\"style-scope ytd-video-meta-block\">2개월 전</span>,\n",
       " <span class=\"style-scope ytd-video-meta-block\">조회수 617회</span>,\n",
       " <span class=\"style-scope ytd-video-meta-block\">2개월 전</span>,\n",
       " <span class=\"style-scope ytd-video-meta-block\">조회수 6.8만회</span>,\n",
       " <span class=\"style-scope ytd-video-meta-block\">1주 전</span>,\n",
       " <span class=\"style-scope ytd-video-meta-block\">조회수 444회</span>,\n",
       " <span class=\"style-scope ytd-video-meta-block\">2개월 전</span>,\n",
       " <span class=\"style-scope ytd-video-meta-block\">조회수 2.3만회</span>,\n",
       " <span class=\"style-scope ytd-video-meta-block\">1개월 전</span>,\n",
       " <span class=\"style-scope ytd-video-meta-block\">조회수 35만회</span>,\n",
       " <span class=\"style-scope ytd-video-meta-block\">1개월 전</span>,\n",
       " <span class=\"style-scope ytd-video-meta-block\">조회수 1.2만회</span>,\n",
       " <span class=\"style-scope ytd-video-meta-block\">1주 전</span>,\n",
       " <span class=\"style-scope ytd-video-meta-block\">조회수 403회</span>,\n",
       " <span class=\"style-scope ytd-video-meta-block\">1개월 전</span>,\n",
       " <span class=\"style-scope ytd-video-meta-block\">조회수 20만회</span>,\n",
       " <span class=\"style-scope ytd-video-meta-block\">3주 전</span>,\n",
       " <span class=\"style-scope ytd-video-meta-block\">조회수 4.7천회</span>,\n",
       " <span class=\"style-scope ytd-video-meta-block\">3주 전</span>,\n",
       " <span class=\"style-scope ytd-video-meta-block\">조회수 16만회</span>,\n",
       " <span class=\"style-scope ytd-video-meta-block\">1주 전</span>,\n",
       " <span class=\"style-scope ytd-video-meta-block\">조회수 56만회</span>,\n",
       " <span class=\"style-scope ytd-video-meta-block\">1개월 전</span>,\n",
       " <span class=\"style-scope ytd-video-meta-block\">업데이트: 오늘</span>,\n",
       " <span class=\"style-scope ytd-video-meta-block\">조회수 10회</span>,\n",
       " <span class=\"style-scope ytd-video-meta-block\">1주 전</span>,\n",
       " <span class=\"style-scope ytd-video-meta-block\">조회수 8.6만회</span>,\n",
       " <span class=\"style-scope ytd-video-meta-block\">1개월 전</span>,\n",
       " <span class=\"style-scope ytd-video-meta-block\">조회수 18만회</span>,\n",
       " <span class=\"style-scope ytd-video-meta-block\">3개월 전</span>,\n",
       " <span class=\"style-scope ytd-video-meta-block\">조회수 52만회</span>,\n",
       " <span class=\"style-scope ytd-video-meta-block\">5일 전</span>,\n",
       " <span class=\"style-scope ytd-video-meta-block\">조회수 9.1만회</span>,\n",
       " <span class=\"style-scope ytd-video-meta-block\">2개월 전</span>,\n",
       " <span class=\"style-scope ytd-video-meta-block\">조회수 17만회</span>,\n",
       " <span class=\"style-scope ytd-video-meta-block\">1개월 전</span>,\n",
       " <span class=\"style-scope ytd-video-meta-block\">조회수 42만회</span>,\n",
       " <span class=\"style-scope ytd-video-meta-block\">1개월 전</span>,\n",
       " <span class=\"style-scope ytd-video-meta-block\">조회수 1.1천회</span>,\n",
       " <span class=\"style-scope ytd-video-meta-block\">3개월 전</span>,\n",
       " <span class=\"style-scope ytd-video-meta-block\">조회수 1천회</span>,\n",
       " <span class=\"style-scope ytd-video-meta-block\">4개월 전</span>,\n",
       " <span class=\"style-scope ytd-video-meta-block\">조회수 4.8천회</span>,\n",
       " <span class=\"style-scope ytd-video-meta-block\">3개월 전</span>,\n",
       " <span class=\"style-scope ytd-video-meta-block\">조회수 1회</span>,\n",
       " <span class=\"style-scope ytd-video-meta-block\">3주 전</span>,\n",
       " <span class=\"style-scope ytd-video-meta-block\">조회수 10만회</span>,\n",
       " <span class=\"style-scope ytd-video-meta-block\">2개월 전</span>,\n",
       " <span class=\"style-scope ytd-video-meta-block\">조회수 3.7천회</span>,\n",
       " <span class=\"style-scope ytd-video-meta-block\">1일 전</span>,\n",
       " <span class=\"style-scope ytd-video-meta-block\">조회수 2.6천회</span>,\n",
       " <span class=\"style-scope ytd-video-meta-block\">1개월 전</span>,\n",
       " <span class=\"style-scope ytd-video-meta-block\">조회수 8.3만회</span>,\n",
       " <span class=\"style-scope ytd-video-meta-block\">1개월 전</span>,\n",
       " <span class=\"style-scope ytd-video-meta-block\">조회수 1.1천회</span>,\n",
       " <span class=\"style-scope ytd-video-meta-block\">3주 전</span>,\n",
       " <span class=\"style-scope ytd-video-meta-block\">조회수 7.6천회</span>,\n",
       " <span class=\"style-scope ytd-video-meta-block\">3주 전</span>,\n",
       " <span class=\"style-scope ytd-video-meta-block\">조회수 7.6만회</span>,\n",
       " <span class=\"style-scope ytd-video-meta-block\">4주 전</span>,\n",
       " <span class=\"style-scope ytd-video-meta-block\">조회수 54만회</span>,\n",
       " <span class=\"style-scope ytd-video-meta-block\">1개월 전</span>,\n",
       " <span class=\"style-scope ytd-video-meta-block\">조회수 281만회</span>,\n",
       " <span class=\"style-scope ytd-video-meta-block\">1개월 전</span>,\n",
       " <span class=\"style-scope ytd-video-meta-block\">조회수 147회</span>,\n",
       " <span class=\"style-scope ytd-video-meta-block\">2개월 전</span>,\n",
       " <span class=\"style-scope ytd-video-meta-block\">업데이트: 오늘</span>,\n",
       " <span class=\"style-scope ytd-video-meta-block\">조회수 38만회</span>,\n",
       " <span class=\"style-scope ytd-video-meta-block\">1개월 전</span>]"
      ]
     },
     "execution_count": 58,
     "metadata": {},
     "output_type": "execute_result"
    }
   ],
   "source": [
    "# 조회수 크롤링\n",
    "soup.select(\"span.style-scope.ytd-video-meta-block\")"
   ]
  },
  {
   "cell_type": "code",
   "execution_count": 60,
   "metadata": {
    "collapsed": true
   },
   "outputs": [
    {
     "data": {
      "text/plain": [
       "[<span class=\"style-scope ytd-video-meta-block\">조회수 16만회</span>,\n",
       " <span class=\"style-scope ytd-video-meta-block\">조회수 27만회</span>,\n",
       " <span class=\"style-scope ytd-video-meta-block\">조회수 133만회</span>,\n",
       " <span class=\"style-scope ytd-video-meta-block\">조회수 98만회</span>,\n",
       " <span class=\"style-scope ytd-video-meta-block\">조회수 58만회</span>,\n",
       " <span class=\"style-scope ytd-video-meta-block\">조회수 58만회</span>,\n",
       " <span class=\"style-scope ytd-video-meta-block\">조회수 33만회</span>,\n",
       " <span class=\"style-scope ytd-video-meta-block\">조회수 75만회</span>,\n",
       " <span class=\"style-scope ytd-video-meta-block\">조회수 240만회</span>,\n",
       " <span class=\"style-scope ytd-video-meta-block\">조회수 101만회</span>,\n",
       " <span class=\"style-scope ytd-video-meta-block\">조회수 107만회</span>,\n",
       " <span class=\"style-scope ytd-video-meta-block\">조회수 40만회</span>,\n",
       " <span class=\"style-scope ytd-video-meta-block\">조회수 147만회</span>,\n",
       " <span class=\"style-scope ytd-video-meta-block\">조회수 74만회</span>,\n",
       " <span class=\"style-scope ytd-video-meta-block\">조회수 169만회</span>,\n",
       " <span class=\"style-scope ytd-video-meta-block\">조회수 108만회</span>,\n",
       " <span class=\"style-scope ytd-video-meta-block\">조회수 40만회</span>,\n",
       " <span class=\"style-scope ytd-video-meta-block\">조회수 93만회</span>,\n",
       " <span class=\"style-scope ytd-video-meta-block\">조회수 50만회</span>,\n",
       " <span class=\"style-scope ytd-video-meta-block\">조회수 102만회</span>,\n",
       " <span class=\"style-scope ytd-video-meta-block\">조회수 16만회</span>,\n",
       " <span class=\"style-scope ytd-video-meta-block\">조회수 50만회</span>,\n",
       " <span class=\"style-scope ytd-video-meta-block\">조회수 93만회</span>,\n",
       " <span class=\"style-scope ytd-video-meta-block\">조회수 64만회</span>,\n",
       " <span class=\"style-scope ytd-video-meta-block\">조회수 16만회</span>,\n",
       " <span class=\"style-scope ytd-video-meta-block\">조회수 27만회</span>,\n",
       " <span class=\"style-scope ytd-video-meta-block\">조회수 33만회</span>,\n",
       " <span class=\"style-scope ytd-video-meta-block\">조회수 59만회</span>,\n",
       " <span class=\"style-scope ytd-video-meta-block\">조회수 155회</span>,\n",
       " <span class=\"style-scope ytd-video-meta-block\">조회수 69만회</span>,\n",
       " <span class=\"style-scope ytd-video-meta-block\">조회수 2만회</span>,\n",
       " <span class=\"style-scope ytd-video-meta-block\">조회수 78만회</span>,\n",
       " <span class=\"style-scope ytd-video-meta-block\">조회수 23만회</span>,\n",
       " <span class=\"style-scope ytd-video-meta-block\">조회수 35만회</span>,\n",
       " <span class=\"style-scope ytd-video-meta-block\">조회수 4.5천회</span>,\n",
       " <span class=\"style-scope ytd-video-meta-block\">조회수 47만회</span>,\n",
       " <span class=\"style-scope ytd-video-meta-block\">조회수 16만회</span>,\n",
       " <span class=\"style-scope ytd-video-meta-block\">조회수 5.4천회</span>,\n",
       " <span class=\"style-scope ytd-video-meta-block\">업데이트: 오늘</span>,\n",
       " <span class=\"style-scope ytd-video-meta-block\">조회수 32만회</span>,\n",
       " <span class=\"style-scope ytd-video-meta-block\">조회수 5.6만회</span>,\n",
       " <span class=\"style-scope ytd-video-meta-block\">조회수 70회</span>,\n",
       " <span class=\"style-scope ytd-video-meta-block\">조회수 3.8천회</span>,\n",
       " <span class=\"style-scope ytd-video-meta-block\">조회수 3만회</span>,\n",
       " <span class=\"style-scope ytd-video-meta-block\">조회수 3.4천회</span>,\n",
       " <span class=\"style-scope ytd-video-meta-block\">조회수 3.2천회</span>,\n",
       " <span class=\"style-scope ytd-video-meta-block\">조회수 8.2만회</span>,\n",
       " <span class=\"style-scope ytd-video-meta-block\">조회수 2.6천회</span>,\n",
       " <span class=\"style-scope ytd-video-meta-block\">조회수 847회</span>,\n",
       " <span class=\"style-scope ytd-video-meta-block\">조회수 18만회</span>,\n",
       " <span class=\"style-scope ytd-video-meta-block\">조회수 388회</span>,\n",
       " <span class=\"style-scope ytd-video-meta-block\">조회수 6.5만회</span>,\n",
       " <span class=\"style-scope ytd-video-meta-block\">조회수 2.4만회</span>,\n",
       " <span class=\"style-scope ytd-video-meta-block\">조회수 5.9천회</span>,\n",
       " <span class=\"style-scope ytd-video-meta-block\">조회수 3.1만회</span>,\n",
       " <span class=\"style-scope ytd-video-meta-block\">조회수 1.1천회</span>,\n",
       " <span class=\"style-scope ytd-video-meta-block\">조회수 5.8만회</span>,\n",
       " <span class=\"style-scope ytd-video-meta-block\">조회수 4.2만회</span>,\n",
       " <span class=\"style-scope ytd-video-meta-block\">조회수 702회</span>,\n",
       " <span class=\"style-scope ytd-video-meta-block\">조회수 3.1천회</span>,\n",
       " <span class=\"style-scope ytd-video-meta-block\">조회수 17만회</span>,\n",
       " <span class=\"style-scope ytd-video-meta-block\">조회수 7.7천회</span>,\n",
       " <span class=\"style-scope ytd-video-meta-block\">조회수 40만회</span>,\n",
       " <span class=\"style-scope ytd-video-meta-block\">조회수 3.8만회</span>,\n",
       " <span class=\"style-scope ytd-video-meta-block\">조회수 943회</span>,\n",
       " <span class=\"style-scope ytd-video-meta-block\">조회수 11만회</span>,\n",
       " <span class=\"style-scope ytd-video-meta-block\">조회수 19만회</span>,\n",
       " <span class=\"style-scope ytd-video-meta-block\">조회수 7.6천회</span>,\n",
       " <span class=\"style-scope ytd-video-meta-block\">조회수 1.6만회</span>,\n",
       " <span class=\"style-scope ytd-video-meta-block\">조회수 25만회</span>,\n",
       " <span class=\"style-scope ytd-video-meta-block\">조회수 242회</span>,\n",
       " <span class=\"style-scope ytd-video-meta-block\">조회수 125회</span>,\n",
       " <span class=\"style-scope ytd-video-meta-block\">조회수 5.2만회</span>,\n",
       " <span class=\"style-scope ytd-video-meta-block\">조회수 6.1천회</span>,\n",
       " <span class=\"style-scope ytd-video-meta-block\">조회수 114회</span>,\n",
       " <span class=\"style-scope ytd-video-meta-block\">조회수 172회</span>,\n",
       " <span class=\"style-scope ytd-video-meta-block\">조회수 4회</span>,\n",
       " <span class=\"style-scope ytd-video-meta-block\">조회수 1.8만회</span>,\n",
       " <span class=\"style-scope ytd-video-meta-block\">조회수 1.4천회</span>,\n",
       " <span class=\"style-scope ytd-video-meta-block\">조회수 2.3만회</span>,\n",
       " <span class=\"style-scope ytd-video-meta-block\">조회수 53회</span>,\n",
       " <span class=\"style-scope ytd-video-meta-block\">조회수 921회</span>,\n",
       " <span class=\"style-scope ytd-video-meta-block\">조회수 205회</span>,\n",
       " <span class=\"style-scope ytd-video-meta-block\">조회수 1.5천회</span>,\n",
       " <span class=\"style-scope ytd-video-meta-block\">조회수 7.5천회</span>,\n",
       " <span class=\"style-scope ytd-video-meta-block\">조회수 365회</span>,\n",
       " <span class=\"style-scope ytd-video-meta-block\">조회수 40만회</span>,\n",
       " <span class=\"style-scope ytd-video-meta-block\">조회수 263회</span>,\n",
       " <span class=\"style-scope ytd-video-meta-block\">조회수 16만회</span>,\n",
       " <span class=\"style-scope ytd-video-meta-block\">조회수 4.6만회</span>,\n",
       " <span class=\"style-scope ytd-video-meta-block\">조회수 12만회</span>,\n",
       " <span class=\"style-scope ytd-video-meta-block\">조회수 147만회</span>,\n",
       " <span class=\"style-scope ytd-video-meta-block\">조회수 831회</span>,\n",
       " <span class=\"style-scope ytd-video-meta-block\">조회수 182만회</span>,\n",
       " <span class=\"style-scope ytd-video-meta-block\">조회수 2.2만회</span>,\n",
       " <span class=\"style-scope ytd-video-meta-block\">조회수 407회</span>,\n",
       " <span class=\"style-scope ytd-video-meta-block\">업데이트: 오늘</span>,\n",
       " <span class=\"style-scope ytd-video-meta-block\">조회수 21회</span>,\n",
       " <span class=\"style-scope ytd-video-meta-block\">조회수 196회</span>,\n",
       " <span class=\"style-scope ytd-video-meta-block\">조회수 129만회</span>,\n",
       " <span class=\"style-scope ytd-video-meta-block\">업데이트: 6일 전</span>,\n",
       " <span class=\"style-scope ytd-video-meta-block\">조회수 1.9만회</span>,\n",
       " <span class=\"style-scope ytd-video-meta-block\">조회수 12만회</span>,\n",
       " <span class=\"style-scope ytd-video-meta-block\">조회수 1.8천회</span>,\n",
       " <span class=\"style-scope ytd-video-meta-block\">조회수 4.1만회</span>,\n",
       " <span class=\"style-scope ytd-video-meta-block\">조회수 1.6천회</span>,\n",
       " <span class=\"style-scope ytd-video-meta-block\">조회수 28만회</span>,\n",
       " <span class=\"style-scope ytd-video-meta-block\">조회수 217회</span>,\n",
       " <span class=\"style-scope ytd-video-meta-block\">조회수 165회</span>,\n",
       " <span class=\"style-scope ytd-video-meta-block\">조회수 1.3만회</span>,\n",
       " <span class=\"style-scope ytd-video-meta-block\">조회수 51만회</span>,\n",
       " <span class=\"style-scope ytd-video-meta-block\">조회수 107회</span>,\n",
       " <span class=\"style-scope ytd-video-meta-block\">조회수 16만회</span>,\n",
       " <span class=\"style-scope ytd-video-meta-block\">조회수 9.3만회</span>,\n",
       " <span class=\"style-scope ytd-video-meta-block\">조회수 430회</span>,\n",
       " <span class=\"style-scope ytd-video-meta-block\">조회수 2.1천회</span>,\n",
       " <span class=\"style-scope ytd-video-meta-block\">조회수 5.4천회</span>,\n",
       " <span class=\"style-scope ytd-video-meta-block\">조회수 169만회</span>,\n",
       " <span class=\"style-scope ytd-video-meta-block\">조회수 73만회</span>,\n",
       " <span class=\"style-scope ytd-video-meta-block\">조회수 55만회</span>,\n",
       " <span class=\"style-scope ytd-video-meta-block\">조회수 6만회</span>,\n",
       " <span class=\"style-scope ytd-video-meta-block\">조회수 1천회</span>,\n",
       " <span class=\"style-scope ytd-video-meta-block\">조회수 42만회</span>,\n",
       " <span class=\"style-scope ytd-video-meta-block\">조회수 534회</span>,\n",
       " <span class=\"style-scope ytd-video-meta-block\">조회수 91만회</span>,\n",
       " <span class=\"style-scope ytd-video-meta-block\">조회수 4.9천회</span>,\n",
       " <span class=\"style-scope ytd-video-meta-block\">조회수 1.3만회</span>,\n",
       " <span class=\"style-scope ytd-video-meta-block\">조회수 617회</span>,\n",
       " <span class=\"style-scope ytd-video-meta-block\">조회수 6.8만회</span>,\n",
       " <span class=\"style-scope ytd-video-meta-block\">조회수 444회</span>,\n",
       " <span class=\"style-scope ytd-video-meta-block\">조회수 2.3만회</span>,\n",
       " <span class=\"style-scope ytd-video-meta-block\">조회수 35만회</span>,\n",
       " <span class=\"style-scope ytd-video-meta-block\">조회수 1.2만회</span>,\n",
       " <span class=\"style-scope ytd-video-meta-block\">조회수 403회</span>,\n",
       " <span class=\"style-scope ytd-video-meta-block\">조회수 20만회</span>,\n",
       " <span class=\"style-scope ytd-video-meta-block\">조회수 4.7천회</span>,\n",
       " <span class=\"style-scope ytd-video-meta-block\">조회수 16만회</span>,\n",
       " <span class=\"style-scope ytd-video-meta-block\">조회수 56만회</span>,\n",
       " <span class=\"style-scope ytd-video-meta-block\">업데이트: 오늘</span>,\n",
       " <span class=\"style-scope ytd-video-meta-block\">조회수 10회</span>,\n",
       " <span class=\"style-scope ytd-video-meta-block\">조회수 8.6만회</span>,\n",
       " <span class=\"style-scope ytd-video-meta-block\">조회수 18만회</span>,\n",
       " <span class=\"style-scope ytd-video-meta-block\">조회수 52만회</span>,\n",
       " <span class=\"style-scope ytd-video-meta-block\">조회수 9.1만회</span>,\n",
       " <span class=\"style-scope ytd-video-meta-block\">조회수 17만회</span>,\n",
       " <span class=\"style-scope ytd-video-meta-block\">조회수 42만회</span>,\n",
       " <span class=\"style-scope ytd-video-meta-block\">조회수 1.1천회</span>,\n",
       " <span class=\"style-scope ytd-video-meta-block\">조회수 1천회</span>,\n",
       " <span class=\"style-scope ytd-video-meta-block\">조회수 4.8천회</span>,\n",
       " <span class=\"style-scope ytd-video-meta-block\">조회수 1회</span>,\n",
       " <span class=\"style-scope ytd-video-meta-block\">조회수 10만회</span>,\n",
       " <span class=\"style-scope ytd-video-meta-block\">조회수 3.7천회</span>,\n",
       " <span class=\"style-scope ytd-video-meta-block\">조회수 2.6천회</span>,\n",
       " <span class=\"style-scope ytd-video-meta-block\">조회수 8.3만회</span>,\n",
       " <span class=\"style-scope ytd-video-meta-block\">조회수 1.1천회</span>,\n",
       " <span class=\"style-scope ytd-video-meta-block\">조회수 7.6천회</span>,\n",
       " <span class=\"style-scope ytd-video-meta-block\">조회수 7.6만회</span>,\n",
       " <span class=\"style-scope ytd-video-meta-block\">조회수 54만회</span>,\n",
       " <span class=\"style-scope ytd-video-meta-block\">조회수 281만회</span>,\n",
       " <span class=\"style-scope ytd-video-meta-block\">조회수 147회</span>,\n",
       " <span class=\"style-scope ytd-video-meta-block\">업데이트: 오늘</span>,\n",
       " <span class=\"style-scope ytd-video-meta-block\">조회수 38만회</span>]"
      ]
     },
     "execution_count": 60,
     "metadata": {},
     "output_type": "execute_result"
    }
   ],
   "source": [
    "soup.select(\"div#metadata-line > span:nth-child(1)\")"
   ]
  },
  {
   "cell_type": "markdown",
   "metadata": {},
   "source": [
    "# 이미지 크롤링!"
   ]
  },
  {
   "cell_type": "code",
   "execution_count": 62,
   "metadata": {},
   "outputs": [],
   "source": [
    "import os #파일시스템을 위한 라이브러리 ex)파일,폴더를 생성 삭제\n",
    "from urllib.request import urlretrieve # 이미지의 경로를 파일로 저장"
   ]
  },
  {
   "cell_type": "code",
   "execution_count": 64,
   "metadata": {},
   "outputs": [],
   "source": [
    "# 폴더 생성\n",
    "# 폴더 존재여부 파악\n",
    "#os야 경로에서 폴더가 있는지 파악해줘 만약에 없다면 폴더를 만들어줘\n",
    "#경로는 역슬래쉬가 아니라 슬래쉬로 지정해줘야한다.\n",
    "if not os.path.isdir(\"C:/Users/SM2127/Desktop/이미지\") :\n",
    "    print(\"폴더 생성 완료!\")\n",
    "    os.mkdir(\"C:/Users/SM2127/Desktop/이미지\")"
   ]
  },
  {
   "cell_type": "code",
   "execution_count": 91,
   "metadata": {},
   "outputs": [],
   "source": [
    "driver = wb.Chrome()\n",
    "driver.get(\"https://search.naver.com/search.naver?where=image&sm=tab_jum&query=%EA%B3%A0%EC%96%91%EC%9D%B4\")"
   ]
  },
  {
   "cell_type": "code",
   "execution_count": 92,
   "metadata": {},
   "outputs": [],
   "source": [
    "soup=bs(driver.page_source,'lxml')"
   ]
  },
  {
   "cell_type": "code",
   "execution_count": 93,
   "metadata": {},
   "outputs": [],
   "source": [
    "img=soup.select(\"img._image._listImage\")"
   ]
  },
  {
   "cell_type": "code",
   "execution_count": 94,
   "metadata": {},
   "outputs": [
    {
     "data": {
      "text/plain": [
       "'https://search.pstatic.net/common/?src=http%3A%2F%2Fblogfiles.naver.net%2FMjAyMTA1MjhfNTQg%2FMDAxNjIyMjEwMTgyMzcw.pJHK5LAwiym6L_8ukXI_Sxkcwxx5PfIwXnJIsT_5YX8g.mZHDbDaWwbz1n_qYNl4FEB8-eVjTkztYtb98SagWyYAg.JPEG.cns022435%2F20210525%25A3%25DF220054.jpg&type=a340'"
      ]
     },
     "execution_count": 94,
     "metadata": {},
     "output_type": "execute_result"
    }
   ],
   "source": [
    "img[0][\"src\"] "
   ]
  },
  {
   "cell_type": "code",
   "execution_count": 95,
   "metadata": {},
   "outputs": [],
   "source": [
    "img_src = []\n",
    "for i in img :\n",
    "    img_src.append(i[\"src\"]) #특정속성값만 꺼내고 싶을때 ['']"
   ]
  },
  {
   "cell_type": "code",
   "execution_count": 96,
   "metadata": {
    "scrolled": true
   },
   "outputs": [
    {
     "data": {
      "text/plain": [
       "['https://search.pstatic.net/common/?src=http%3A%2F%2Fblogfiles.naver.net%2FMjAyMTA1MjhfNTQg%2FMDAxNjIyMjEwMTgyMzcw.pJHK5LAwiym6L_8ukXI_Sxkcwxx5PfIwXnJIsT_5YX8g.mZHDbDaWwbz1n_qYNl4FEB8-eVjTkztYtb98SagWyYAg.JPEG.cns022435%2F20210525%25A3%25DF220054.jpg&type=a340',\n",
       " 'https://search.pstatic.net/common/?src=http%3A%2F%2Fblogfiles.naver.net%2FMjAyMTA1MjdfMjAx%2FMDAxNjIyMDQ1MjExNjUx.stEKh575rXyA2JNyul4ezVRFcln-Vjg298K6BucaXNEg.47-zQm7NFuA895nASpa0pHiPXr936V2bmWRqRroD3-4g.JPEG.jhjj0913%2FIMG_4811.JPG&type=a340',\n",
       " 'https://search.pstatic.net/common/?src=http%3A%2F%2Fblogfiles.naver.net%2FMjAyMTA1MjFfMzEg%2FMDAxNjIxNTY2MDYxMzk5.YzpYlI1zKpW3ZV0_o3z0EJU8Crn3UuL1CQ7AHunHa5gg.qnCja2vfDad6g6vLYqtNXUpWlYxkj7kSblUdS2uhIJMg.JPEG.kimyanghee08%2FIMG_6478.jpg&type=a340',\n",
       " 'https://search.pstatic.net/common/?src=http%3A%2F%2Fblogfiles.naver.net%2FMjAyMTA1MjlfMTg3%2FMDAxNjIyMjk0NDQxNDM1.bkEbLqfDL-OVMHp1nkqHOtfqdIBrai-RXH2qpPD-3dcg.grx62f8qyneIetYRGGynYNabRZyjbzjG0P2bpNGWBIUg.JPEG.lmhot5%2F20210506_210534.jpg&type=a340',\n",
       " 'https://search.pstatic.net/common/?src=http%3A%2F%2Fblogfiles.naver.net%2FMjAyMTA1MDJfNTMg%2FMDAxNjE5OTI2NTA4MzY4.7M19HL7ukwoG_Z5GqgWD6chm5w0T3NE3O2hMI9bIIIQg.ZOGfw6tLukHKHmuoiqoHvaUmDmtch0_kxNYXlkdBORIg.JPEG.sum8337%2F%253F%2591%25D0%25B5%25D1%253F%25D0%25B5%25D0%25B7%25D0%25BA%25D0%25B0_%2528tat881%2529.jpeg.jpg&type=a340',\n",
       " 'https://search.pstatic.net/common/?src=http%3A%2F%2Fblogfiles.naver.net%2FMjAyMTAzMzBfMjI3%2FMDAxNjE3MDg4MjQyNTAz.hox-Gyvd7d6ME_sT5aB65DN52uH3ATvbF8-lz2Iu9AAg.Iiw2-fg5vLYG_IJluANVyYnK6Ou3zAGLyoDAh-QM--Yg.JPEG.ppwoz%2Foutput_1893895667.jpg&type=ofullfill340_600',\n",
       " 'https://search.pstatic.net/common/?src=http%3A%2F%2Fblogfiles.naver.net%2FMjAyMTA1MjVfNDMg%2FMDAxNjIxOTEyODIwOTEy.Pw0BfJUr5D7FqIqasFGElbil6IVznDS2M8bg1faChEgg.K_o2LIJ1y1wE1VPNj8HgZK9tMY7vgPOY7DabEtG9P6sg.JPEG.scarlettsong%2FgplTssTY.jpg&type=a340',\n",
       " 'https://search.pstatic.net/common/?src=http%3A%2F%2Fblogfiles.naver.net%2FMjAyMTA1MTlfMTI4%2FMDAxNjIxNDMxMDI4Mzg5.H2uP8YjcZP-IpwSlNLM9nis4Z6SNhqCD1ivo9OfhBCkg.RDhTntznvJ8khsD91Gc0x6A47wFoIqp35HJnL1mbPQEg.JPEG.tbgallery%2F1621431028886.jpg&type=a340',\n",
       " 'https://search.pstatic.net/common/?src=http%3A%2F%2Fblogfiles.naver.net%2FMjAyMTA1MjNfMzQg%2FMDAxNjIxNzUxNjE1MDAy.46iIjzj0T6cu4JlkpVaZbW8A9MaoFmGHKXnxpAFus1Ug.ghhrjRqUNqkQ69bmxTallJtEkyfoQyxhqn3P3pwkYVQg.JPEG.hneenh%2F%25BB%25E7%25C1%25F8_%25285%2529.jpg&type=a340',\n",
       " 'https://search.pstatic.net/common/?src=http%3A%2F%2Fblogfiles.naver.net%2FMjAyMTA0MTVfMTkx%2FMDAxNjE4NDQ4NjQ0OTMx.mSR1gToa-ydj80rE9lLS95tRl-DZ_TYxkt4R5uCkIY8g.f4LfkTekgx6LKRv9L52jKN8gj9WnHY58RfSnXpPes5Ag.PNG.mathglobal%2Fimage.png&type=a340',\n",
       " 'https://search.pstatic.net/common/?src=http%3A%2F%2Fblogfiles.naver.net%2FMjAyMTA0MTVfNDgg%2FMDAxNjE4NDc5NDU0Njgx.M4soyQ1pAcj_M61oFac-fdJtfL4KduXvpTXqaFUMSzMg.2TNGksKOKPx6KkHfq-M3ltONrBfW5jCQyg2r1_OxYvUg.JPEG.pearl3898%2F1611457724340%25A3%25AD9.jpg&type=a340',\n",
       " 'https://search.pstatic.net/common/?src=http%3A%2F%2Fblogfiles.naver.net%2FMjAyMTA1MjRfMTI1%2FMDAxNjIxODMwNDY5Mjcx.nr-cCyMIwM5U-xRhRcdfseLrF7X7pbLlo2lYVWX8fNAg.jHjCurLs971gvQFpLsrXBCSNSmUktPuZS2J4m50ILm4g.JPEG.yamung_1%2F3.jpg&type=a340',\n",
       " 'https://search.pstatic.net/common/?src=http%3A%2F%2Fblogfiles.naver.net%2FMjAyMTA1MzBfNzYg%2FMDAxNjIyMzE3MjMwMzkz.Zb30N--VkmZRZUIXSkEu_hiliH7BUyLpy11XEev4HxAg.QTT5croiAOsFhCbilNuuMIva2vzsaAi9Pb-YLAeCDMQg.JPEG.for_my_luv%2F20210317%25A3%25DF162805.jpg&type=a340',\n",
       " 'https://search.pstatic.net/common/?src=http%3A%2F%2Fblogfiles.naver.net%2FMjAyMDEwMjhfMTg1%2FMDAxNjAzODcyOTIwNjcy.hR7-NIIKculzKRECxpU6vI2XBupvV22y0ZMxcHsGsyEg.2uS7EXnF2VuMGitWLUYF6WV-X6MaiP1uL2gN9JK62hAg.PNG.soristudio%2Fimage.png&type=a340',\n",
       " 'https://search.pstatic.net/common/?src=http%3A%2F%2Fblogfiles.naver.net%2FMjAyMTA1MThfMTUz%2FMDAxNjIxMjYzNzMwODQy.q915PFb3UE8z2SSUzatE0jSGZH1MwB_24KOth9vI0Tkg.AYm1sPyWFo31el4M7rtclIRM5Ish-YVteQKBBUJD3xAg.JPEG.sline1982%2F20210518%25A3%25DF000110.jpg&type=a340',\n",
       " 'https://search.pstatic.net/common/?src=http%3A%2F%2Fblogfiles.naver.net%2FMjAyMTA0MDRfMjI1%2FMDAxNjE3NTIwOTE4NjM4.jU3GeOd8G-vs-C4oq4QlVLFo5Te66UKEOa9zdaGBkysg.LoI-NokR-PGDIP8yXVyG1jgDafvkDuh3uevH1nKOSWgg.JPEG.cosmopolitan-ksj%2FKakaoTalk_20210404_123239308.jpg&type=a340',\n",
       " 'data:image/gif;base64,R0lGODlhAQABAIAAAAAAAP///yH5BAEAAAAALAAAAAABAAEAAAIBRAA7',\n",
       " 'data:image/gif;base64,R0lGODlhAQABAIAAAAAAAP///yH5BAEAAAAALAAAAAABAAEAAAIBRAA7',\n",
       " 'data:image/gif;base64,R0lGODlhAQABAIAAAAAAAP///yH5BAEAAAAALAAAAAABAAEAAAIBRAA7',\n",
       " 'data:image/gif;base64,R0lGODlhAQABAIAAAAAAAP///yH5BAEAAAAALAAAAAABAAEAAAIBRAA7',\n",
       " 'data:image/gif;base64,R0lGODlhAQABAIAAAAAAAP///yH5BAEAAAAALAAAAAABAAEAAAIBRAA7',\n",
       " 'data:image/gif;base64,R0lGODlhAQABAIAAAAAAAP///yH5BAEAAAAALAAAAAABAAEAAAIBRAA7',\n",
       " 'data:image/gif;base64,R0lGODlhAQABAIAAAAAAAP///yH5BAEAAAAALAAAAAABAAEAAAIBRAA7',\n",
       " 'data:image/gif;base64,R0lGODlhAQABAIAAAAAAAP///yH5BAEAAAAALAAAAAABAAEAAAIBRAA7',\n",
       " 'data:image/gif;base64,R0lGODlhAQABAIAAAAAAAP///yH5BAEAAAAALAAAAAABAAEAAAIBRAA7',\n",
       " 'data:image/gif;base64,R0lGODlhAQABAIAAAAAAAP///yH5BAEAAAAALAAAAAABAAEAAAIBRAA7',\n",
       " 'data:image/gif;base64,R0lGODlhAQABAIAAAAAAAP///yH5BAEAAAAALAAAAAABAAEAAAIBRAA7',\n",
       " 'data:image/gif;base64,R0lGODlhAQABAIAAAAAAAP///yH5BAEAAAAALAAAAAABAAEAAAIBRAA7',\n",
       " 'data:image/gif;base64,R0lGODlhAQABAIAAAAAAAP///yH5BAEAAAAALAAAAAABAAEAAAIBRAA7',\n",
       " 'data:image/gif;base64,R0lGODlhAQABAIAAAAAAAP///yH5BAEAAAAALAAAAAABAAEAAAIBRAA7',\n",
       " 'data:image/gif;base64,R0lGODlhAQABAIAAAAAAAP///yH5BAEAAAAALAAAAAABAAEAAAIBRAA7',\n",
       " 'data:image/gif;base64,R0lGODlhAQABAIAAAAAAAP///yH5BAEAAAAALAAAAAABAAEAAAIBRAA7',\n",
       " 'data:image/gif;base64,R0lGODlhAQABAIAAAAAAAP///yH5BAEAAAAALAAAAAABAAEAAAIBRAA7',\n",
       " 'data:image/gif;base64,R0lGODlhAQABAIAAAAAAAP///yH5BAEAAAAALAAAAAABAAEAAAIBRAA7',\n",
       " 'data:image/gif;base64,R0lGODlhAQABAIAAAAAAAP///yH5BAEAAAAALAAAAAABAAEAAAIBRAA7',\n",
       " 'data:image/gif;base64,R0lGODlhAQABAIAAAAAAAP///yH5BAEAAAAALAAAAAABAAEAAAIBRAA7',\n",
       " 'data:image/gif;base64,R0lGODlhAQABAIAAAAAAAP///yH5BAEAAAAALAAAAAABAAEAAAIBRAA7',\n",
       " 'data:image/gif;base64,R0lGODlhAQABAIAAAAAAAP///yH5BAEAAAAALAAAAAABAAEAAAIBRAA7',\n",
       " 'data:image/gif;base64,R0lGODlhAQABAIAAAAAAAP///yH5BAEAAAAALAAAAAABAAEAAAIBRAA7',\n",
       " 'data:image/gif;base64,R0lGODlhAQABAIAAAAAAAP///yH5BAEAAAAALAAAAAABAAEAAAIBRAA7',\n",
       " 'data:image/gif;base64,R0lGODlhAQABAIAAAAAAAP///yH5BAEAAAAALAAAAAABAAEAAAIBRAA7',\n",
       " 'data:image/gif;base64,R0lGODlhAQABAIAAAAAAAP///yH5BAEAAAAALAAAAAABAAEAAAIBRAA7',\n",
       " 'data:image/gif;base64,R0lGODlhAQABAIAAAAAAAP///yH5BAEAAAAALAAAAAABAAEAAAIBRAA7',\n",
       " 'data:image/gif;base64,R0lGODlhAQABAIAAAAAAAP///yH5BAEAAAAALAAAAAABAAEAAAIBRAA7',\n",
       " 'data:image/gif;base64,R0lGODlhAQABAIAAAAAAAP///yH5BAEAAAAALAAAAAABAAEAAAIBRAA7',\n",
       " 'data:image/gif;base64,R0lGODlhAQABAIAAAAAAAP///yH5BAEAAAAALAAAAAABAAEAAAIBRAA7',\n",
       " 'data:image/gif;base64,R0lGODlhAQABAIAAAAAAAP///yH5BAEAAAAALAAAAAABAAEAAAIBRAA7',\n",
       " 'data:image/gif;base64,R0lGODlhAQABAIAAAAAAAP///yH5BAEAAAAALAAAAAABAAEAAAIBRAA7']"
      ]
     },
     "execution_count": 96,
     "metadata": {},
     "output_type": "execute_result"
    }
   ],
   "source": [
    "img_src"
   ]
  },
  {
   "cell_type": "code",
   "execution_count": 97,
   "metadata": {},
   "outputs": [
    {
     "data": {
      "text/plain": [
       "48"
      ]
     },
     "execution_count": 97,
     "metadata": {},
     "output_type": "execute_result"
    }
   ],
   "source": [
    "len(img_src)"
   ]
  },
  {
   "cell_type": "code",
   "execution_count": 98,
   "metadata": {},
   "outputs": [],
   "source": [
    "from tqdm import tqdm_notebook as tq"
   ]
  },
  {
   "cell_type": "code",
   "execution_count": 99,
   "metadata": {},
   "outputs": [
    {
     "name": "stderr",
     "output_type": "stream",
     "text": [
      "<ipython-input-99-515c3a7dc942>:2: TqdmDeprecationWarning: This function will be removed in tqdm==5.0.0\n",
      "Please use `tqdm.notebook.tqdm` instead of `tqdm.tqdm_notebook`\n",
      "  for i in tq(range(len(img_src))):\n"
     ]
    },
    {
     "data": {
      "application/vnd.jupyter.widget-view+json": {
       "model_id": "7c58abcb52234ffb9fa7a7c77b172da7",
       "version_major": 2,
       "version_minor": 0
      },
      "text/plain": [
       "HBox(children=(HTML(value=''), FloatProgress(value=0.0, max=48.0), HTML(value='')))"
      ]
     },
     "metadata": {},
     "output_type": "display_data"
    },
    {
     "name": "stdout",
     "output_type": "stream",
     "text": [
      "\n"
     ]
    }
   ],
   "source": [
    "file_no = 0;#파일의 이름이될 숫자변수 \n",
    "for i in tq(range(len(img_src))):\n",
    "    urlretrieve(img_src[i],\"C:/Users/SM2127/Desktop/이미지/\"+str(file_no)+\".jpg\")#숫자변수라 파일이름을 넣을려면 str형변환을 해야됨\n",
    "    file_no += 1\n",
    "    time.sleep(4)"
   ]
  },
  {
   "cell_type": "code",
   "execution_count": null,
   "metadata": {},
   "outputs": [],
   "source": []
  },
  {
   "cell_type": "code",
   "execution_count": null,
   "metadata": {},
   "outputs": [],
   "source": []
  },
  {
   "cell_type": "code",
   "execution_count": null,
   "metadata": {},
   "outputs": [],
   "source": []
  },
  {
   "cell_type": "code",
   "execution_count": null,
   "metadata": {},
   "outputs": [],
   "source": []
  }
 ],
 "metadata": {
  "kernelspec": {
   "display_name": "Python 3",
   "language": "python",
   "name": "python3"
  },
  "language_info": {
   "codemirror_mode": {
    "name": "ipython",
    "version": 3
   },
   "file_extension": ".py",
   "mimetype": "text/x-python",
   "name": "python",
   "nbconvert_exporter": "python",
   "pygments_lexer": "ipython3",
   "version": "3.8.5"
  }
 },
 "nbformat": 4,
 "nbformat_minor": 4
}
