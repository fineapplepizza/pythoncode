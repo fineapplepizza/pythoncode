{
 "cells": [
  {
   "cell_type": "code",
   "execution_count": 9,
   "metadata": {},
   "outputs": [],
   "source": [
    "#webdriver-웹페이지 제어하기 위한 모듈\n",
    "#keys-컴퓨터의 키보드와 같은 역할 모듈 \n",
    "#time=쉬는 시간을 부여한다.\n",
    "#pandas\n",
    "from selenium import webdriver as wb\n",
    "from selenium.webdriver.common.keys import Keys\n",
    "import pandas as pd \n",
    "import time\n",
    "import pandas as pd\n",
    "from bs4 import BeautifulSoup as bs"
   ]
  },
  {
   "cell_type": "code",
   "execution_count": 25,
   "metadata": {},
   "outputs": [],
   "source": [
    "# 크롬 드라이버를 실행\n",
    "driver=wb.Chrome()\n",
    "driver.get(\"https://terms.naver.com/list.naver?cid=42883&categoryId=44358\")\n",
    "\n"
   ]
  },
  {
   "cell_type": "code",
   "execution_count": 26,
   "metadata": {
    "scrolled": true
   },
   "outputs": [],
   "source": [
    "#강아지이름 클릭\n",
    "btnDog=driver.find_element_by_css_selector(\"ul.content_list>li:nth-child(1)>div.info_area>div.subject>strong.title>a:nth-child(1)\")\n",
    "btnDog.click()"
   ]
  },
  {
   "cell_type": "code",
   "execution_count": null,
   "metadata": {},
   "outputs": [],
   "source": []
  },
  {
   "cell_type": "code",
   "execution_count": 12,
   "metadata": {},
   "outputs": [],
   "source": [
    "soup=bs(driver.page_source,'lxml')"
   ]
  },
  {
   "cell_type": "code",
   "execution_count": 32,
   "metadata": {},
   "outputs": [],
   "source": [
    "name=soup.select('h2.headword')"
   ]
  },
  {
   "cell_type": "code",
   "execution_count": 33,
   "metadata": {},
   "outputs": [],
   "source": [
    "temp=[]"
   ]
  },
  {
   "cell_type": "code",
   "execution_count": 35,
   "metadata": {},
   "outputs": [],
   "source": [
    "temp.append(name)"
   ]
  },
  {
   "cell_type": "code",
   "execution_count": 36,
   "metadata": {},
   "outputs": [
    {
     "data": {
      "text/plain": [
       "[[<h2 class=\"headword\" style=\"-webkit-tap-highlight-color: rgba(0,0,0,0)\">골든 리트리버</h2>]]"
      ]
     },
     "execution_count": 36,
     "metadata": {},
     "output_type": "execute_result"
    }
   ],
   "source": [
    "temp"
   ]
  },
  {
   "cell_type": "code",
   "execution_count": 37,
   "metadata": {},
   "outputs": [],
   "source": [
    "source=soup.select('td')"
   ]
  },
  {
   "cell_type": "code",
   "execution_count": 38,
   "metadata": {},
   "outputs": [],
   "source": [
    "temp.append(source)"
   ]
  },
  {
   "cell_type": "code",
   "execution_count": 39,
   "metadata": {},
   "outputs": [
    {
     "data": {
      "text/plain": [
       "[[<h2 class=\"headword\" style=\"-webkit-tap-highlight-color: rgba(0,0,0,0)\">골든 리트리버</h2>],\n",
       " [<td style=\"-webkit-tap-highlight-color: rgba(0,0,0,0)\">\n",
       "                                          영국\n",
       "  \n",
       "                                  </td>,\n",
       "  <td style=\"-webkit-tap-highlight-color: rgba(0,0,0,0)\">\n",
       "                                          51~61<span data-lang=\"en\" data-type=\"ore\">cm</span>\n",
       "  </td>,\n",
       "  <td style=\"-webkit-tap-highlight-color: rgba(0,0,0,0)\">\n",
       "                                          27~36<span data-lang=\"en\" data-type=\"ore\">kg</span>\n",
       "  </td>,\n",
       "  <td style=\"-webkit-tap-highlight-color: rgba(0,0,0,0)\">\n",
       "                                          대형\n",
       "  \n",
       "                                  </td>,\n",
       "  <td style=\"-webkit-tap-highlight-color: rgba(0,0,0,0)\">\n",
       "                                          건실하고 기민하고 자신감이 있어 보이며 황금색털이 매력적\n",
       "  \n",
       "                                  </td>,\n",
       "  <td style=\"-webkit-tap-highlight-color: rgba(0,0,0,0)\">\n",
       "                                          친밀하며 믿음 있고 애정이 깊으며 확실한 성품\n",
       "  \n",
       "                                  </td>,\n",
       "  <td style=\"-webkit-tap-highlight-color: rgba(0,0,0,0)\">\n",
       "                                          단독주택, \n",
       "                                          어린이, \n",
       "                                          운동량 많음\n",
       "  \n",
       "                                  </td>,\n",
       "  <td style=\"-webkit-tap-highlight-color: rgba(0,0,0,0)\">\n",
       "  <a href=\"/entry.nhn?docId=988906&amp;ref=y\" onclick=\"clickcr(this, 'bdk.creference', '', '', event);\">관절염</a>, \n",
       "                                          <a href=\"/entry.nhn?docId=988921&amp;ref=y\" onclick=\"clickcr(this, 'bdk.creference', '', '', event);\">비만</a>, \n",
       "                                          <a href=\"/entry.nhn?docId=988916&amp;ref=y\" onclick=\"clickcr(this, 'bdk.creference', '', '', event);\">지루성피부염</a>, \n",
       "                                          <a href=\"/entry.nhn?docId=988918&amp;ref=y\" onclick=\"clickcr(this, 'bdk.creference', '', '', event);\">음식알레르기</a>, \n",
       "                                          <a href=\"/entry.nhn?docId=988917&amp;ref=y\" onclick=\"clickcr(this, 'bdk.creference', '', '', event);\">탈모증</a>, \n",
       "                                          <a href=\"/entry.nhn?docId=988919&amp;ref=y\" onclick=\"clickcr(this, 'bdk.creference', '', '', event);\">백선</a>, \n",
       "                                          <a href=\"/entry.nhn?docId=988882&amp;ref=y\" onclick=\"clickcr(this, 'bdk.creference', '', '', event);\">백내장</a>\n",
       "  </td>,\n",
       "  <td style=\"-webkit-tap-highlight-color: rgba(0,0,0,0)\">\n",
       "                                          황금색\n",
       "  \n",
       "                                  </td>,\n",
       "  <td style=\"-webkit-tap-highlight-color: rgba(0,0,0,0)\">\n",
       "                                          스포팅 (일반적으로 조렵견을 의미)\n",
       "  \n",
       "                                  </td>,\n",
       "  <td style=\"-webkit-tap-highlight-color: rgba(0,0,0,0)\">\n",
       "                                          높음\n",
       "  \n",
       "                                  </td>,\n",
       "  <td style=\"-webkit-tap-highlight-color: rgba(0,0,0,0)\">\n",
       "                                          많음\n",
       "  \n",
       "                                  </td>,\n",
       "  <td style=\"-webkit-tap-highlight-color: rgba(0,0,0,0)\">\n",
       "                                          부적절\n",
       "  \n",
       "                                  </td>,\n",
       "  <td style=\"-webkit-tap-highlight-color: rgba(0,0,0,0)\">\n",
       "                                          실외\n",
       "  \n",
       "                                  </td>]]"
      ]
     },
     "execution_count": 39,
     "metadata": {},
     "output_type": "execute_result"
    }
   ],
   "source": [
    "temp"
   ]
  },
  {
   "cell_type": "code",
   "execution_count": 42,
   "metadata": {},
   "outputs": [],
   "source": [
    "# 리스트 이름 생성\n",
    "name=[]\n",
    "country=[]\n",
    "chaego=[]\n",
    "weight=[]\n",
    "size=[]\n",
    "visual=[]\n",
    "mbti=[]\n",
    "like=[]\n",
    "color=[]\n",
    "group=[]\n",
    "social=[]\n",
    "terbbajim=[]\n",
    "homeShield=[]\n",
    "outIn=[]\n",
    "sick=[]"
   ]
  },
  {
   "cell_type": "code",
   "execution_count": 43,
   "metadata": {},
   "outputs": [],
   "source": [
    "#강아지 이름\n",
    "name=driver.find_element_by_css_selector(\"h2.headword\").text"
   ]
  },
  {
   "cell_type": "code",
   "execution_count": 44,
   "metadata": {},
   "outputs": [],
   "source": [
    "#원산지~실내외구분\n",
    "country=driver.find_element_by_css_selector(\"tbody>tr:nth-child(1)>td\").text\n",
    "chaego=driver.find_element_by_css_selector(\"tbody>tr:nth-child(2)>td\").text\n",
    "weight=driver.find_element_by_css_selector(\"tbody>tr:nth-child(3)>td\").text\n",
    "size=driver.find_element_by_css_selector(\"tbody>tr:nth-child(4)>td\").text\n",
    "visual=driver.find_element_by_css_selector(\"tbody>tr:nth-child(5)>td\").text\n",
    "mbti=driver.find_element_by_css_selector(\"tbody>tr:nth-child(6)>td\").text\n",
    "like=driver.find_element_by_css_selector(\"tbody>tr:nth-child(7)>td\").text\n",
    "sick=driver.find_element_by_css_selector(\"tbody>tr:nth-child(8)>td\").text\n",
    "color=driver.find_element_by_css_selector(\"tbody>tr:nth-child(9)>td\").text\n",
    "group=driver.find_element_by_css_selector(\"tbody>tr:nth-child(10)>td\").text\n",
    "social=driver.find_element_by_css_selector(\"tbody>tr:nth-child(11)>td\").text\n",
    "terbbajim=driver.find_element_by_css_selector(\"tbody>tr:nth-child(12)>td\").text\n",
    "homeShield=driver.find_element_by_css_selector(\"tbody>tr:nth-child(13)>td\").text\n",
    "outIn=driver.find_element_by_css_selector(\"tbody>tr:nth-child(14)>td\").text"
   ]
  },
  {
   "cell_type": "code",
   "execution_count": 45,
   "metadata": {},
   "outputs": [],
   "source": [
    "#딕셔너리\n",
    "info={\"이름\":name,\"원산지\":country,\"체고\":chaego,\"체중\":weight,\"크기\":size,\"외모\":visual,\"성격\":mbti,\"추천성향\":like,\"주요질병\":sick,\"색상\":color,\"그룹구분\":group,\"친화성\":social,\"털빠짐\":terbbajim,\"집지키기\":homeShield,\"실내외구분\":outIn}"
   ]
  },
  {
   "cell_type": "code",
   "execution_count": 46,
   "metadata": {
    "scrolled": false
   },
   "outputs": [
    {
     "data": {
      "text/html": [
       "<div>\n",
       "<style scoped>\n",
       "    .dataframe tbody tr th:only-of-type {\n",
       "        vertical-align: middle;\n",
       "    }\n",
       "\n",
       "    .dataframe tbody tr th {\n",
       "        vertical-align: top;\n",
       "    }\n",
       "\n",
       "    .dataframe thead th {\n",
       "        text-align: right;\n",
       "    }\n",
       "</style>\n",
       "<table border=\"1\" class=\"dataframe\">\n",
       "  <thead>\n",
       "    <tr style=\"text-align: right;\">\n",
       "      <th></th>\n",
       "      <th>이름</th>\n",
       "      <th>원산지</th>\n",
       "      <th>체고</th>\n",
       "      <th>체중</th>\n",
       "      <th>크기</th>\n",
       "      <th>외모</th>\n",
       "      <th>성격</th>\n",
       "      <th>추천성향</th>\n",
       "      <th>주요질병</th>\n",
       "      <th>색상</th>\n",
       "      <th>그룹구분</th>\n",
       "      <th>친화성</th>\n",
       "      <th>털빠짐</th>\n",
       "      <th>집지키기</th>\n",
       "      <th>실내외구분</th>\n",
       "    </tr>\n",
       "  </thead>\n",
       "  <tbody>\n",
       "    <tr>\n",
       "      <th>0</th>\n",
       "      <td>골든 리트리버</td>\n",
       "      <td>영국</td>\n",
       "      <td>51~61cm</td>\n",
       "      <td>27~36kg</td>\n",
       "      <td>대형</td>\n",
       "      <td>건실하고 기민하고 자신감이 있어 보이며 황금색털이 매력적</td>\n",
       "      <td>친밀하며 믿음 있고 애정이 깊으며 확실한 성품</td>\n",
       "      <td>단독주택, 어린이, 운동량 많음</td>\n",
       "      <td>관절염, 비만, 지루성피부염, 음식알레르기, 탈모증, 백선, 백내장</td>\n",
       "      <td>황금색</td>\n",
       "      <td>스포팅 (일반적으로 조렵견을 의미)</td>\n",
       "      <td>높음</td>\n",
       "      <td>많음</td>\n",
       "      <td>부적절</td>\n",
       "      <td>실외</td>\n",
       "    </tr>\n",
       "  </tbody>\n",
       "</table>\n",
       "</div>"
      ],
      "text/plain": [
       "        이름 원산지       체고       체중  크기                               외모  \\\n",
       "0  골든 리트리버  영국  51~61cm  27~36kg  대형  건실하고 기민하고 자신감이 있어 보이며 황금색털이 매력적   \n",
       "\n",
       "                          성격               추천성향  \\\n",
       "0  친밀하며 믿음 있고 애정이 깊으며 확실한 성품  단독주택, 어린이, 운동량 많음   \n",
       "\n",
       "                                    주요질병   색상                 그룹구분 친화성 털빠짐  \\\n",
       "0  관절염, 비만, 지루성피부염, 음식알레르기, 탈모증, 백선, 백내장  황금색  스포팅 (일반적으로 조렵견을 의미)  높음  많음   \n",
       "\n",
       "  집지키기 실내외구분  \n",
       "0  부적절    실외  "
      ]
     },
     "execution_count": 46,
     "metadata": {},
     "output_type": "execute_result"
    }
   ],
   "source": [
    "#데이터프레임\n",
    "pd.DataFrame(info,index=[0])"
   ]
  },
  {
   "cell_type": "code",
   "execution_count": 47,
   "metadata": {},
   "outputs": [],
   "source": [
    "#뒤로가기\n",
    "driver.back()"
   ]
  },
  {
   "cell_type": "code",
   "execution_count": 48,
   "metadata": {},
   "outputs": [],
   "source": [
    "#풍산개\n",
    "#강아지이름 클릭\n",
    "btnDog=driver.find_element_by_css_selector(\"ul.content_list>li:nth-child(2)>div.info_area>div.subject>strong.title>a:nth-child(1)\")\n",
    "btnDog.click()"
   ]
  },
  {
   "cell_type": "code",
   "execution_count": 49,
   "metadata": {},
   "outputs": [],
   "source": [
    "#강아지 이름\n",
    "name=driver.find_element_by_css_selector(\"h2.headword\").text\n",
    "#원산지~실내외구분\n",
    "country=driver.find_element_by_css_selector(\"tbody>tr:nth-child(1)>td\").text\n",
    "chaego=driver.find_element_by_css_selector(\"tbody>tr:nth-child(2)>td\").text\n",
    "weight=driver.find_element_by_css_selector(\"tbody>tr:nth-child(3)>td\").text\n",
    "size=driver.find_element_by_css_selector(\"tbody>tr:nth-child(4)>td\").text\n",
    "visual=driver.find_element_by_css_selector(\"tbody>tr:nth-child(5)>td\").text\n",
    "mbti=driver.find_element_by_css_selector(\"tbody>tr:nth-child(6)>td\").text\n",
    "like=driver.find_element_by_css_selector(\"tbody>tr:nth-child(7)>td\").text\n",
    "color=driver.find_element_by_css_selector(\"tbody>tr:nth-child(8)>td\").text\n",
    "group=driver.find_element_by_css_selector(\"tbody>tr:nth-child(9)>td\").text\n",
    "social=driver.find_element_by_css_selector(\"tbody>tr:nth-child(10)>td\").text\n",
    "terbbajim=driver.find_element_by_css_selector(\"tbody>tr:nth-child(11)>td\").text\n",
    "homeShield=driver.find_element_by_css_selector(\"tbody>tr:nth-child(12)>td\").text\n",
    "outIn=driver.find_element_by_css_selector(\"tbody>tr:nth-child(13)>td\").text"
   ]
  }
 ],
 "metadata": {
  "kernelspec": {
   "display_name": "Python 3",
   "language": "python",
   "name": "python3"
  },
  "language_info": {
   "codemirror_mode": {
    "name": "ipython",
    "version": 3
   },
   "file_extension": ".py",
   "mimetype": "text/x-python",
   "name": "python",
   "nbconvert_exporter": "python",
   "pygments_lexer": "ipython3",
   "version": "3.8.5"
  }
 },
 "nbformat": 4,
 "nbformat_minor": 4
}
