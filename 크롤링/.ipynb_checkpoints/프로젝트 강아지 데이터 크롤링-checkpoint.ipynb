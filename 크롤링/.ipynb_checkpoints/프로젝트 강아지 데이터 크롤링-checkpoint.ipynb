{
 "cells": [
  {
   "cell_type": "code",
   "execution_count": 25,
   "metadata": {},
   "outputs": [],
   "source": [
    "#webdriver-웹페이지 제어하기 위한 모듈\n",
    "#keys-컴퓨터의 키보드와 같은 역할 모듈 \n",
    "#time=쉬는 시간을 부여한다.\n",
    "#pandas\n",
    "from selenium import webdriver as wb\n",
    "from selenium.webdriver.common.keys import Keys\n",
    "import pandas as pd \n",
    "import time\n",
    "import pandas as pd"
   ]
  },
  {
   "cell_type": "code",
   "execution_count": 26,
   "metadata": {},
   "outputs": [],
   "source": [
    "# 크롬 드라이버를 실행\n",
    "driver=wb.Chrome()\n",
    "driver.get(\"https://terms.naver.com/list.naver?cid=42883&categoryId=44358\")"
   ]
  },
  {
   "cell_type": "code",
   "execution_count": 27,
   "metadata": {
    "scrolled": true
   },
   "outputs": [],
   "source": [
    "btnDog=driver.find_element_by_css_selector(\"ul.content_list>li:nth-child(1)>div.info_area>div.subject>strong.title>a:nth-child(1)\")\n",
    "btnDog.click()"
   ]
  },
  {
   "cell_type": "code",
   "execution_count": 28,
   "metadata": {},
   "outputs": [
    {
     "data": {
      "text/plain": [
       "'골든 리트리버'"
      ]
     },
     "execution_count": 28,
     "metadata": {},
     "output_type": "execute_result"
    }
   ],
   "source": [
    "driver.find_element_by_css_selector(\"h2.headword\").text"
   ]
  },
  {
   "cell_type": "code",
   "execution_count": 54,
   "metadata": {},
   "outputs": [],
   "source": [
    "featureList=[]\n",
    "for i in range(1,15):\n",
    "     feature=driver.find_element_by_css_selector(\"tbody>tr:nth-child(\"+str(i)+\")>td\").text\n",
    "     featureList.append(feature)"
   ]
  },
  {
   "cell_type": "code",
   "execution_count": 56,
   "metadata": {},
   "outputs": [
    {
     "data": {
      "text/plain": [
       "['영국',\n",
       " '51~61cm',\n",
       " '27~36kg',\n",
       " '대형',\n",
       " '건실하고 기민하고 자신감이 있어 보이며 황금색털이 매력적',\n",
       " '친밀하며 믿음 있고 애정이 깊으며 확실한 성품',\n",
       " '단독주택, 어린이, 운동량 많음',\n",
       " '관절염, 비만, 지루성피부염, 음식알레르기, 탈모증, 백선, 백내장',\n",
       " '황금색',\n",
       " '스포팅 (일반적으로 조렵견을 의미)',\n",
       " '높음',\n",
       " '많음',\n",
       " '부적절',\n",
       " '실외']"
      ]
     },
     "execution_count": 56,
     "metadata": {},
     "output_type": "execute_result"
    }
   ],
   "source": [
    "featureList"
   ]
  }
 ],
 "metadata": {
  "kernelspec": {
   "display_name": "Python 3",
   "language": "python",
   "name": "python3"
  },
  "language_info": {
   "codemirror_mode": {
    "name": "ipython",
    "version": 3
   },
   "file_extension": ".py",
   "mimetype": "text/x-python",
   "name": "python",
   "nbconvert_exporter": "python",
   "pygments_lexer": "ipython3",
   "version": "3.8.5"
  }
 },
 "nbformat": 4,
 "nbformat_minor": 4
}
