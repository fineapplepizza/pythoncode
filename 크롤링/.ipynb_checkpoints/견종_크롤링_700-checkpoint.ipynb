{
 "cells": [
  {
   "cell_type": "code",
   "execution_count": 1,
   "metadata": {},
   "outputs": [],
   "source": [
    "#webdriver-웹페이지 제어하기 위한 모듈\n",
    "#keys-컴퓨터의 키보드와 같은 역할 모듈 \n",
    "#time=쉬는 시간을 부여한다.\n",
    "#pandas\n",
    "import requests as req\n",
    "from selenium import webdriver as wb\n",
    "from selenium.webdriver.common.keys import Keys\n",
    "import pandas as pd \n",
    "import time\n",
    "import pandas as pd\n",
    "from bs4 import BeautifulSoup as bs"
   ]
  },
  {
   "cell_type": "code",
   "execution_count": 17,
   "metadata": {},
   "outputs": [],
   "source": [
    "#1~10은 숫자대로 다음은 11\n",
    "    #페이지당 30개의 견종정보 있음\n",
    "dog_list=[]\n",
    "driver=wb.Chrome()\n",
    "driver.get(\"https://blog.naver.com/hwyoon1001/221593074036\")\n",
    "element = driver.find_element_by_id(\"mainFrame\")\n",
    "time.sleep(2)\n",
    "driver.switch_to.frame(element)\n",
    "btnDog = driver.find_element_by_css_selector(\"#toplistWrapper > div.wrap_blog2_paginate > div > a.page.pcol2._goPageTop._param\\(2\\)\")\n",
    "btnDog.click()\n",
    "driver.switch_to.default_content()\n",
    "time.sleep(2)\n",
    "#------------페이지 for문 시작\n",
    "for page in range(1,11):\n",
    "    \n",
    "    time.sleep(1)\n",
    "    driver.switch_to.frame(element)\n",
    "    btnDog = driver.find_element_by_css_selector(\"#toplistWrapper > div.wrap_blog2_paginate > div > a.page.pcol2._goPageTop._param\\(\"+str(page)+\"\\)\")\n",
    "    btnDog.click()\n",
    "    driver.switch_to.default_content()\n",
    "    time.sleep(1)\n",
    "        #------------타이틀 for문 시작\n",
    "    for title in range(1,31):\n",
    "        time.sleep(1.5)\n",
    "        driver.switch_to.frame(element)\n",
    "        btnName=driver.find_element_by_css_selector(\"table > tbody > tr:nth-child(\"+str(title)+\") > td.title > div > span > a\")\n",
    "        btnName.click()\n",
    "        time.sleep(1.5)\n",
    "        soup=bs(driver.page_source,'lxml')\n",
    "        dog=soup.select('#postViewArea')\n",
    "        for i in range(len(dog)):\n",
    "            dog[i] = dog[i].text.strip()\n",
    "        dog_list.append(dog)\n",
    "        driver.switch_to.default_content()\n",
    "        time.sleep(1.5)\n",
    "\n",
    "\n",
    "            \n",
    "        \n",
    "    "
   ]
  },
  {
   "cell_type": "code",
   "execution_count": 18,
   "metadata": {},
   "outputs": [
    {
     "name": "stdout",
     "output_type": "stream",
     "text": [
      "300\n",
      "1\n"
     ]
    }
   ],
   "source": [
    "print(len(dog_list))\n",
    "print(len(dog_list[0]))\n"
   ]
  },
  {
   "cell_type": "code",
   "execution_count": 20,
   "metadata": {},
   "outputs": [],
   "source": [
    "dog_df=pd.DataFrame(dog_list)\n"
   ]
  },
  {
   "cell_type": "code",
   "execution_count": null,
   "metadata": {},
   "outputs": [],
   "source": [
    "# dog_df.to_csv('dog1p_10p.csv',index = False)"
   ]
  },
  {
   "cell_type": "code",
   "execution_count": 16,
   "metadata": {
    "collapsed": true
   },
   "outputs": [
    {
     "ename": "NoSuchElementException",
     "evalue": "Message: no such element: Unable to locate element: {\"method\":\"css selector\",\"selector\":\"table > tbody > tr:nth-child(13) > td.title > div > span > a\"}\n  (Session info: chrome=91.0.4472.114)\n",
     "output_type": "error",
     "traceback": [
      "\u001b[1;31m---------------------------------------------------------------------------\u001b[0m",
      "\u001b[1;31mNoSuchElementException\u001b[0m                    Traceback (most recent call last)",
      "\u001b[1;32m<ipython-input-16-0637aad950dd>\u001b[0m in \u001b[0;36m<module>\u001b[1;34m\u001b[0m\n\u001b[0;32m     28\u001b[0m         \u001b[0mtime\u001b[0m\u001b[1;33m.\u001b[0m\u001b[0msleep\u001b[0m\u001b[1;33m(\u001b[0m\u001b[1;36m4\u001b[0m\u001b[1;33m)\u001b[0m\u001b[1;33m\u001b[0m\u001b[1;33m\u001b[0m\u001b[0m\n\u001b[0;32m     29\u001b[0m         \u001b[0mdriver\u001b[0m\u001b[1;33m.\u001b[0m\u001b[0mswitch_to\u001b[0m\u001b[1;33m.\u001b[0m\u001b[0mframe\u001b[0m\u001b[1;33m(\u001b[0m\u001b[0melement\u001b[0m\u001b[1;33m)\u001b[0m\u001b[1;33m\u001b[0m\u001b[1;33m\u001b[0m\u001b[0m\n\u001b[1;32m---> 30\u001b[1;33m         \u001b[0mbtnName\u001b[0m\u001b[1;33m=\u001b[0m\u001b[0mdriver\u001b[0m\u001b[1;33m.\u001b[0m\u001b[0mfind_element_by_css_selector\u001b[0m\u001b[1;33m(\u001b[0m\u001b[1;34m\"table > tbody > tr:nth-child(\"\u001b[0m\u001b[1;33m+\u001b[0m\u001b[0mstr\u001b[0m\u001b[1;33m(\u001b[0m\u001b[0mtitle\u001b[0m\u001b[1;33m)\u001b[0m\u001b[1;33m+\u001b[0m\u001b[1;34m\") > td.title > div > span > a\"\u001b[0m\u001b[1;33m)\u001b[0m\u001b[1;33m\u001b[0m\u001b[1;33m\u001b[0m\u001b[0m\n\u001b[0m\u001b[0;32m     31\u001b[0m         \u001b[0mbtnName\u001b[0m\u001b[1;33m.\u001b[0m\u001b[0mclick\u001b[0m\u001b[1;33m(\u001b[0m\u001b[1;33m)\u001b[0m\u001b[1;33m\u001b[0m\u001b[1;33m\u001b[0m\u001b[0m\n\u001b[0;32m     32\u001b[0m         \u001b[0mtime\u001b[0m\u001b[1;33m.\u001b[0m\u001b[0msleep\u001b[0m\u001b[1;33m(\u001b[0m\u001b[1;36m4\u001b[0m\u001b[1;33m)\u001b[0m\u001b[1;33m\u001b[0m\u001b[1;33m\u001b[0m\u001b[0m\n",
      "\u001b[1;32m~\\anaconda3\\lib\\site-packages\\selenium\\webdriver\\remote\\webdriver.py\u001b[0m in \u001b[0;36mfind_element_by_css_selector\u001b[1;34m(self, css_selector)\u001b[0m\n\u001b[0;32m    596\u001b[0m             \u001b[0melement\u001b[0m \u001b[1;33m=\u001b[0m \u001b[0mdriver\u001b[0m\u001b[1;33m.\u001b[0m\u001b[0mfind_element_by_css_selector\u001b[0m\u001b[1;33m(\u001b[0m\u001b[1;34m'#foo'\u001b[0m\u001b[1;33m)\u001b[0m\u001b[1;33m\u001b[0m\u001b[1;33m\u001b[0m\u001b[0m\n\u001b[0;32m    597\u001b[0m         \"\"\"\n\u001b[1;32m--> 598\u001b[1;33m         \u001b[1;32mreturn\u001b[0m \u001b[0mself\u001b[0m\u001b[1;33m.\u001b[0m\u001b[0mfind_element\u001b[0m\u001b[1;33m(\u001b[0m\u001b[0mby\u001b[0m\u001b[1;33m=\u001b[0m\u001b[0mBy\u001b[0m\u001b[1;33m.\u001b[0m\u001b[0mCSS_SELECTOR\u001b[0m\u001b[1;33m,\u001b[0m \u001b[0mvalue\u001b[0m\u001b[1;33m=\u001b[0m\u001b[0mcss_selector\u001b[0m\u001b[1;33m)\u001b[0m\u001b[1;33m\u001b[0m\u001b[1;33m\u001b[0m\u001b[0m\n\u001b[0m\u001b[0;32m    599\u001b[0m \u001b[1;33m\u001b[0m\u001b[0m\n\u001b[0;32m    600\u001b[0m     \u001b[1;32mdef\u001b[0m \u001b[0mfind_elements_by_css_selector\u001b[0m\u001b[1;33m(\u001b[0m\u001b[0mself\u001b[0m\u001b[1;33m,\u001b[0m \u001b[0mcss_selector\u001b[0m\u001b[1;33m)\u001b[0m\u001b[1;33m:\u001b[0m\u001b[1;33m\u001b[0m\u001b[1;33m\u001b[0m\u001b[0m\n",
      "\u001b[1;32m~\\anaconda3\\lib\\site-packages\\selenium\\webdriver\\remote\\webdriver.py\u001b[0m in \u001b[0;36mfind_element\u001b[1;34m(self, by, value)\u001b[0m\n\u001b[0;32m    974\u001b[0m                 \u001b[0mby\u001b[0m \u001b[1;33m=\u001b[0m \u001b[0mBy\u001b[0m\u001b[1;33m.\u001b[0m\u001b[0mCSS_SELECTOR\u001b[0m\u001b[1;33m\u001b[0m\u001b[1;33m\u001b[0m\u001b[0m\n\u001b[0;32m    975\u001b[0m                 \u001b[0mvalue\u001b[0m \u001b[1;33m=\u001b[0m \u001b[1;34m'[name=\"%s\"]'\u001b[0m \u001b[1;33m%\u001b[0m \u001b[0mvalue\u001b[0m\u001b[1;33m\u001b[0m\u001b[1;33m\u001b[0m\u001b[0m\n\u001b[1;32m--> 976\u001b[1;33m         return self.execute(Command.FIND_ELEMENT, {\n\u001b[0m\u001b[0;32m    977\u001b[0m             \u001b[1;34m'using'\u001b[0m\u001b[1;33m:\u001b[0m \u001b[0mby\u001b[0m\u001b[1;33m,\u001b[0m\u001b[1;33m\u001b[0m\u001b[1;33m\u001b[0m\u001b[0m\n\u001b[0;32m    978\u001b[0m             'value': value})['value']\n",
      "\u001b[1;32m~\\anaconda3\\lib\\site-packages\\selenium\\webdriver\\remote\\webdriver.py\u001b[0m in \u001b[0;36mexecute\u001b[1;34m(self, driver_command, params)\u001b[0m\n\u001b[0;32m    319\u001b[0m         \u001b[0mresponse\u001b[0m \u001b[1;33m=\u001b[0m \u001b[0mself\u001b[0m\u001b[1;33m.\u001b[0m\u001b[0mcommand_executor\u001b[0m\u001b[1;33m.\u001b[0m\u001b[0mexecute\u001b[0m\u001b[1;33m(\u001b[0m\u001b[0mdriver_command\u001b[0m\u001b[1;33m,\u001b[0m \u001b[0mparams\u001b[0m\u001b[1;33m)\u001b[0m\u001b[1;33m\u001b[0m\u001b[1;33m\u001b[0m\u001b[0m\n\u001b[0;32m    320\u001b[0m         \u001b[1;32mif\u001b[0m \u001b[0mresponse\u001b[0m\u001b[1;33m:\u001b[0m\u001b[1;33m\u001b[0m\u001b[1;33m\u001b[0m\u001b[0m\n\u001b[1;32m--> 321\u001b[1;33m             \u001b[0mself\u001b[0m\u001b[1;33m.\u001b[0m\u001b[0merror_handler\u001b[0m\u001b[1;33m.\u001b[0m\u001b[0mcheck_response\u001b[0m\u001b[1;33m(\u001b[0m\u001b[0mresponse\u001b[0m\u001b[1;33m)\u001b[0m\u001b[1;33m\u001b[0m\u001b[1;33m\u001b[0m\u001b[0m\n\u001b[0m\u001b[0;32m    322\u001b[0m             response['value'] = self._unwrap_value(\n\u001b[0;32m    323\u001b[0m                 response.get('value', None))\n",
      "\u001b[1;32m~\\anaconda3\\lib\\site-packages\\selenium\\webdriver\\remote\\errorhandler.py\u001b[0m in \u001b[0;36mcheck_response\u001b[1;34m(self, response)\u001b[0m\n\u001b[0;32m    240\u001b[0m                 \u001b[0malert_text\u001b[0m \u001b[1;33m=\u001b[0m \u001b[0mvalue\u001b[0m\u001b[1;33m[\u001b[0m\u001b[1;34m'alert'\u001b[0m\u001b[1;33m]\u001b[0m\u001b[1;33m.\u001b[0m\u001b[0mget\u001b[0m\u001b[1;33m(\u001b[0m\u001b[1;34m'text'\u001b[0m\u001b[1;33m)\u001b[0m\u001b[1;33m\u001b[0m\u001b[1;33m\u001b[0m\u001b[0m\n\u001b[0;32m    241\u001b[0m             \u001b[1;32mraise\u001b[0m \u001b[0mexception_class\u001b[0m\u001b[1;33m(\u001b[0m\u001b[0mmessage\u001b[0m\u001b[1;33m,\u001b[0m \u001b[0mscreen\u001b[0m\u001b[1;33m,\u001b[0m \u001b[0mstacktrace\u001b[0m\u001b[1;33m,\u001b[0m \u001b[0malert_text\u001b[0m\u001b[1;33m)\u001b[0m\u001b[1;33m\u001b[0m\u001b[1;33m\u001b[0m\u001b[0m\n\u001b[1;32m--> 242\u001b[1;33m         \u001b[1;32mraise\u001b[0m \u001b[0mexception_class\u001b[0m\u001b[1;33m(\u001b[0m\u001b[0mmessage\u001b[0m\u001b[1;33m,\u001b[0m \u001b[0mscreen\u001b[0m\u001b[1;33m,\u001b[0m \u001b[0mstacktrace\u001b[0m\u001b[1;33m)\u001b[0m\u001b[1;33m\u001b[0m\u001b[1;33m\u001b[0m\u001b[0m\n\u001b[0m\u001b[0;32m    243\u001b[0m \u001b[1;33m\u001b[0m\u001b[0m\n\u001b[0;32m    244\u001b[0m     \u001b[1;32mdef\u001b[0m \u001b[0m_value_or_default\u001b[0m\u001b[1;33m(\u001b[0m\u001b[0mself\u001b[0m\u001b[1;33m,\u001b[0m \u001b[0mobj\u001b[0m\u001b[1;33m,\u001b[0m \u001b[0mkey\u001b[0m\u001b[1;33m,\u001b[0m \u001b[0mdefault\u001b[0m\u001b[1;33m)\u001b[0m\u001b[1;33m:\u001b[0m\u001b[1;33m\u001b[0m\u001b[1;33m\u001b[0m\u001b[0m\n",
      "\u001b[1;31mNoSuchElementException\u001b[0m: Message: no such element: Unable to locate element: {\"method\":\"css selector\",\"selector\":\"table > tbody > tr:nth-child(13) > td.title > div > span > a\"}\n  (Session info: chrome=91.0.4472.114)\n"
     ]
    }
   ],
   "source": [
    "#1~10은 숫자대로 다음은 11\n",
    "    #페이지당 30개의 견종정보 있음\n",
    "dog_list=[]\n",
    "driver=wb.Chrome()\n",
    "driver.get(\"https://blog.naver.com/hwyoon1001/221593074036\")\n",
    "element = driver.find_element_by_id(\"mainFrame\")\n",
    "time.sleep(2)\n",
    "driver.switch_to.frame(element)\n",
    "btnDog = driver.find_element_by_css_selector(\"#toplistWrapper > div.wrap_blog2_paginate > div > a.page.pcol2._goPageTop._param\\(2\\)\")\n",
    "btnDog.click()\n",
    "driver.switch_to.default_content()\n",
    "time.sleep(2)\n",
    "#------------페이지 for문 시작\n",
    "for page in range(1,25):\n",
    "    \n",
    "    time.sleep(1)\n",
    "    driver.switch_to.frame(element)\n",
    "    if page == 11 or page == 21:\n",
    "        nextPage= driver.find_element_by_css_selector('#toplistWrapper > div.wrap_blog2_paginate > div > a.next.pcol2._goPageTop._param\\('+str(page)+'\\).aggregate_click_delegate')\n",
    "        nextPage.click()\n",
    "    else:\n",
    "        btnDog = driver.find_element_by_css_selector(\"#toplistWrapper > div.wrap_blog2_paginate > div > a.page.pcol2._goPageTop._param\\(\"+str(page)+\"\\)\")\n",
    "        btnDog.click()\n",
    "    driver.switch_to.default_content()\n",
    "    time.sleep(1)\n",
    "        #------------타이틀 for문 시작\n",
    "    for title in range(1,31):\n",
    "        time.sleep(4)\n",
    "        driver.switch_to.frame(element)\n",
    "        btnName=driver.find_element_by_css_selector(\"table > tbody > tr:nth-child(\"+str(title)+\") > td.title > div > span > a\")\n",
    "        btnName.click()\n",
    "        time.sleep(4)\n",
    "        soup=bs(driver.page_source,'lxml')\n",
    "        dog=soup.select('#postViewArea')\n",
    "        for i in range(len(dog)):\n",
    "            dog[i] = dog[i].text.strip()\n",
    "        dog_list.append(dog)\n",
    "        driver.switch_to.default_content()\n",
    "        time.sleep(4)\n",
    "       \n",
    "           #timesleep(1.5) - 12\n",
    "           #timesleep(2)  - 13\n",
    "            #timesleep(3) - 14\n",
    "            #timesleep(4) - 15-13\n",
    "            #timesleep(5)-14-15"
   ]
  },
  {
   "cell_type": "code",
   "execution_count": 24,
   "metadata": {},
   "outputs": [],
   "source": [
    "#11~15은 숫자대로 다음은 21\n",
    "    #페이지당 30개의 견종정보 있음\n",
    "dog_list=[]\n",
    "driver=wb.Chrome()\n",
    "driver.get(\"https://blog.naver.com/hwyoon1001/221593074036\")\n",
    "element = driver.find_element_by_id(\"mainFrame\")\n",
    "time.sleep(2)\n",
    "driver.switch_to.frame(element)\n",
    "nextPage= driver.find_element_by_css_selector('#toplistWrapper > div.wrap_blog2_paginate > div > a.next.pcol2._goPageTop._param\\(11\\).aggregate_click_delegate')\n",
    "nextPage.click()\n",
    "time.sleep(2)\n",
    "btnDog = driver.find_element_by_css_selector(\"#toplistWrapper > div.wrap_blog2_paginate > div > a.page.pcol2._goPageTop._param\\(12\\)\")\n",
    "btnDog.click()\n",
    "driver.switch_to.default_content()\n",
    "time.sleep(2)\n",
    "#------------페이지 for문 시작\n",
    "for page in range(11,16):\n",
    "    \n",
    "    time.sleep(2)\n",
    "    driver.switch_to.frame(element)\n",
    "    btnDog = driver.find_element_by_css_selector(\"#toplistWrapper > div.wrap_blog2_paginate > div > a.page.pcol2._goPageTop._param\\(\"+str(page)+\"\\)\")\n",
    "    btnDog.click()\n",
    "    driver.switch_to.default_content()\n",
    "    time.sleep(2)\n",
    "        #------------타이틀 for문 시작\n",
    "    for title in range(1,31):\n",
    "        time.sleep(3)\n",
    "        driver.switch_to.frame(element)\n",
    "        btnName=driver.find_element_by_css_selector(\"table > tbody > tr:nth-child(\"+str(title)+\") > td.title > div > span > a\")\n",
    "        btnName.click()\n",
    "        time.sleep(3)\n",
    "        soup=bs(driver.page_source,'lxml')\n",
    "        dog=soup.select('#postViewArea')\n",
    "        for i in range(len(dog)):\n",
    "            dog[i] = dog[i].text.strip()\n",
    "        dog_list.append(dog)\n",
    "        driver.switch_to.default_content()\n",
    "        time.sleep(3)"
   ]
  },
  {
   "cell_type": "code",
   "execution_count": null,
   "metadata": {},
   "outputs": [],
   "source": [
    "#21~24은 숫자대로\n",
    "    #페이지당 30개의 견종정보 있음\n",
    "dog_list=[]\n",
    "driver=wb.Chrome()\n",
    "driver.get(\"https://blog.naver.com/hwyoon1001/221593074036\")\n",
    "element = driver.find_element_by_id(\"mainFrame\")\n",
    "time.sleep(2)\n",
    "driver.switch_to.frame(element)\n",
    "nextPage= driver.find_element_by_css_selector('#toplistWrapper > div.wrap_blog2_paginate > div > a.next.pcol2._goPageTop._param\\(11\\).aggregate_click_delegate')\n",
    "nextPage.click()\n",
    "time.sleep(2)\n",
    "nextPage= driver.find_element_by_css_selector('#toplistWrapper > div.wrap_blog2_paginate > div > a.next.pcol2._goPageTop._param\\(21\\).aggregate_click_delegate')\n",
    "nextPage.click()\n",
    "time.sleep(2)\n",
    "btnDog = driver.find_element_by_css_selector(\"#toplistWrapper > div.wrap_blog2_paginate > div > a.page.pcol2._goPageTop._param\\(22\\)\")\n",
    "btnDog.click()\n",
    "driver.switch_to.default_content()\n",
    "time.sleep(2)\n",
    "#------------페이지 for문 시작\n",
    "for page in range(21,25):\n",
    "    \n",
    "    time.sleep(1)\n",
    "    driver.switch_to.frame(element)\n",
    "    btnDog = driver.find_element_by_css_selector(\"#toplistWrapper > div.wrap_blog2_paginate > div > a.page.pcol2._goPageTop._param\\(\"+str(page)+\"\\)\")\n",
    "    btnDog.click()\n",
    "    driver.switch_to.default_content()\n",
    "    time.sleep(1)\n",
    "        #------------타이틀 for문 시작\n",
    "    for title in range(1,31):\n",
    "        time.sleep(1.5)\n",
    "        driver.switch_to.frame(element)\n",
    "        btnName=driver.find_element_by_css_selector(\"table > tbody > tr:nth-child(\"+str(title)+\") > td.title > div > span > a\")\n",
    "        btnName.click()\n",
    "        time.sleep(1.5)\n",
    "        soup=bs(driver.page_source,'lxml')\n",
    "        dog=soup.select('#postViewArea')\n",
    "        for i in range(len(dog)):\n",
    "            dog[i] = dog[i].text.strip()\n",
    "        dog_list.append(dog)\n",
    "        driver.switch_to.default_content()\n",
    "        time.sleep(1.5)"
   ]
  },
  {
   "cell_type": "code",
   "execution_count": 3,
   "metadata": {
    "collapsed": true
   },
   "outputs": [
    {
     "ename": "NoSuchElementException",
     "evalue": "Message: no such element: Unable to locate element: {\"method\":\"css selector\",\"selector\":\"table > tbody > tr:nth-child(19) > td.title > div > span > a\"}\n  (Session info: chrome=91.0.4472.114)\n",
     "output_type": "error",
     "traceback": [
      "\u001b[1;31m---------------------------------------------------------------------------\u001b[0m",
      "\u001b[1;31mNoSuchElementException\u001b[0m                    Traceback (most recent call last)",
      "\u001b[1;32m<ipython-input-3-a67bdfd6d82d>\u001b[0m in \u001b[0;36m<module>\u001b[1;34m\u001b[0m\n\u001b[0;32m     28\u001b[0m         \u001b[0mtime\u001b[0m\u001b[1;33m.\u001b[0m\u001b[0msleep\u001b[0m\u001b[1;33m(\u001b[0m\u001b[1;36m1.5\u001b[0m\u001b[1;33m)\u001b[0m\u001b[1;33m\u001b[0m\u001b[1;33m\u001b[0m\u001b[0m\n\u001b[0;32m     29\u001b[0m         \u001b[0mdriver\u001b[0m\u001b[1;33m.\u001b[0m\u001b[0mswitch_to\u001b[0m\u001b[1;33m.\u001b[0m\u001b[0mframe\u001b[0m\u001b[1;33m(\u001b[0m\u001b[0melement\u001b[0m\u001b[1;33m)\u001b[0m\u001b[1;33m\u001b[0m\u001b[1;33m\u001b[0m\u001b[0m\n\u001b[1;32m---> 30\u001b[1;33m         \u001b[0mName\u001b[0m\u001b[1;33m=\u001b[0m\u001b[0mdriver\u001b[0m\u001b[1;33m.\u001b[0m\u001b[0mfind_element_by_css_selector\u001b[0m\u001b[1;33m(\u001b[0m\u001b[1;34m\"table > tbody > tr:nth-child(\"\u001b[0m\u001b[1;33m+\u001b[0m\u001b[0mstr\u001b[0m\u001b[1;33m(\u001b[0m\u001b[0mtitle\u001b[0m\u001b[1;33m)\u001b[0m\u001b[1;33m+\u001b[0m\u001b[1;34m\") > td.title > div > span > a\"\u001b[0m\u001b[1;33m)\u001b[0m\u001b[1;33m.\u001b[0m\u001b[0mtext\u001b[0m\u001b[1;33m\u001b[0m\u001b[1;33m\u001b[0m\u001b[0m\n\u001b[0m\u001b[0;32m     31\u001b[0m         \u001b[0mdog_list\u001b[0m\u001b[1;33m.\u001b[0m\u001b[0mappend\u001b[0m\u001b[1;33m(\u001b[0m\u001b[0mName\u001b[0m\u001b[1;33m)\u001b[0m\u001b[1;33m\u001b[0m\u001b[1;33m\u001b[0m\u001b[0m\n\u001b[0;32m     32\u001b[0m         \u001b[0mtime\u001b[0m\u001b[1;33m.\u001b[0m\u001b[0msleep\u001b[0m\u001b[1;33m(\u001b[0m\u001b[1;36m1.5\u001b[0m\u001b[1;33m)\u001b[0m\u001b[1;33m\u001b[0m\u001b[1;33m\u001b[0m\u001b[0m\n",
      "\u001b[1;32m~\\anaconda3\\lib\\site-packages\\selenium\\webdriver\\remote\\webdriver.py\u001b[0m in \u001b[0;36mfind_element_by_css_selector\u001b[1;34m(self, css_selector)\u001b[0m\n\u001b[0;32m    596\u001b[0m             \u001b[0melement\u001b[0m \u001b[1;33m=\u001b[0m \u001b[0mdriver\u001b[0m\u001b[1;33m.\u001b[0m\u001b[0mfind_element_by_css_selector\u001b[0m\u001b[1;33m(\u001b[0m\u001b[1;34m'#foo'\u001b[0m\u001b[1;33m)\u001b[0m\u001b[1;33m\u001b[0m\u001b[1;33m\u001b[0m\u001b[0m\n\u001b[0;32m    597\u001b[0m         \"\"\"\n\u001b[1;32m--> 598\u001b[1;33m         \u001b[1;32mreturn\u001b[0m \u001b[0mself\u001b[0m\u001b[1;33m.\u001b[0m\u001b[0mfind_element\u001b[0m\u001b[1;33m(\u001b[0m\u001b[0mby\u001b[0m\u001b[1;33m=\u001b[0m\u001b[0mBy\u001b[0m\u001b[1;33m.\u001b[0m\u001b[0mCSS_SELECTOR\u001b[0m\u001b[1;33m,\u001b[0m \u001b[0mvalue\u001b[0m\u001b[1;33m=\u001b[0m\u001b[0mcss_selector\u001b[0m\u001b[1;33m)\u001b[0m\u001b[1;33m\u001b[0m\u001b[1;33m\u001b[0m\u001b[0m\n\u001b[0m\u001b[0;32m    599\u001b[0m \u001b[1;33m\u001b[0m\u001b[0m\n\u001b[0;32m    600\u001b[0m     \u001b[1;32mdef\u001b[0m \u001b[0mfind_elements_by_css_selector\u001b[0m\u001b[1;33m(\u001b[0m\u001b[0mself\u001b[0m\u001b[1;33m,\u001b[0m \u001b[0mcss_selector\u001b[0m\u001b[1;33m)\u001b[0m\u001b[1;33m:\u001b[0m\u001b[1;33m\u001b[0m\u001b[1;33m\u001b[0m\u001b[0m\n",
      "\u001b[1;32m~\\anaconda3\\lib\\site-packages\\selenium\\webdriver\\remote\\webdriver.py\u001b[0m in \u001b[0;36mfind_element\u001b[1;34m(self, by, value)\u001b[0m\n\u001b[0;32m    974\u001b[0m                 \u001b[0mby\u001b[0m \u001b[1;33m=\u001b[0m \u001b[0mBy\u001b[0m\u001b[1;33m.\u001b[0m\u001b[0mCSS_SELECTOR\u001b[0m\u001b[1;33m\u001b[0m\u001b[1;33m\u001b[0m\u001b[0m\n\u001b[0;32m    975\u001b[0m                 \u001b[0mvalue\u001b[0m \u001b[1;33m=\u001b[0m \u001b[1;34m'[name=\"%s\"]'\u001b[0m \u001b[1;33m%\u001b[0m \u001b[0mvalue\u001b[0m\u001b[1;33m\u001b[0m\u001b[1;33m\u001b[0m\u001b[0m\n\u001b[1;32m--> 976\u001b[1;33m         return self.execute(Command.FIND_ELEMENT, {\n\u001b[0m\u001b[0;32m    977\u001b[0m             \u001b[1;34m'using'\u001b[0m\u001b[1;33m:\u001b[0m \u001b[0mby\u001b[0m\u001b[1;33m,\u001b[0m\u001b[1;33m\u001b[0m\u001b[1;33m\u001b[0m\u001b[0m\n\u001b[0;32m    978\u001b[0m             'value': value})['value']\n",
      "\u001b[1;32m~\\anaconda3\\lib\\site-packages\\selenium\\webdriver\\remote\\webdriver.py\u001b[0m in \u001b[0;36mexecute\u001b[1;34m(self, driver_command, params)\u001b[0m\n\u001b[0;32m    319\u001b[0m         \u001b[0mresponse\u001b[0m \u001b[1;33m=\u001b[0m \u001b[0mself\u001b[0m\u001b[1;33m.\u001b[0m\u001b[0mcommand_executor\u001b[0m\u001b[1;33m.\u001b[0m\u001b[0mexecute\u001b[0m\u001b[1;33m(\u001b[0m\u001b[0mdriver_command\u001b[0m\u001b[1;33m,\u001b[0m \u001b[0mparams\u001b[0m\u001b[1;33m)\u001b[0m\u001b[1;33m\u001b[0m\u001b[1;33m\u001b[0m\u001b[0m\n\u001b[0;32m    320\u001b[0m         \u001b[1;32mif\u001b[0m \u001b[0mresponse\u001b[0m\u001b[1;33m:\u001b[0m\u001b[1;33m\u001b[0m\u001b[1;33m\u001b[0m\u001b[0m\n\u001b[1;32m--> 321\u001b[1;33m             \u001b[0mself\u001b[0m\u001b[1;33m.\u001b[0m\u001b[0merror_handler\u001b[0m\u001b[1;33m.\u001b[0m\u001b[0mcheck_response\u001b[0m\u001b[1;33m(\u001b[0m\u001b[0mresponse\u001b[0m\u001b[1;33m)\u001b[0m\u001b[1;33m\u001b[0m\u001b[1;33m\u001b[0m\u001b[0m\n\u001b[0m\u001b[0;32m    322\u001b[0m             response['value'] = self._unwrap_value(\n\u001b[0;32m    323\u001b[0m                 response.get('value', None))\n",
      "\u001b[1;32m~\\anaconda3\\lib\\site-packages\\selenium\\webdriver\\remote\\errorhandler.py\u001b[0m in \u001b[0;36mcheck_response\u001b[1;34m(self, response)\u001b[0m\n\u001b[0;32m    240\u001b[0m                 \u001b[0malert_text\u001b[0m \u001b[1;33m=\u001b[0m \u001b[0mvalue\u001b[0m\u001b[1;33m[\u001b[0m\u001b[1;34m'alert'\u001b[0m\u001b[1;33m]\u001b[0m\u001b[1;33m.\u001b[0m\u001b[0mget\u001b[0m\u001b[1;33m(\u001b[0m\u001b[1;34m'text'\u001b[0m\u001b[1;33m)\u001b[0m\u001b[1;33m\u001b[0m\u001b[1;33m\u001b[0m\u001b[0m\n\u001b[0;32m    241\u001b[0m             \u001b[1;32mraise\u001b[0m \u001b[0mexception_class\u001b[0m\u001b[1;33m(\u001b[0m\u001b[0mmessage\u001b[0m\u001b[1;33m,\u001b[0m \u001b[0mscreen\u001b[0m\u001b[1;33m,\u001b[0m \u001b[0mstacktrace\u001b[0m\u001b[1;33m,\u001b[0m \u001b[0malert_text\u001b[0m\u001b[1;33m)\u001b[0m\u001b[1;33m\u001b[0m\u001b[1;33m\u001b[0m\u001b[0m\n\u001b[1;32m--> 242\u001b[1;33m         \u001b[1;32mraise\u001b[0m \u001b[0mexception_class\u001b[0m\u001b[1;33m(\u001b[0m\u001b[0mmessage\u001b[0m\u001b[1;33m,\u001b[0m \u001b[0mscreen\u001b[0m\u001b[1;33m,\u001b[0m \u001b[0mstacktrace\u001b[0m\u001b[1;33m)\u001b[0m\u001b[1;33m\u001b[0m\u001b[1;33m\u001b[0m\u001b[0m\n\u001b[0m\u001b[0;32m    243\u001b[0m \u001b[1;33m\u001b[0m\u001b[0m\n\u001b[0;32m    244\u001b[0m     \u001b[1;32mdef\u001b[0m \u001b[0m_value_or_default\u001b[0m\u001b[1;33m(\u001b[0m\u001b[0mself\u001b[0m\u001b[1;33m,\u001b[0m \u001b[0mobj\u001b[0m\u001b[1;33m,\u001b[0m \u001b[0mkey\u001b[0m\u001b[1;33m,\u001b[0m \u001b[0mdefault\u001b[0m\u001b[1;33m)\u001b[0m\u001b[1;33m:\u001b[0m\u001b[1;33m\u001b[0m\u001b[1;33m\u001b[0m\u001b[0m\n",
      "\u001b[1;31mNoSuchElementException\u001b[0m: Message: no such element: Unable to locate element: {\"method\":\"css selector\",\"selector\":\"table > tbody > tr:nth-child(19) > td.title > div > span > a\"}\n  (Session info: chrome=91.0.4472.114)\n"
     ]
    }
   ],
   "source": [
    "#1~10은 숫자대로 다음은 11\n",
    "    #페이지당 30개의 견종정보 있음\n",
    "dog_list=[]\n",
    "driver=wb.Chrome()\n",
    "driver.get(\"https://blog.naver.com/hwyoon1001/221593074036\")\n",
    "element = driver.find_element_by_id(\"mainFrame\")\n",
    "time.sleep(2)\n",
    "driver.switch_to.frame(element)\n",
    "btnDog = driver.find_element_by_css_selector(\"#toplistWrapper > div.wrap_blog2_paginate > div > a.page.pcol2._goPageTop._param\\(2\\)\")\n",
    "btnDog.click()\n",
    "driver.switch_to.default_content()\n",
    "time.sleep(2)\n",
    "#------------페이지 for문 시작\n",
    "for page in range(1,25):\n",
    "    \n",
    "    time.sleep(1)\n",
    "    driver.switch_to.frame(element)\n",
    "    if page == 11 or page == 21:\n",
    "        nextPage= driver.find_element_by_css_selector('#toplistWrapper > div.wrap_blog2_paginate > div > a.next.pcol2._goPageTop._param\\('+str(page)+'\\).aggregate_click_delegate')\n",
    "        nextPage.click()\n",
    "    else:\n",
    "        btnDog = driver.find_element_by_css_selector(\"#toplistWrapper > div.wrap_blog2_paginate > div > a.page.pcol2._goPageTop._param\\(\"+str(page)+\"\\)\")\n",
    "        btnDog.click()\n",
    "    driver.switch_to.default_content()\n",
    "    time.sleep(1)\n",
    "        #------------타이틀 for문 시작\n",
    "    for title in range(1,31):\n",
    "        time.sleep(1.5)\n",
    "        driver.switch_to.frame(element)\n",
    "        Name=driver.find_element_by_css_selector(\"table > tbody > tr:nth-child(\"+str(title)+\") > td.title > div > span > a\").text\n",
    "        dog_list.append(Name)\n",
    "        time.sleep(1.5)\n",
    "        driver.switch_to.default_content()\n",
    "        time.sleep(1.5)"
   ]
  },
  {
   "cell_type": "code",
   "execution_count": 5,
   "metadata": {},
   "outputs": [
    {
     "data": {
      "text/plain": [
       "708"
      ]
     },
     "execution_count": 5,
     "metadata": {},
     "output_type": "execute_result"
    }
   ],
   "source": [
    "len(dog_list)"
   ]
  },
  {
   "cell_type": "code",
   "execution_count": 7,
   "metadata": {},
   "outputs": [],
   "source": [
    "dogName=pd.DataFrame(dog_list)"
   ]
  },
  {
   "cell_type": "code",
   "execution_count": 8,
   "metadata": {},
   "outputs": [],
   "source": [
    "dogName.rename(columns={dogName.columns[0]:'이름'},inplace=True)"
   ]
  },
  {
   "cell_type": "code",
   "execution_count": 9,
   "metadata": {
    "collapsed": true
   },
   "outputs": [
    {
     "data": {
      "text/html": [
       "<div>\n",
       "<style scoped>\n",
       "    .dataframe tbody tr th:only-of-type {\n",
       "        vertical-align: middle;\n",
       "    }\n",
       "\n",
       "    .dataframe tbody tr th {\n",
       "        vertical-align: top;\n",
       "    }\n",
       "\n",
       "    .dataframe thead th {\n",
       "        text-align: right;\n",
       "    }\n",
       "</style>\n",
       "<table border=\"1\" class=\"dataframe\">\n",
       "  <thead>\n",
       "    <tr style=\"text-align: right;\">\n",
       "      <th></th>\n",
       "      <th>이름</th>\n",
       "    </tr>\n",
       "  </thead>\n",
       "  <tbody>\n",
       "    <tr>\n",
       "      <th>0</th>\n",
       "      <td>트리잉 파이스트(Treeing Feist)</td>\n",
       "    </tr>\n",
       "    <tr>\n",
       "      <th>1</th>\n",
       "      <td>아메리칸 에스키모 도그(American Eskimo Dog)</td>\n",
       "    </tr>\n",
       "    <tr>\n",
       "      <th>2</th>\n",
       "      <td>스피츠(Spitz)</td>\n",
       "    </tr>\n",
       "    <tr>\n",
       "      <th>3</th>\n",
       "      <td>러셀 테리어(Russell Terrier)</td>\n",
       "    </tr>\n",
       "    <tr>\n",
       "      <th>4</th>\n",
       "      <td>펜-메리델 폭스하운드(Penn-Marydel Foxhound)</td>\n",
       "    </tr>\n",
       "  </tbody>\n",
       "</table>\n",
       "</div>"
      ],
      "text/plain": [
       "                                   이름\n",
       "0             트리잉 파이스트(Treeing Feist)\n",
       "1   아메리칸 에스키모 도그(American Eskimo Dog)\n",
       "2                          스피츠(Spitz)\n",
       "3             러셀 테리어(Russell Terrier)\n",
       "4  펜-메리델 폭스하운드(Penn-Marydel Foxhound)"
      ]
     },
     "execution_count": 9,
     "metadata": {},
     "output_type": "execute_result"
    }
   ],
   "source": [
    "dogName.head()"
   ]
  },
  {
   "cell_type": "code",
   "execution_count": null,
   "metadata": {},
   "outputs": [],
   "source": [
    "dogName.to_csv('dogName.csv'encoding='utf-8',index=False)"
   ]
  }
 ],
 "metadata": {
  "kernelspec": {
   "display_name": "Python 3",
   "language": "python",
   "name": "python3"
  },
  "language_info": {
   "codemirror_mode": {
    "name": "ipython",
    "version": 3
   },
   "file_extension": ".py",
   "mimetype": "text/x-python",
   "name": "python",
   "nbconvert_exporter": "python",
   "pygments_lexer": "ipython3",
   "version": "3.8.5"
  }
 },
 "nbformat": 4,
 "nbformat_minor": 4
}
