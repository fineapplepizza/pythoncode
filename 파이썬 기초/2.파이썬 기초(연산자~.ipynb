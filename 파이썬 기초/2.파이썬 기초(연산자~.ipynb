{
 "cells": [
  {
   "cell_type": "markdown",
   "metadata": {},
   "source": [
    "## 산술연산자\n",
    "- 종류: 산술연산자, 지수연산자, 대입연산자, 삼항연산자, 비교연산자, 논리연산자"
   ]
  },
  {
   "cell_type": "markdown",
   "metadata": {},
   "source": [
    "- 나누기 연산자: /(나누기), //(몫), %(나머지)"
   ]
  },
  {
   "cell_type": "code",
   "execution_count": 1,
   "metadata": {},
   "outputs": [
    {
     "name": "stdout",
     "output_type": "stream",
     "text": [
      "1.4285714285714286\n",
      "3\n",
      "1\n"
     ]
    }
   ],
   "source": [
    "#산술연산자\n",
    "num1 = 10\n",
    "num2 = 7\n",
    "print(num1/num2)\n",
    "print(num1%num2)\n",
    "print(num1//num2)"
   ]
  },
  {
   "cell_type": "code",
   "execution_count": 2,
   "metadata": {},
   "outputs": [
    {
     "name": "stdout",
     "output_type": "stream",
     "text": [
      "107\n",
      "17\n"
     ]
    }
   ],
   "source": [
    "num1 = 10\n",
    "str2 = \"7\"\n",
    "\n",
    "print(str(num1) + str2)\n",
    "print(num1 + int(str2))"
   ]
  },
  {
   "cell_type": "code",
   "execution_count": 3,
   "metadata": {},
   "outputs": [
    {
     "name": "stdout",
     "output_type": "stream",
     "text": [
      "더하기 결과: 26\n",
      "빼기 결과: 20\n",
      "곱하기 결과: 69\n",
      "나누기 결과 7.666666666666667\n"
     ]
    }
   ],
   "source": [
    "num1 = 23\n",
    "num2 = 3\n",
    "\n",
    "print(\"더하기 결과: {}\".format(num1+num2)) #%d로도 할 수 있음\n",
    "print(\"빼기 결과: {}\".format(num1-num2))\n",
    "print(\"곱하기 결과: {}\".format(num1*num2))\n",
    "print(\"나누기 결과 {}\".format(num1/num2))"
   ]
  },
  {
   "cell_type": "markdown",
   "metadata": {},
   "source": [
    "## 키보드로부터 입력받기: input()\n",
    "- 입력한 값을 문자열로 돌려준다!(반환)"
   ]
  },
  {
   "cell_type": "code",
   "execution_count": 8,
   "metadata": {},
   "outputs": [
    {
     "name": "stdout",
     "output_type": "stream",
     "text": [
      "정수를 입력해주세요133\n"
     ]
    }
   ],
   "source": [
    "# 기능의 대한 설명보기: shift + tab\n",
    "num = input('정수를 입력해주세요')"
   ]
  },
  {
   "cell_type": "code",
   "execution_count": 7,
   "metadata": {},
   "outputs": [
    {
     "name": "stdout",
     "output_type": "stream",
     "text": [
      "<class 'str'>\n"
     ]
    }
   ],
   "source": [
    "# 데이터의 타입을 확인할 때\n",
    "print(type(num))"
   ]
  },
  {
   "cell_type": "code",
   "execution_count": 10,
   "metadata": {},
   "outputs": [
    {
     "name": "stdout",
     "output_type": "stream",
     "text": [
      "첫 번째 정수 입력: 23\n",
      "두 번째 정수 입력: 3\n",
      "더하기 결과: 26\n",
      "빼기 결과: 20\n",
      "곱하기 결과: 69\n",
      "나누기 결과 7.666666666666667\n"
     ]
    }
   ],
   "source": [
    "# input() 기능의 문자열로 반환해주기 때문에 산술연산이 되지 않는다!\n",
    "# 해결책: 문자열을 정수로 변환\n",
    "num1 = int(input('첫 번째 정수 입력: '))\n",
    "num2 = int(input('두 번째 정수 입력: '))\n",
    "\n",
    "print(\"더하기 결과: {}\".format(num1+num2)) \n",
    "print(\"빼기 결과: {}\".format(num1-num2))\n",
    "print(\"곱하기 결과: {}\".format(num1*num2))\n",
    "print(\"나누기 결과 {}\".format(num1/num2))"
   ]
  },
  {
   "cell_type": "code",
   "execution_count": 11,
   "metadata": {},
   "outputs": [
    {
     "name": "stdout",
     "output_type": "stream",
     "text": [
      "python 점수 입력 >>100\n",
      "머신러닝 점수 입력 >>80\n",
      "딥러닝 점수 입력 >>60\n",
      "합계 : 240\n",
      "평균 : 80.0\n"
     ]
    }
   ],
   "source": [
    "python = int(input(\"python 점수 입력 >>\"))\n",
    "mr = int(input(\"머신러닝 점수 입력 >>\"))\n",
    "deep = int(input(\"딥러닝 점수 입력 >>\"))\n",
    "\n",
    "#3개 과목에 대한 더한 결과를 변수에 저장\n",
    "#코드를 작성한 후 중복되는 코드가 있는지? 최소화할 수 있는지? 에 대한 고민을 해 볼것!\n",
    "avg = python+mr+deep\n",
    "\n",
    "print(\"합계 : {}\".format(avg))   #format((python+mr+deep)\n",
    "print(\"평균 : {}\".format(avg/3)) #format((python+mr+deep)/3) # 연산자 우선순위 높이는 법 : ()"
   ]
  },
  {
   "cell_type": "code",
   "execution_count": 43,
   "metadata": {},
   "outputs": [
    {
     "name": "stdout",
     "output_type": "stream",
     "text": [
      "시간 입력 >>5000\n",
      "1시간 23분 20초\n"
     ]
    }
   ],
   "source": [
    "time = int(input(\"시간 입력 >>\"))\n",
    "hour = time // 3600\n",
    "minute = (time % 3600) // 60\n",
    "second = (time % 3600) % 60\n",
    "\n",
    "print(\"{}시간 {}분 {}초\".format(hour, minute, second))"
   ]
  },
  {
   "cell_type": "code",
   "execution_count": 24,
   "metadata": {},
   "outputs": [
    {
     "name": "stdout",
     "output_type": "stream",
     "text": [
      "8\n",
      "256\n"
     ]
    }
   ],
   "source": [
    "# 지수연산자 : 숫자**지수\n",
    "#2의 3승은? 8\n",
    "\n",
    "print(2**3)\n",
    "print(4 ** 4)"
   ]
  },
  {
   "cell_type": "code",
   "execution_count": null,
   "metadata": {},
   "outputs": [],
   "source": [
    "#복합대입연산자"
   ]
  },
  {
   "cell_type": "code",
   "execution_count": 27,
   "metadata": {},
   "outputs": [
    {
     "name": "stdout",
     "output_type": "stream",
     "text": [
      "36\n"
     ]
    }
   ],
   "source": [
    "num = 27\n",
    "\n",
    "num += 3 #num = num + 3 과 같은 수식\n",
    "num +=3\n",
    "num +=3\n",
    "print(num)"
   ]
  },
  {
   "cell_type": "code",
   "execution_count": 28,
   "metadata": {},
   "outputs": [
    {
     "name": "stdout",
     "output_type": "stream",
     "text": [
      "10\n",
      "5\n"
     ]
    }
   ],
   "source": [
    "# 치환\n",
    "num1 = 5    \n",
    "num2 = 10\n",
    "\n",
    "num1, num2 = num2, num1\n",
    "\n",
    "# temp = num1\n",
    "# num1 = num2\n",
    "# num2 = temp\n",
    "\n",
    "print(num1)\n",
    "print(num2)"
   ]
  },
  {
   "cell_type": "code",
   "execution_count": 30,
   "metadata": {},
   "outputs": [
    {
     "name": "stdout",
     "output_type": "stream",
     "text": [
      "False\n",
      "True\n",
      "False\n",
      "True\n"
     ]
    }
   ],
   "source": [
    "#비교 연산자\n",
    "a = 3\n",
    "b = 7\n",
    "\n",
    "print(a > b)\n",
    "print(a <= b)\n",
    "print(a == b)\n",
    "print(a != b)"
   ]
  },
  {
   "cell_type": "code",
   "execution_count": null,
   "metadata": {},
   "outputs": [],
   "source": [
    "# and 연산자\n",
    "# 앞에 식에 대한 값이 False이면 뒤의 식을 확인하지 않고 끝낸다!\n",
    "print(3 > 5 and 10 == 20)\n",
    "print(3 > 5 and 10 < 20)\n",
    "print(3 > 5 and 10 > 20)\n",
    "\n",
    "#or 연산자\n",
    "print(3 > 5 or 10 == 20)\n",
    "print(3 > 5 or 10 < 20)\n",
    "print(3 > 5 or 10 > 20)"
   ]
  },
  {
   "cell_type": "code",
   "execution_count": 33,
   "metadata": {},
   "outputs": [
    {
     "name": "stdout",
     "output_type": "stream",
     "text": [
      "불합격\n"
     ]
    }
   ],
   "source": [
    "# 삼항 연산자\n",
    "score = 45\n",
    "\n",
    "print( \"합격\" if score >= 60 else \"불합격\")"
   ]
  },
  {
   "cell_type": "code",
   "execution_count": 55,
   "metadata": {},
   "outputs": [
    {
     "name": "stdout",
     "output_type": "stream",
     "text": [
      "정수 입력 >>1\n",
      "1는(은) 홀수입니다.\n"
     ]
    }
   ],
   "source": [
    "### 삼항 연산자 구조\n",
    "# True 일때 if 조건식 else False일 때\n",
    "num1 = int(input(\"정수 입력 >>\"))\n",
    "\n",
    "result = \"짝수\" if num1 % 2 == 0 else \"홀수\"\n",
    "# print(\"{}은 {}입니다.\".format(num1,result))\n",
    "print(f'{num1}는(은) {result}입니다.')\n",
    "# print(\"{}는(은) {}입니다.\".format(num1,\"짝수\" if num1 % 2 == 0 else \"홀수\"))\n",
    "# print(\"{}는(은) 짝수입니다\".format(num1) if num1 % 2 == 0 else \"{}는(은) 홀수입니다.\".format(num1))\n",
    "# print(f'{num1}는(은) 짝수입니다' if num%2 ==0 else f'{num1}는(은) 홀수입니다.')"
   ]
  },
  {
   "cell_type": "code",
   "execution_count": 45,
   "metadata": {},
   "outputs": [
    {
     "name": "stdout",
     "output_type": "stream",
     "text": [
      "첫 번째 정수 입력 >>123\n",
      "두 번째 정수 입력 >>2\n",
      "두 수의 차:121\n"
     ]
    }
   ],
   "source": [
    "num1 = int(input(\"첫 번째 정수 입력 >>\"))\n",
    "num2 = int(input(\"두 번째 정수 입력 >>\"))\n",
    "\n",
    "result = num1 - num2 if num1 > num2 else num2-num1\n",
    "\n",
    "\n",
    "print(\"두 수의 차: {}\".format(result))\n",
    "\n",
    "# print(f'두 수의 차:{num1-num2}' if num1>num2 else f'두 수의 차:{num2-num1}')\n",
    "\n",
    "#print(\"두 수의 차{}\".format(num1-num2 if num1 >num2 else num2-num1))\n",
    "\n",
    "# print(\"두 수의 차:{}\".format(num1 - num2)if num1 > num2 else\"두 수의 차: {}\".format(num2-num1))\n"
   ]
  },
  {
   "cell_type": "markdown",
   "metadata": {},
   "source": [
    "## 조건문\n",
    "- 어떠한 상황에 대해 다르게 처리하는 구문\n",
    "- 종류에는 단순 if, if~else, elif"
   ]
  },
  {
   "cell_type": "code",
   "execution_count": null,
   "metadata": {},
   "outputs": [],
   "source": [
    "#단순 if문 구조\n",
    "if 조건식의 결과가 참일 때:\n",
    "    실행문장 동작"
   ]
  },
  {
   "cell_type": "code",
   "execution_count": 57,
   "metadata": {},
   "outputs": [
    {
     "name": "stdout",
     "output_type": "stream",
     "text": [
      "실행!\n"
     ]
    }
   ],
   "source": [
    "if True:\n",
    "    print('실행!')\n",
    "    \n",
    "if False:\n",
    "    print('실행!')"
   ]
  },
  {
   "cell_type": "code",
   "execution_count": 61,
   "metadata": {},
   "outputs": [
    {
     "name": "stdout",
     "output_type": "stream",
     "text": [
      "현재 보유 금액 : 1234\n",
      "버스를 탄다\n"
     ]
    }
   ],
   "source": [
    "money = int(input('현재 보유 금액 : '))\n",
    "if money >= 10000:\n",
    "    print(\"택시를 탄다\")"
   ]
  },
  {
   "cell_type": "code",
   "execution_count": null,
   "metadata": {},
   "outputs": [],
   "source": [
    "money = int(input('현재 보유 금액 : '))\n",
    "if money >= 10000:\n",
    "    print(\"택시를 탄다\")\n",
    "#else 키워드 뒤에 조건식을 작성하지 않는다!\n",
    "    else:\n",
    "    print('버스를 탄다.')"
   ]
  },
  {
   "cell_type": "code",
   "execution_count": 63,
   "metadata": {},
   "outputs": [
    {
     "name": "stdout",
     "output_type": "stream",
     "text": [
      "정수 입력 >>30\n",
      "3과 5의 배수입니다.\n"
     ]
    }
   ],
   "source": [
    "num = int(input(\"정수 입력 >>\"))\n",
    "if num%3 == 0 and num%5 == 0: #num%15 == 0\n",
    "    print('3과 5의 배수입니다.')\n",
    "else:\n",
    "    print('3과 5의 배수가 아닙니다.')"
   ]
  },
  {
   "cell_type": "code",
   "execution_count": 65,
   "metadata": {},
   "outputs": [
    {
     "name": "stdout",
     "output_type": "stream",
     "text": [
      "실행문장2\n"
     ]
    }
   ],
   "source": [
    "# elif 구문\n",
    "if False:\n",
    "    print('실행문장1')\n",
    "elif True:\n",
    "    print('실행문장2')"
   ]
  },
  {
   "cell_type": "code",
   "execution_count": 66,
   "metadata": {},
   "outputs": [
    {
     "name": "stdout",
     "output_type": "stream",
     "text": [
      "첫 번째 정수 입력 >>3\n",
      "두 번째 정수 입력 >>3\n",
      "두 수가 똑같습니다\n"
     ]
    }
   ],
   "source": [
    "num1 = int(input('첫 번째 정수 입력 >>'))\n",
    "num2 = int(input('두 번째 정수 입력 >>'))\n",
    "\n",
    "if num1 > num2:\n",
    "    print('첫 번째 정수가 더 큽니다.')\n",
    "elif num1 < num2:\n",
    "    print('두 번째 정수가 더 큽니다.')\n",
    "else:\n",
    "    print('두 수가 똑같습니다')"
   ]
  },
  {
   "cell_type": "code",
   "execution_count": 68,
   "metadata": {},
   "outputs": [
    {
     "name": "stdout",
     "output_type": "stream",
     "text": [
      "점수 입력 >>77\n",
      "77은 C학점 입니다.\n"
     ]
    }
   ],
   "source": [
    "score = int(input('점수 입력 >>'))\n",
    "\n",
    "if 90 <= score <= 100: # 90<= score and score <= 100\n",
    "    print('{}은 A학점 입니다.'.format(score)) #print(f'{score}은 A학점입니다.')\n",
    "elif 80 <= score:\n",
    "    print('{}은 B학점 입니다.'.format(score))\n",
    "elif 70 <= score:\n",
    "    print('{}은 C학점 입니다.'.format(score))\n",
    "elif 60 <= score:\n",
    "    print('{}은 D학점 입니다.'.format(score))\n",
    "else:\n",
    "    print('{}은 F학점 입니다.'.format(score))\n"
   ]
  },
  {
   "cell_type": "code",
   "execution_count": 67,
   "metadata": {},
   "outputs": [
    {
     "name": "stdout",
     "output_type": "stream",
     "text": [
      "점수 입력 >>80\n",
      "80은 B학점 입니다.\n"
     ]
    }
   ],
   "source": [
    "score = int(input('점수 입력 >>'))\n",
    "\n",
    "if 90<= score <=100:\n",
    "    result = 'A'\n",
    "elif 80<= score:\n",
    "    result = 'B'\n",
    "elif 70<= score:\n",
    "    result = 'C'\n",
    "elif 60<= score:\n",
    "    result = 'D'\n",
    "else:\n",
    "    result = 'F'\n",
    "print(\"{}은 {}학점 입니다.\".format(score,result))"
   ]
  },
  {
   "cell_type": "markdown",
   "metadata": {},
   "source": [
    "### 단순 if  VS elif\n",
    "- elif문은 조건이 부합할 때 다른 조건을 확인하지 않는다 !"
   ]
  },
  {
   "cell_type": "code",
   "execution_count": 71,
   "metadata": {},
   "outputs": [
    {
     "name": "stdout",
     "output_type": "stream",
     "text": [
      "30대 입니다.\n"
     ]
    }
   ],
   "source": [
    "age = 31\n",
    "\n",
    "if age >= 30:\n",
    "    print('30대 입니다.')\n",
    "elif age >= 20:\n",
    "    print('20대 입니다.')"
   ]
  },
  {
   "cell_type": "code",
   "execution_count": 72,
   "metadata": {},
   "outputs": [
    {
     "name": "stdout",
     "output_type": "stream",
     "text": [
      "30대 입니다.\n",
      "20대 입니다.\n"
     ]
    }
   ],
   "source": [
    "age = 31\n",
    "\n",
    "if age >= 30:\n",
    "    print('30대 입니다.')\n",
    "if age >= 20:\n",
    "    print('20대 입니다.')"
   ]
  },
  {
   "cell_type": "code",
   "execution_count": 6,
   "metadata": {},
   "outputs": [
    {
     "name": "stdout",
     "output_type": "stream",
     "text": [
      "구매할 선물 개수:10\n",
      "총 금액: 97000\n"
     ]
    }
   ],
   "source": [
    "pd_count = int(input('구매할 선물 개수:'))\n",
    "\n",
    "pd_money = 10000\n",
    "totalMoney = 0\n",
    "\n",
    "if pd_count >= 11:\n",
    "    if pd_count%10 == 0:\n",
    "        totalMoney = pd_money*pd_count*0.87\n",
    "    else:\n",
    "        totalMoney = pd_money*pd_count*0.9\n",
    "else:\n",
    "    if pd_count % 10 == 0:\n",
    "        totalMoney = pd_money*pd_count*0.97\n",
    "    else:\n",
    "        totalMoney = pd_money*pd_count\n",
    "        \n",
    "print('총 금액: {}'.format(int(totalMoney)))"
   ]
  },
  {
   "cell_type": "code",
   "execution_count": 17,
   "metadata": {},
   "outputs": [
    {
     "name": "stdout",
     "output_type": "stream",
     "text": [
      "-----[SM Coffee]-----\n",
      "금액 입력:8900\n",
      "커피를 고르세요.\n",
      "[1]에스프레소(600원) [2]아메리카노(1000원) [3]카페라떼(1300원)>>1\n",
      "거스름돈: 8300\n",
      "천원: 8\n",
      "오백원: 0개\n",
      "백원: 3개\n"
     ]
    }
   ],
   "source": [
    "# 자판기 프로그램\n",
    "print('-----[SM Coffee]-----')\n",
    "\n",
    "\n",
    "input_money = int(input('금액 입력:'))\n",
    "print('커피를 고르세요.')\n",
    "\n",
    "#선택한 메뉴정보를 저장하는 변수\n",
    "choice = int(input('[1]에스프레소(600원) [2]아메리카노(1000원) [3]카페라떼(1300원)>>'))\n",
    "\n",
    "change = 0 # 거스름돈을 저장하는 변수\n",
    "price = 0 # 음료가격을 저장하는 변수\n",
    "\n",
    "if choice == 1:\n",
    "    price = 600\n",
    "elif choice == 2:\n",
    "    price = 1000\n",
    "elif choice == 3:\n",
    "    price = 1300\n",
    "     \n",
    "if input_money >= price:\n",
    "    change = input_money - price\n",
    "    print('거스름돈: {}'.format(change))\n",
    "    \n",
    "    #천원, 오백원, 백원의 개수 출력\n",
    "    m1000 = change // 1000\n",
    "    m500 = (change % 1000)//500\n",
    "    m100 = ((change % 1000) % 500)//100\n",
    "          \n",
    "    print('천원: {}'.format(m1000))\n",
    "    print('오백원: {}개'.format(m500))\n",
    "    print('백원: {}개'.format(m100))\n",
    "else:\n",
    "    print('돈이 부족해요..ㅠㅠ')\n",
    "# if choice == 1:\n",
    "#      change = input_money - 600\n",
    "# elif choice == 2:\n",
    "#      change = input_money - 600\n",
    "# elif choice == 3:\n",
    "#      change = input_money - 600\n",
    "\n",
    "# print('거스름돈: {}'.format(change))"
   ]
  },
  {
   "cell_type": "code",
   "execution_count": null,
   "metadata": {},
   "outputs": [],
   "source": []
  },
  {
   "cell_type": "code",
   "execution_count": null,
   "metadata": {},
   "outputs": [],
   "source": []
  },
  {
   "cell_type": "code",
   "execution_count": null,
   "metadata": {},
   "outputs": [],
   "source": []
  },
  {
   "cell_type": "code",
   "execution_count": null,
   "metadata": {},
   "outputs": [],
   "source": []
  },
  {
   "cell_type": "code",
   "execution_count": null,
   "metadata": {},
   "outputs": [],
   "source": []
  },
  {
   "cell_type": "code",
   "execution_count": null,
   "metadata": {},
   "outputs": [],
   "source": []
  },
  {
   "cell_type": "code",
   "execution_count": null,
   "metadata": {},
   "outputs": [],
   "source": []
  },
  {
   "cell_type": "code",
   "execution_count": null,
   "metadata": {},
   "outputs": [],
   "source": []
  },
  {
   "cell_type": "code",
   "execution_count": null,
   "metadata": {},
   "outputs": [],
   "source": []
  },
  {
   "cell_type": "code",
   "execution_count": null,
   "metadata": {},
   "outputs": [],
   "source": []
  }
 ],
 "metadata": {
  "kernelspec": {
   "display_name": "Python 3",
   "language": "python",
   "name": "python3"
  },
  "language_info": {
   "codemirror_mode": {
    "name": "ipython",
    "version": 3
   },
   "file_extension": ".py",
   "mimetype": "text/x-python",
   "name": "python",
   "nbconvert_exporter": "python",
   "pygments_lexer": "ipython3",
   "version": "3.8.5"
  }
 },
 "nbformat": 4,
 "nbformat_minor": 4
}
