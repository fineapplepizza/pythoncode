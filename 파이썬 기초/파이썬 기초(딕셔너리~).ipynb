{
 "cells": [
  {
   "cell_type": "markdown",
   "metadata": {},
   "source": [
    "# 딕셔너리\n",
    "- key와 value로 구성되어 있는 자료형"
   ]
  },
  {
   "cell_type": "code",
   "execution_count": 1,
   "metadata": {},
   "outputs": [
    {
     "data": {
      "text/plain": [
       "{'name': '인쌤'}"
      ]
     },
     "execution_count": 1,
     "metadata": {},
     "output_type": "execute_result"
    }
   ],
   "source": [
    "#딕셔너리 생성\n",
    "dic_1 = {\"name\":\"인쌤\"}\n",
    "dic_1"
   ]
  },
  {
   "cell_type": "code",
   "execution_count": 2,
   "metadata": {},
   "outputs": [
    {
     "data": {
      "text/plain": [
       "{'name': '인쌤', 'age': 20, 'phone': '062-655-3509'}"
      ]
     },
     "execution_count": 2,
     "metadata": {},
     "output_type": "execute_result"
    }
   ],
   "source": [
    "dic_1 = {\"name\":\"인쌤\", \"age\":20, \"phone\":\"062-655-3509\"}\n",
    "dic_1"
   ]
  },
  {
   "cell_type": "code",
   "execution_count": 3,
   "metadata": {},
   "outputs": [
    {
     "data": {
      "text/plain": [
       "dict"
      ]
     },
     "execution_count": 3,
     "metadata": {},
     "output_type": "execute_result"
    }
   ],
   "source": [
    "type(dic_1)"
   ]
  },
  {
   "cell_type": "code",
   "execution_count": 26,
   "metadata": {},
   "outputs": [
    {
     "name": "stdout",
     "output_type": "stream",
     "text": [
      "인쌤\n",
      "20\n",
      "062-655-3509\n",
      "None\n",
      "True\n"
     ]
    }
   ],
   "source": [
    "# 딕셔너리 내 데이터 접근\n",
    "# 반드시 존재하는 key인 경우\n",
    "print(dic_1['name'])\n",
    "print(dic_1['age'])\n",
    "print(dic_1['phone'])\n",
    "print(dic_1.get('blood'))\n",
    "print(dic_1.get('blood')==None) # 해당 key가 없는 경우 비교판단 할 수 있다."
   ]
  },
  {
   "cell_type": "code",
   "execution_count": 7,
   "metadata": {},
   "outputs": [],
   "source": [
    "# 딕셔너리 데이터 추가\n",
    "dic_1['height'] = 178"
   ]
  },
  {
   "cell_type": "code",
   "execution_count": 9,
   "metadata": {},
   "outputs": [],
   "source": [
    "dic_1['address'] = '광주 남구 송암로 60'"
   ]
  },
  {
   "cell_type": "code",
   "execution_count": 12,
   "metadata": {},
   "outputs": [],
   "source": [
    "dic_1['blood'] = 'A'"
   ]
  },
  {
   "cell_type": "code",
   "execution_count": 13,
   "metadata": {},
   "outputs": [
    {
     "data": {
      "text/plain": [
       "{'name': '인쌤',\n",
       " 'age': 20,\n",
       " 'phone': '062-655-3509',\n",
       " 'height': 178,\n",
       " 'address': '광주 남구 송암로 60',\n",
       " 'blood': 'A'}"
      ]
     },
     "execution_count": 13,
     "metadata": {},
     "output_type": "execute_result"
    }
   ],
   "source": [
    "dic_1"
   ]
  },
  {
   "cell_type": "code",
   "execution_count": 14,
   "metadata": {},
   "outputs": [
    {
     "data": {
      "text/plain": [
       "{'노래제목': '아무노래'}"
      ]
     },
     "execution_count": 14,
     "metadata": {},
     "output_type": "execute_result"
    }
   ],
   "source": [
    "dic_test = {'노래제목':'아무노래'}\n",
    "dic_test"
   ]
  },
  {
   "cell_type": "code",
   "execution_count": 18,
   "metadata": {},
   "outputs": [],
   "source": [
    "dic_test['가수'] = '지코'"
   ]
  },
  {
   "cell_type": "code",
   "execution_count": 16,
   "metadata": {},
   "outputs": [],
   "source": [
    "dic_test['날짜'] = '2020.01.13'"
   ]
  },
  {
   "cell_type": "code",
   "execution_count": 19,
   "metadata": {},
   "outputs": [
    {
     "data": {
      "text/plain": [
       "{'노래제목': '아무노래', '가수': '지코', '날짜': '2020.01.13'}"
      ]
     },
     "execution_count": 19,
     "metadata": {},
     "output_type": "execute_result"
    }
   ],
   "source": [
    "dic_test"
   ]
  },
  {
   "cell_type": "code",
   "execution_count": 22,
   "metadata": {},
   "outputs": [
    {
     "ename": "KeyError",
     "evalue": "'blood'",
     "output_type": "error",
     "traceback": [
      "\u001b[1;31m---------------------------------------------------------------------------\u001b[0m",
      "\u001b[1;31mKeyError\u001b[0m                                  Traceback (most recent call last)",
      "\u001b[1;32m<ipython-input-22-1395d6113ae4>\u001b[0m in \u001b[0;36m<module>\u001b[1;34m\u001b[0m\n\u001b[0;32m      1\u001b[0m \u001b[1;31m# 딕셔너리 데이터 삭제\u001b[0m\u001b[1;33m\u001b[0m\u001b[1;33m\u001b[0m\u001b[1;33m\u001b[0m\u001b[0m\n\u001b[1;32m----> 2\u001b[1;33m \u001b[1;32mdel\u001b[0m \u001b[0mdic_1\u001b[0m\u001b[1;33m[\u001b[0m\u001b[1;34m'blood'\u001b[0m\u001b[1;33m]\u001b[0m\u001b[1;33m\u001b[0m\u001b[1;33m\u001b[0m\u001b[0m\n\u001b[0m",
      "\u001b[1;31mKeyError\u001b[0m: 'blood'"
     ]
    }
   ],
   "source": [
    "# 딕셔너리 데이터 삭제 \n",
    "del dic_1['blood']"
   ]
  },
  {
   "cell_type": "code",
   "execution_count": 21,
   "metadata": {},
   "outputs": [
    {
     "data": {
      "text/plain": [
       "{'name': '인쌤',\n",
       " 'age': 20,\n",
       " 'phone': '062-655-3509',\n",
       " 'height': 178,\n",
       " 'address': '광주 남구 송암로 60'}"
      ]
     },
     "execution_count": 21,
     "metadata": {},
     "output_type": "execute_result"
    }
   ],
   "source": [
    "dic_1"
   ]
  },
  {
   "cell_type": "code",
   "execution_count": 28,
   "metadata": {},
   "outputs": [],
   "source": [
    "# 딕셔너리 데이터 수정\n",
    "dic_1['age'] = 25"
   ]
  },
  {
   "cell_type": "code",
   "execution_count": 29,
   "metadata": {},
   "outputs": [
    {
     "data": {
      "text/plain": [
       "{'name': '인쌤',\n",
       " 'age': 25,\n",
       " 'phone': '062-655-3509',\n",
       " 'height': 178,\n",
       " 'address': '광주 남구 송암로 60'}"
      ]
     },
     "execution_count": 29,
     "metadata": {},
     "output_type": "execute_result"
    }
   ],
   "source": [
    "dic_1"
   ]
  },
  {
   "cell_type": "code",
   "execution_count": 33,
   "metadata": {},
   "outputs": [
    {
     "name": "stdout",
     "output_type": "stream",
     "text": [
      "name\n",
      "age\n",
      "phone\n",
      "height\n",
      "address\n"
     ]
    }
   ],
   "source": [
    "# 딕셔너리의 key값만 접근\n",
    "for key in dic_1.keys():\n",
    "    print(key)"
   ]
  },
  {
   "cell_type": "code",
   "execution_count": 35,
   "metadata": {},
   "outputs": [
    {
     "name": "stdout",
     "output_type": "stream",
     "text": [
      "인쌤\n",
      "25\n",
      "062-655-3509\n",
      "178\n",
      "광주 남구 송암로 60\n"
     ]
    }
   ],
   "source": [
    "# 딕셔너리의 value값만 접근\n",
    "for value in dic_1.values():\n",
    "    print(value)"
   ]
  },
  {
   "cell_type": "code",
   "execution_count": 36,
   "metadata": {},
   "outputs": [
    {
     "data": {
      "text/plain": [
       "dict_items([('name', '인쌤'), ('age', 25), ('phone', '062-655-3509'), ('height', 178), ('address', '광주 남구 송암로 60')])"
      ]
     },
     "execution_count": 36,
     "metadata": {},
     "output_type": "execute_result"
    }
   ],
   "source": [
    "dic_1.items()"
   ]
  },
  {
   "cell_type": "code",
   "execution_count": 39,
   "metadata": {},
   "outputs": [
    {
     "name": "stdout",
     "output_type": "stream",
     "text": [
      "name\n",
      "인쌤\n",
      "age\n",
      "25\n",
      "phone\n",
      "062-655-3509\n",
      "height\n",
      "178\n",
      "address\n",
      "광주 남구 송암로 60\n"
     ]
    }
   ],
   "source": [
    "# 반복문을 활용하여 딕셔너리의 key와 value를 접근\n",
    "for k,v in dic_1.items():\n",
    "    print(k)\n",
    "    print(v)"
   ]
  },
  {
   "cell_type": "code",
   "execution_count": 61,
   "metadata": {},
   "outputs": [
    {
     "name": "stdout",
     "output_type": "stream",
     "text": [
      "기영 \t 98\n",
      "기철 \t 80\n",
      "오덕 \t 100\n",
      "춘식 \t 70\n",
      "============\n",
      "평균\t 87\n"
     ]
    }
   ],
   "source": [
    "data = { '기영':98, '기철':80,'오덕':100,'춘식':70}\n",
    "hap = 0\n",
    "\n",
    "for avg in data.values():\n",
    "    hap = hap + avg\n",
    "for i,j in data.items():\n",
    "    print(i,'\\t',j)\n",
    "print('============')\n",
    "print('평균\\t {}'.format(int(hap/4)))\n"
   ]
  },
  {
   "cell_type": "code",
   "execution_count": 70,
   "metadata": {},
   "outputs": [
    {
     "name": "stdout",
     "output_type": "stream",
     "text": [
      "기영 98\n",
      "기철 80\n",
      "오덕 100\n",
      "춘식 70\n",
      "==========\n",
      "평균 : 87\n"
     ]
    }
   ],
   "source": [
    "for k,v in data.items():\n",
    "    print(k,v)\n",
    "print('='*10)\n",
    "sum_score = 0\n",
    "for score in data.values():\n",
    "    sum_score = sum_score + score # sum_score +=score\n",
    "\n",
    "avg = sum_score // len(data.values())\n",
    "print('평균 : {}'.format(avg))"
   ]
  },
  {
   "cell_type": "code",
   "execution_count": 69,
   "metadata": {},
   "outputs": [
    {
     "data": {
      "text/plain": [
       "87"
      ]
     },
     "execution_count": 69,
     "metadata": {},
     "output_type": "execute_result"
    }
   ],
   "source": [
    "sum(data.values()) // len(data.values())"
   ]
  },
  {
   "cell_type": "code",
   "execution_count": 85,
   "metadata": {},
   "outputs": [
    {
     "name": "stdout",
     "output_type": "stream",
     "text": [
      "{'수학': 221, '국어': 203, '영어': 170}\n"
     ]
    }
   ],
   "source": [
    "score_dic = {'홍길동':{'수학':99,'영어':80,'국어':75},\n",
    "             '김미정':{'영어':67, '국어':87,'수학':55},\n",
    "             '정수진':{'수학':67,'국어':41,'영어':23}}\n",
    "\n",
    "m = score_dic['홍길동']['수학'] + score_dic['김미정']['수학'] + score_dic['정수진']['수학']\n",
    "e = score_dic['홍길동']['영어'] + score_dic['김미정']['영어'] + score_dic['정수진']['영어']\n",
    "k = score_dic['홍길동']['국어'] + score_dic['김미정']['국어'] + score_dic['정수진']['국어']\n",
    "\n",
    "avg_dic = {'수학': m, '국어': k, '영어': e}\n",
    "print(avg_dic)"
   ]
  },
  {
   "cell_type": "code",
   "execution_count": 84,
   "metadata": {},
   "outputs": [
    {
     "name": "stdout",
     "output_type": "stream",
     "text": [
      "{'수학': 221, '국어': 203, '영어': 170}\n"
     ]
    }
   ],
   "source": [
    "score_dic = {'홍길동':{'수학':99,'영어':80,'국어':75},\n",
    "             '김미정':{'영어':67, '국어':87,'수학':55},\n",
    "             '정수진':{'수학':67,'국어':41,'영어':23}}\n",
    "\n",
    "sum_math = 0\n",
    "sum_eng = 0\n",
    "sum_kor = 0\n",
    "\n",
    "for name in score_dic.keys():\n",
    "    sum_math += score_dic[name]['수학']\n",
    "    sum_eng += score_dic[name]['영어']\n",
    "    sum_kor += score_dic[name]['국어']\n",
    "    \n",
    "sum_dic = {'수학':sum_math,'국어':sum_kor,'영어':sum_eng}\n",
    "print(sum_dic)"
   ]
  },
  {
   "cell_type": "code",
   "execution_count": 86,
   "metadata": {},
   "outputs": [
    {
     "name": "stdout",
     "output_type": "stream",
     "text": [
      "수학: 221, 국어:203, 영어:170\n"
     ]
    }
   ],
   "source": [
    "score_dic = {'홍길동':{'수학':99,'영어':80,'국어':75},\n",
    "             '김미정':{'영어':67, '국어':87,'수학':55},\n",
    "             '정수진':{'수학':67,'국어':41,'영어':23}}\n",
    "a = 0\n",
    "b = 0\n",
    "c = 0\n",
    "for subject in score_dic.values():\n",
    "    a+=subject['수학']\n",
    "    b+=subject['국어']\n",
    "    c+=subject['영어']\n",
    "    \n",
    "print('수학: {}, 국어:{}, 영어:{}'.format(a,b,c))"
   ]
  },
  {
   "cell_type": "code",
   "execution_count": null,
   "metadata": {},
   "outputs": [],
   "source": [
    "score_dic = {'홍길동':{'수학':99,'영어':80,'국어':75},\n",
    "             '김미정':{'영어':67, '국어':87,'수학':55},\n",
    "             '정수진':{'수학':67,'국어':41,'영어':23}}"
   ]
  },
  {
   "cell_type": "code",
   "execution_count": 90,
   "metadata": {},
   "outputs": [
    {
     "name": "stdout",
     "output_type": "stream",
     "text": [
      "{'수학': 221, '국어': 203, '영어': 170}\n"
     ]
    }
   ],
   "source": [
    "#선생님코드\n",
    "kor = 0\n",
    "math = 0 \n",
    "eng = 0\n",
    "for name in score_dic.keys():\n",
    "    math += score_dic[name]['수학']\n",
    "    kor += score_dic[name]['국어']\n",
    "    eng += score_dic[name]['영어']\n",
    "\n",
    "score_total = {'수학':math, '국어':kor, '영어':eng}\n",
    "print(score_total)"
   ]
  },
  {
   "cell_type": "markdown",
   "metadata": {},
   "source": [
    "# 함수(Function)\n",
    "- 실행할 명령들을 독립적으로 실행할 수 있게 모아둔 집합"
   ]
  },
  {
   "cell_type": "code",
   "execution_count": 91,
   "metadata": {},
   "outputs": [],
   "source": [
    "# 함수 정의\n",
    "# 매개변수 : 함수를 호출한 변수를 저장하는 곳\n",
    "def number_sum(num1,num2):\n",
    "    print(num1 + num2)"
   ]
  },
  {
   "cell_type": "code",
   "execution_count": 94,
   "metadata": {},
   "outputs": [
    {
     "name": "stdout",
     "output_type": "stream",
     "text": [
      "10\n",
      "15\n",
      "12\n"
     ]
    }
   ],
   "source": [
    "number_sum(5,5) # 함수 호출(실행)\n",
    "number_sum(10,5)\n",
    "number_sum(10,2)"
   ]
  },
  {
   "cell_type": "code",
   "execution_count": 95,
   "metadata": {},
   "outputs": [],
   "source": [
    "#가변 매개변수 정의 : 튜플 형태로 저장\n",
    "#입력받을 매개변수의 갯수를 알 수 없을 때\n",
    "def number_print(*num):\n",
    "    print(num)"
   ]
  },
  {
   "cell_type": "code",
   "execution_count": 96,
   "metadata": {},
   "outputs": [
    {
     "name": "stdout",
     "output_type": "stream",
     "text": [
      "(1, 23, 5, 4, 243, 12, 3, 45, 67, 8, 9900)\n"
     ]
    }
   ],
   "source": [
    "number_print(1,23,5,4,243,12,3,45,67,8,9900)"
   ]
  },
  {
   "cell_type": "code",
   "execution_count": 99,
   "metadata": {},
   "outputs": [],
   "source": [
    "def add_sub(num1,num2):\n",
    "    # 함수를 호출한 곳으로 값 보내기 -> 튜플 형태\n",
    "    return num1+num2, num1-num2"
   ]
  },
  {
   "cell_type": "code",
   "execution_count": 100,
   "metadata": {},
   "outputs": [
    {
     "data": {
      "text/plain": [
       "(11, -1)"
      ]
     },
     "execution_count": 100,
     "metadata": {},
     "output_type": "execute_result"
    }
   ],
   "source": [
    "add_sub(5,6) # 두 개의 값을 반환하는 함수"
   ]
  },
  {
   "cell_type": "code",
   "execution_count": 102,
   "metadata": {},
   "outputs": [
    {
     "name": "stdout",
     "output_type": "stream",
     "text": [
      "11\n",
      "-1\n"
     ]
    }
   ],
   "source": [
    "a, b = add_sub(5,6)\n",
    "print(a)\n",
    "print(b)"
   ]
  },
  {
   "cell_type": "code",
   "execution_count": null,
   "metadata": {},
   "outputs": [],
   "source": []
  }
 ],
 "metadata": {
  "kernelspec": {
   "display_name": "Python 3",
   "language": "python",
   "name": "python3"
  },
  "language_info": {
   "codemirror_mode": {
    "name": "ipython",
    "version": 3
   },
   "file_extension": ".py",
   "mimetype": "text/x-python",
   "name": "python",
   "nbconvert_exporter": "python",
   "pygments_lexer": "ipython3",
   "version": "3.8.5"
  }
 },
 "nbformat": 4,
 "nbformat_minor": 4
}
