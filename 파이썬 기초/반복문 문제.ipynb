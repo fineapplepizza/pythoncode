{
 "cells": [
  {
   "cell_type": "code",
   "execution_count": null,
   "metadata": {},
   "outputs": [],
   "source": [
    "while True:\n",
    "    num = int(input('정수 입력 : '))\n",
    "    if num > 0 :\n",
    "        print('입력하신 숫자{} 은(는) 양수입니다.'.format(num))\n",
    "    elif num == 0:\n",
    "        print('입력하신 숫자 {}은(는) 0입니다.'.format(num))\n",
    "    else:\n",
    "        print('입력하신 숫자 {}은(는) 음수입니다.'.format(num))\n"
   ]
  },
  {
   "cell_type": "code",
   "execution_count": null,
   "metadata": {},
   "outputs": [
    {
     "name": "stdout",
     "output_type": "stream",
     "text": [
      "정수 입력 : 1\n",
      "입력하신 숫자 1은(는) 양수입니다.\n",
      "정수 입력 : 2\n",
      "입력하신 숫자 2은(는) 양수입니다.\n",
      "정수 입력 : 3\n",
      "입력하신 숫자 3은(는) 양수입니다.\n",
      "정수 입력 : -1\n",
      "입력하신 숫자 -1은(는) 음수입니다.\n",
      "정수 입력 : 0\n",
      "입력하신 숫자 0은(는) 0입니다.\n"
     ]
    }
   ],
   "source": [
    "#정수를 입력받기\n",
    "while True:\n",
    "    num = int(input('정수 입력 : '))\n",
    "    # 양수/음수/0 \n",
    "    if num > 0 :\n",
    "        result = '양수'\n",
    "    elif num == 0:\n",
    "        result = '0'\n",
    "    else:\n",
    "        result ='음수'\n",
    "    print('입력하신 숫자 {}은(는) {}입니다.'.format(num,result))\n",
    "        \n"
   ]
  },
  {
   "cell_type": "code",
   "execution_count": 34,
   "metadata": {},
   "outputs": [
    {
     "name": "stdout",
     "output_type": "stream",
     "text": [
      "====기차 탑승권 계산기====\n",
      "1. 좌석지정 2.좌석미지정 :2\n",
      "51000.0\n",
      "나이 입력 :10\n",
      "39000.0\n",
      "1.군인 2.노약자,임산부 3.국가유공자 4.해당사항 없음: 2\n",
      "기차 탑승권 금액은 19500.0입니다.\n"
     ]
    }
   ],
   "source": [
    "ticket = 60000\n",
    "\n",
    "print('====기차 탑승권 계산기====')\n",
    "\n",
    "seat = int(input('1. 좌석지정 2.좌석미지정 :'))\n",
    "\n",
    "if seat == 2:\n",
    "    ticket -= 60000*0.15\n",
    "\n",
    "\n",
    "age = int(input('나이 입력 :'))\n",
    "if age < 20:\n",
    "    ticket -= 60000*0.2\n",
    "\n",
    "    \n",
    "hi = int(input('1.군인 2.노약자,임산부 3.국가유공자 4.해당사항 없음: '))\n",
    "if hi == 1:\n",
    "    ticket -= ticket*0.95\n",
    "elif hi == 2:\n",
    "    ticket -= ticket*0.5\n",
    "elif hi == 3:\n",
    "    ticket -= ticket*0.6\n",
    "\n",
    "print('기차 탑승권 금액은 {}입니다.'.format(ticket))"
   ]
  },
  {
   "cell_type": "code",
   "execution_count": 54,
   "metadata": {},
   "outputs": [
    {
     "name": "stdout",
     "output_type": "stream",
     "text": [
      "====기차 탑승권 계산기====\n",
      "1. 좌석지정 2.좌석미지정 :2\n",
      "나이 입력 :10\n",
      "1.군인 2.노약자,임산부 3.국가유공자 4.해당사항 없음: 2\n",
      "기차 탑승권 금액은 9000입니다.\n"
     ]
    }
   ],
   "source": [
    "ticket = 60000\n",
    "\n",
    "print('====기차 탑승권 계산기====')\n",
    "\n",
    "seat = int(input('1. 좌석지정 2.좌석미지정 :'))\n",
    "age = int(input('나이 입력 :'))\n",
    "hi = int(input('1.군인 2.노약자,임산부 3.국가유공자 4.해당사항 없음: '))\n",
    "\n",
    "if seat == 1:\n",
    "    if age < 20:\n",
    "        if hi == 1:\n",
    "            ticket *= 0.75\n",
    "        elif hi == 2:\n",
    "            ticket *= 0.3\n",
    "        elif hi == 3:\n",
    "            ticket *= 0.2\n",
    "    else:\n",
    "        if hi == 1:\n",
    "            ticket *= 0.95\n",
    "        elif hi == 2:\n",
    "            ticket *= 0.5\n",
    "        elif hi == 3:\n",
    "            ticket *= 0.4   \n",
    "\n",
    "elif seat == 2:\n",
    "    if age < 20:\n",
    "        if hi == 1:\n",
    "            ticket *= 0.6\n",
    "        elif hi == 2:\n",
    "            ticket *= 0.15\n",
    "        elif hi == 3:\n",
    "            ticket *= 0.05\n",
    "    else:\n",
    "        if hi == 1:\n",
    "            ticket *= 0.8\n",
    "        elif hi == 2:\n",
    "            ticket *= 0.35\n",
    "        elif hi == 3:\n",
    "            ticket *= 0.25\n",
    "            \n",
    "    \n",
    "print('기차 탑승권 금액은 {}입니다.'.format(int(ticket)))"
   ]
  },
  {
   "cell_type": "code",
   "execution_count": 6,
   "metadata": {},
   "outputs": [
    {
     "name": "stdout",
     "output_type": "stream",
     "text": [
      "3 5 6 9 10 12 15 18 20 21 24 25 27 30 33 35 36 39 40 42 45 48 50 "
     ]
    }
   ],
   "source": [
    "for i in range(1,51,1):\n",
    "    if i % 3 == 0 or i % 5 == 0:\n",
    "        print(i, end=' ')"
   ]
  },
  {
   "cell_type": "code",
   "execution_count": 33,
   "metadata": {},
   "outputs": [
    {
     "name": "stdout",
     "output_type": "stream",
     "text": [
      "정수 입력: 5462581\n",
      "합은 31입니다.\n"
     ]
    }
   ],
   "source": [
    "num = input('정수 입력: ')\n",
    "sum1 = 0\n",
    "for i in num:\n",
    "    sum1 += int(i)\n",
    "print('합은 {}입니다.'.format(sum1))\n",
    "    \n"
   ]
  },
  {
   "cell_type": "code",
   "execution_count": 31,
   "metadata": {},
   "outputs": [
    {
     "name": "stdout",
     "output_type": "stream",
     "text": [
      "6 8 12 "
     ]
    }
   ],
   "source": [
    "arr = [7, 6, 8, 9, 5, 12, 25, 3, 1]\n",
    "for i in arr:\n",
    "    if i % 2 == 0:\n",
    "        print(i,end=' ')"
   ]
  }
 ],
 "metadata": {
  "kernelspec": {
   "display_name": "Python 3",
   "language": "python",
   "name": "python3"
  },
  "language_info": {
   "codemirror_mode": {
    "name": "ipython",
    "version": 3
   },
   "file_extension": ".py",
   "mimetype": "text/x-python",
   "name": "python",
   "nbconvert_exporter": "python",
   "pygments_lexer": "ipython3",
   "version": "3.8.5"
  }
 },
 "nbformat": 4,
 "nbformat_minor": 4
}
