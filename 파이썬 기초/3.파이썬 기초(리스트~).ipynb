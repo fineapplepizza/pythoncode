{
 "cells": [
  {
   "cell_type": "code",
   "execution_count": 1,
   "metadata": {},
   "outputs": [
    {
     "data": {
      "text/plain": [
       "[1, 2, 3, 4, 5, 6, 7, 8, 9, 10]"
      ]
     },
     "execution_count": 1,
     "metadata": {},
     "output_type": "execute_result"
    }
   ],
   "source": [
    "# 1 ~ 10까지의 데이터 다루기\n",
    "# num1 = 1\n",
    "# num2 = 2\n",
    "# num2 = 3\n",
    "# ...\n",
    "# num10 = 10\n",
    "\n",
    "# num1+nume2+num3+...+num10\n",
    "\n",
    "# 리스트 활용\n",
    "#리스트를 활용하면 데이터를 담아서 관리할 수 있다.\n",
    "# 리스트명 =[요소1, 요소2, 요소3, ...]\n",
    "nums = [1,2,3,4,5,6,7,8,9,10]\n",
    "nums"
   ]
  },
  {
   "cell_type": "code",
   "execution_count": 37,
   "metadata": {},
   "outputs": [],
   "source": [
    "# 리스트 선언 & 초기화\n",
    "#초기화 - 해당 변수의 데이터를 대입하는 것\n",
    "#list X\n",
    "# 1차원\n",
    "list_1 = [1,2,3,4,5] #정수형 데이터들을 저장\n",
    "list_2 = [3.4, 1.2, 6.5, 8.2, 5.5] #실수형 데이터\n",
    "list_3 = ['바나나', '키위', '딸기', '복숭아', '수박'] #문자열 데이터\n",
    "list_4 = [True,False,True,True,False] #논리형 데이터\n",
    "\n",
    "#2차원\n",
    "list_5 = [[1,2,3],[4,5,6]]\n",
    "list_6 = [[2,1],[1,5]]\n",
    "list_7 = [['바나나','딸기'],['복숭아','수박']]\n",
    "list_8 = [[True,True],[False,False]]"
   ]
  },
  {
   "cell_type": "code",
   "execution_count": 13,
   "metadata": {},
   "outputs": [
    {
     "data": {
      "text/plain": [
       "[[2, 1], [1, 5]]"
      ]
     },
     "execution_count": 13,
     "metadata": {},
     "output_type": "execute_result"
    }
   ],
   "source": [
    "list_6"
   ]
  },
  {
   "cell_type": "markdown",
   "metadata": {},
   "source": [
    "# 리스트 인덱싱과 슬라이싱"
   ]
  },
  {
   "cell_type": "code",
   "execution_count": 24,
   "metadata": {},
   "outputs": [
    {
     "name": "stdout",
     "output_type": "stream",
     "text": [
      "[1, 2, 3, 4, 5]\n",
      "4\n",
      "2\n",
      "6\n"
     ]
    }
   ],
   "source": [
    "print(list_1)\n",
    "print(list_1[3])\n",
    "print(list_1[-4])\n",
    "\n",
    "# 1과 5를 접근한 후 더한 결과를 출력\n",
    "\n",
    "print(list_1[0] + list_1[-1])"
   ]
  },
  {
   "cell_type": "code",
   "execution_count": 25,
   "metadata": {},
   "outputs": [],
   "source": [
    "list2 = [1, 2, 3, ['a', 'b', 'c']]"
   ]
  },
  {
   "cell_type": "code",
   "execution_count": 29,
   "metadata": {},
   "outputs": [
    {
     "name": "stdout",
     "output_type": "stream",
     "text": [
      "['a', 'b', 'c']\n"
     ]
    }
   ],
   "source": [
    "temp = list2[3]\n",
    "print(temp)"
   ]
  },
  {
   "cell_type": "code",
   "execution_count": 30,
   "metadata": {},
   "outputs": [
    {
     "name": "stdout",
     "output_type": "stream",
     "text": [
      "b\n"
     ]
    }
   ],
   "source": [
    "print(list2[3][1])"
   ]
  },
  {
   "cell_type": "code",
   "execution_count": 31,
   "metadata": {},
   "outputs": [
    {
     "name": "stdout",
     "output_type": "stream",
     "text": [
      "b\n"
     ]
    }
   ],
   "source": [
    "print(temp[1])"
   ]
  },
  {
   "cell_type": "code",
   "execution_count": 35,
   "metadata": {},
   "outputs": [
    {
     "name": "stdout",
     "output_type": "stream",
     "text": [
      "['바나나', '키위', '딸기', '복숭아', '수박']\n",
      "['키위', '딸기', '복숭아']\n"
     ]
    }
   ],
   "source": [
    "print(list_3)\n",
    "\n",
    "# 키위 - 복숭아까지 출력 [슬라이싱 활용]\n",
    "print(list_3[1:4]) #리스트명[startindex:endindex]"
   ]
  },
  {
   "cell_type": "code",
   "execution_count": 38,
   "metadata": {},
   "outputs": [
    {
     "name": "stdout",
     "output_type": "stream",
     "text": [
      "[1, 2, 3, 4, 5]\n",
      "[3.4, 1.2, 6.5, 8.2, 5.5]\n",
      "[1, 2, 3, 4, 5, 3.4, 1.2, 6.5, 8.2, 5.5]\n"
     ]
    }
   ],
   "source": [
    "print(list_1)\n",
    "print(list_2)\n",
    "print(list_1 + list_2) # 두 개의 리스트를 하나의 리스트로 더하기(두 개의 리스트 병합)"
   ]
  },
  {
   "cell_type": "code",
   "execution_count": 44,
   "metadata": {},
   "outputs": [
    {
     "data": {
      "text/plain": [
       "[1, 4, 2, 3]"
      ]
     },
     "execution_count": 44,
     "metadata": {},
     "output_type": "execute_result"
    }
   ],
   "source": [
    "temp_list = []\n",
    "\n",
    "# 리스트에 요소 추가1\n",
    "#어팬드 특징: 뒤에서부터 차근차근 추가한다\n",
    "temp_list.append(1)\n",
    "temp_list.append(2)\n",
    "temp_list.append(3)\n",
    "\n",
    "# 원하는 위치에 요소 추가2\n",
    "temp_list.insert(1,4)\n",
    "temp_list"
   ]
  },
  {
   "cell_type": "code",
   "execution_count": 47,
   "metadata": {},
   "outputs": [
    {
     "name": "stdout",
     "output_type": "stream",
     "text": [
      "[1, 2, 3, 4]\n"
     ]
    }
   ],
   "source": [
    "# 리스트 내 데이터 수정 -> 해당 인덱스에 새로운 데이터를 저장\n",
    "# 리스트명[인덱스] = 저장할 데이터\n",
    "temp_list[1] = 2\n",
    "\n",
    "# [1,2,2,3] ---->[1,2,3,4]로 수정하시오\n",
    "temp_list[2] = 3\n",
    "temp_list[3] = 4\n",
    "\n",
    "print(temp_list)"
   ]
  },
  {
   "cell_type": "code",
   "execution_count": 51,
   "metadata": {},
   "outputs": [
    {
     "name": "stdout",
     "output_type": "stream",
     "text": [
      "[1, 2, 4]\n",
      "[1, 4]\n"
     ]
    }
   ],
   "source": [
    "# 리스트 내 요소 삭제\n",
    "print(temp_list)\n",
    "\n",
    "#temp_list.remove(3) #요소삭제 --> 삭제할 데이터가 없는 경우 ValueError발생\n",
    "\n",
    "#del 리스트명[인덱스] or 리스트명[슬라이싱]\n",
    "\n",
    "#del temp_list[1] # 해당 인덱스가 없는 경우 IndexError 발생\n",
    "print(temp_list)"
   ]
  },
  {
   "cell_type": "markdown",
   "metadata": {},
   "source": [
    "## 리스트 관련 기능"
   ]
  },
  {
   "cell_type": "code",
   "execution_count": 52,
   "metadata": {},
   "outputs": [
    {
     "data": {
      "text/plain": [
       "5"
      ]
     },
     "execution_count": 52,
     "metadata": {},
     "output_type": "execute_result"
    }
   ],
   "source": [
    "# 리스트의 길이 확인\n",
    "len(list_3)"
   ]
  },
  {
   "cell_type": "code",
   "execution_count": 57,
   "metadata": {},
   "outputs": [
    {
     "data": {
      "text/plain": [
       "[8.2, 6.5, 5.5, 3.4, 1.2]"
      ]
     },
     "execution_count": 57,
     "metadata": {},
     "output_type": "execute_result"
    }
   ],
   "source": [
    "# 리스트 내 요소 정렬(오름차순)\n",
    "# 내림차순 정렬 : 오름차순 -> 거꾸로 정렬\n",
    "list_2.sort(reverse=True)\n",
    "list_2"
   ]
  },
  {
   "cell_type": "code",
   "execution_count": 54,
   "metadata": {},
   "outputs": [
    {
     "data": {
      "text/plain": [
       "[8.2, 6.5, 5.5, 3.4, 1.2]"
      ]
     },
     "execution_count": 54,
     "metadata": {},
     "output_type": "execute_result"
    }
   ],
   "source": [
    "list_2.reverse() # 거꾸로 정렬\n",
    "list_2"
   ]
  },
  {
   "cell_type": "code",
   "execution_count": 58,
   "metadata": {},
   "outputs": [
    {
     "data": {
      "text/plain": [
       "[23, 6, 5, 3, 2, 1]"
      ]
     },
     "execution_count": 58,
     "metadata": {},
     "output_type": "execute_result"
    }
   ],
   "source": [
    "list_9 = [2,5,1,23,6,3]\n",
    "list_9.sort(reverse=True)\n",
    "list_9\n",
    "\n"
   ]
  },
  {
   "cell_type": "markdown",
   "metadata": {},
   "source": [
    "# 튜플"
   ]
  },
  {
   "cell_type": "code",
   "execution_count": 61,
   "metadata": {},
   "outputs": [
    {
     "data": {
      "text/plain": [
       "(1, 2, 3, (4, 5, 6))"
      ]
     },
     "execution_count": 61,
     "metadata": {},
     "output_type": "execute_result"
    }
   ],
   "source": [
    "#튜플 선언&초기화\n",
    "tuple_1 = (1,2,3,4,5)\n",
    "tuple_2 = {'바나나','수박','멜론'}\n",
    "\n",
    "tuple_3 = (1,2,3, (4,5,6)) # 튜플 안에 또 다른 튜플을 저장할 수 있음!\n",
    "\n",
    "tuple_3"
   ]
  },
  {
   "cell_type": "code",
   "execution_count": 64,
   "metadata": {},
   "outputs": [
    {
     "data": {
      "text/plain": [
       "6"
      ]
     },
     "execution_count": 64,
     "metadata": {},
     "output_type": "execute_result"
    }
   ],
   "source": [
    "# 튜플 내 요소 접근: 인덱싱, 슬라이싱\n",
    "tuple_3[2]\n",
    "tuple_3[3][2]"
   ]
  },
  {
   "cell_type": "code",
   "execution_count": 66,
   "metadata": {},
   "outputs": [
    {
     "ename": "TypeError",
     "evalue": "'tuple' object does not support item assignment",
     "output_type": "error",
     "traceback": [
      "\u001b[1;31m---------------------------------------------------------------------------\u001b[0m",
      "\u001b[1;31mTypeError\u001b[0m                                 Traceback (most recent call last)",
      "\u001b[1;32m<ipython-input-66-014dc78ed4de>\u001b[0m in \u001b[0;36m<module>\u001b[1;34m\u001b[0m\n\u001b[0;32m      1\u001b[0m \u001b[1;31m#튜플은 추가, 수정, 삭제가 불가능하다!!\u001b[0m\u001b[1;33m\u001b[0m\u001b[1;33m\u001b[0m\u001b[1;33m\u001b[0m\u001b[0m\n\u001b[1;32m----> 2\u001b[1;33m \u001b[0mtuple_3\u001b[0m\u001b[1;33m[\u001b[0m\u001b[1;36m2\u001b[0m\u001b[1;33m]\u001b[0m \u001b[1;33m=\u001b[0m \u001b[1;36m4\u001b[0m\u001b[1;33m\u001b[0m\u001b[1;33m\u001b[0m\u001b[0m\n\u001b[0m",
      "\u001b[1;31mTypeError\u001b[0m: 'tuple' object does not support item assignment"
     ]
    }
   ],
   "source": [
    "#튜플은 추가, 수정, 삭제가 불가능하다!!\n",
    "tuple_3[2] = 4"
   ]
  },
  {
   "cell_type": "code",
   "execution_count": 74,
   "metadata": {},
   "outputs": [
    {
     "data": {
      "text/plain": [
       "False"
      ]
     },
     "execution_count": 74,
     "metadata": {},
     "output_type": "execute_result"
    }
   ],
   "source": [
    "#if 4 in [1,2,3,4] : print('리스트 안에 4가 있습니다.')\n",
    "\n",
    "#list_9 안에 3이라는 요소가 포함되어 있는지 \n",
    "3  in list_9\n",
    "\n",
    "#list_9 안에 3이라는 요소가 포함되어 있지 않은지안에 3이라는 요소가 포함되어 있지 않은지\n",
    "3 not in list_9"
   ]
  },
  {
   "cell_type": "code",
   "execution_count": 70,
   "metadata": {},
   "outputs": [
    {
     "data": {
      "text/plain": [
       "False"
      ]
     },
     "execution_count": 70,
     "metadata": {},
     "output_type": "execute_result"
    }
   ],
   "source": [
    "4 in tuple_3"
   ]
  },
  {
   "cell_type": "code",
   "execution_count": null,
   "metadata": {},
   "outputs": [],
   "source": []
  },
  {
   "cell_type": "code",
   "execution_count": null,
   "metadata": {},
   "outputs": [],
   "source": []
  },
  {
   "cell_type": "code",
   "execution_count": null,
   "metadata": {},
   "outputs": [],
   "source": []
  },
  {
   "cell_type": "code",
   "execution_count": null,
   "metadata": {},
   "outputs": [],
   "source": []
  },
  {
   "cell_type": "code",
   "execution_count": null,
   "metadata": {},
   "outputs": [],
   "source": []
  },
  {
   "cell_type": "code",
   "execution_count": null,
   "metadata": {},
   "outputs": [],
   "source": []
  },
  {
   "cell_type": "code",
   "execution_count": null,
   "metadata": {},
   "outputs": [],
   "source": []
  },
  {
   "cell_type": "code",
   "execution_count": null,
   "metadata": {},
   "outputs": [],
   "source": []
  },
  {
   "cell_type": "code",
   "execution_count": null,
   "metadata": {},
   "outputs": [],
   "source": []
  },
  {
   "cell_type": "code",
   "execution_count": null,
   "metadata": {},
   "outputs": [],
   "source": []
  },
  {
   "cell_type": "code",
   "execution_count": null,
   "metadata": {},
   "outputs": [],
   "source": []
  }
 ],
 "metadata": {
  "kernelspec": {
   "display_name": "Python 3",
   "language": "python",
   "name": "python3"
  },
  "language_info": {
   "codemirror_mode": {
    "name": "ipython",
    "version": 3
   },
   "file_extension": ".py",
   "mimetype": "text/x-python",
   "name": "python",
   "nbconvert_exporter": "python",
   "pygments_lexer": "ipython3",
   "version": "3.8.5"
  }
 },
 "nbformat": 4,
 "nbformat_minor": 4
}
