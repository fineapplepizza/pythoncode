{
 "cells": [
  {
   "cell_type": "markdown",
   "metadata": {},
   "source": [
    "# 설명작성 셀\n",
    "- ctrl + Enter : 실행\n",
    "- Enter : edit mode(작성모드)\n",
    "\n",
    "- 변수만들때는 어떤 데이터를 담을 건지 단어 정의\n",
    "- 다른사람이 이해 할 수 있을정도로 작성된것이 코딩이 잘된것"
   ]
  },
  {
   "cell_type": "code",
   "execution_count": 2,
   "metadata": {},
   "outputs": [
    {
     "name": "stdout",
     "output_type": "stream",
     "text": [
      "3\n"
     ]
    }
   ],
   "source": [
    "#코드작성 셀\n",
    "# = : 대입연산자(할당연산자)\n",
    "# 변수 : 데이터를 저장할 수 있는 공간\n",
    "# - 데이터를 보관해야 될 때\n",
    "# - 연산결과값을 보관할 때\n",
    "# - 같은 데이터가 중복되서 사용될 때\n",
    "num = 3\n",
    "print(num)"
   ]
  },
  {
   "cell_type": "code",
   "execution_count": 3,
   "metadata": {},
   "outputs": [
    {
     "name": "stdout",
     "output_type": "stream",
     "text": [
      "5\n"
     ]
    }
   ],
   "source": [
    "# 위에서 num변수에 3을 대입했지만 5라는 데이터로 대입했기 때문에\n",
    "# 3이라는 데이터는 지워지고 5가 저장된다!\n",
    "num = 5\n",
    "print(num)"
   ]
  },
  {
   "cell_type": "code",
   "execution_count": 30,
   "metadata": {},
   "outputs": [
    {
     "name": "stdout",
     "output_type": "stream",
     "text": [
      "제 나이는 1.2살입니다.\n"
     ]
    }
   ],
   "source": [
    "age = '1.2'\n",
    "print('제 나이는 '+age+'살입니다.')"
   ]
  },
  {
   "cell_type": "code",
   "execution_count": 6,
   "metadata": {},
   "outputs": [
    {
     "name": "stdout",
     "output_type": "stream",
     "text": [
      "13\n",
      "77\n"
     ]
    }
   ],
   "source": [
    "num1 = 13\n",
    "num2 = 25\n",
    "num2 = 77\n",
    "\n",
    "print(num1)\n",
    "print(num2)"
   ]
  },
  {
   "cell_type": "code",
   "execution_count": 10,
   "metadata": {},
   "outputs": [
    {
     "name": "stdout",
     "output_type": "stream",
     "text": [
      "27\n",
      "5\n"
     ]
    }
   ],
   "source": [
    "age\n",
    "#로직...\n",
    "\n",
    "print(age)\n",
    "\n",
    "#로직...\n",
    "\n",
    "print(num)"
   ]
  },
  {
   "cell_type": "code",
   "execution_count": 12,
   "metadata": {},
   "outputs": [
    {
     "name": "stdout",
     "output_type": "stream",
     "text": [
      "3.1425\n",
      "1.25\n",
      "3.0\n"
     ]
    }
   ],
   "source": [
    "num3 = 3.1425\n",
    "num4 = 1.25\n",
    "num5 = 3.0\n",
    "\n",
    "print(num3)\n",
    "print(num4)\n",
    "print(num5)"
   ]
  },
  {
   "cell_type": "code",
   "execution_count": 14,
   "metadata": {},
   "outputs": [
    {
     "name": "stdout",
     "output_type": "stream",
     "text": [
      "Funny python Easy python\n"
     ]
    }
   ],
   "source": [
    "str1 = \"Funny python\"\n",
    "str2 = 'Easy python'\n",
    "\n",
    "#여러 변수의 값을 동시에 출력할 때!\n",
    "print(str1, str2)\n",
    "\n",
    "# print(str1)\n",
    "# print(str2)"
   ]
  },
  {
   "cell_type": "code",
   "execution_count": 18,
   "metadata": {},
   "outputs": [
    {
     "data": {
      "text/plain": [
       "10"
      ]
     },
     "execution_count": 18,
     "metadata": {},
     "output_type": "execute_result"
    }
   ],
   "source": [
    "#SyntaxError- 문법오류"
   ]
  },
  {
   "cell_type": "code",
   "execution_count": 19,
   "metadata": {},
   "outputs": [
    {
     "ename": "SyntaxError",
     "evalue": "invalid syntax (<ipython-input-19-71e64d133460>, line 1)",
     "output_type": "error",
     "traceback": [
      "\u001b[1;36m  File \u001b[1;32m\"<ipython-input-19-71e64d133460>\"\u001b[1;36m, line \u001b[1;32m1\u001b[0m\n\u001b[1;33m    if = 30\u001b[0m\n\u001b[1;37m       ^\u001b[0m\n\u001b[1;31mSyntaxError\u001b[0m\u001b[1;31m:\u001b[0m invalid syntax\n"
     ]
    }
   ],
   "source": [
    "if = 30"
   ]
  },
  {
   "cell_type": "code",
   "execution_count": null,
   "metadata": {},
   "outputs": [],
   "source": [
    "#권장사항\n",
    "#변수명의 첫 글자는 항상 소문자로 만든다.\n",
    "#두가지의 문자를 섞어서 변수명을 만들 경우 두 단어를 구분 할 수 있게한다.\n",
    "#ex)numberList,number_list"
   ]
  },
  {
   "cell_type": "code",
   "execution_count": 22,
   "metadata": {},
   "outputs": [
    {
     "name": "stdout",
     "output_type": "stream",
     "text": [
      "20 25\n",
      "5 5 5\n"
     ]
    }
   ],
   "source": [
    "# 여러 변수의 값을 동시에 초기화하는 방법\n",
    "a = 10 #a는 10을 초기화한다 , a는 10을 저장한다\n",
    "b = 15\n",
    "\n",
    "c, d = 20, 25\n",
    "print(c,d)\n",
    "\n",
    "#하나의 값을 여러 공간에 저장하는 방법\n",
    "num1 = 5\n",
    "num2 = 5\n",
    "num3 = 5\n",
    "\n",
    "num1 = num2= num3 = 5\n",
    "print(num1, num2, num3)"
   ]
  },
  {
   "cell_type": "code",
   "execution_count": 20,
   "metadata": {},
   "outputs": [
    {
     "name": "stdout",
     "output_type": "stream",
     "text": [
      "10\n",
      "15\n"
     ]
    }
   ],
   "source": [
    "a, b = 10, 15\n",
    "print(a)\n",
    "print(b)"
   ]
  },
  {
   "cell_type": "code",
   "execution_count": 23,
   "metadata": {},
   "outputs": [
    {
     "name": "stdout",
     "output_type": "stream",
     "text": [
      "300\n"
     ]
    }
   ],
   "source": [
    "x = 100\n",
    "y = 200\n",
    "sum1 = x + y\n",
    "print(sum1)"
   ]
  },
  {
   "cell_type": "code",
   "execution_count": 24,
   "metadata": {},
   "outputs": [
    {
     "name": "stdout",
     "output_type": "stream",
     "text": [
      "300\n"
     ]
    }
   ],
   "source": [
    "x, y = 100, 200\n",
    "sum1 = x + y #x,y값을 카피해서 가져온다\n",
    "print(sum1)"
   ]
  },
  {
   "cell_type": "code",
   "execution_count": 27,
   "metadata": {},
   "outputs": [
    {
     "name": "stdout",
     "output_type": "stream",
     "text": [
      "she's gone. she\"s gone.\n",
      "she's gone.\n"
     ]
    }
   ],
   "source": [
    "#msg = 'she's gone.' -->작은따움표의 짝이 맞지 않아 문법오류 발생!\n",
    "\n",
    "#해결책\n",
    "msg = \"she's gone.\"\n",
    "msg2 = 'she\"s gone.'\n",
    "msg3 = 'she\\'s gone.' #역슬래쉬(\\) \\' , \\\"-->이스케이프 --미리 정의해둔 문자조합\n",
    "print(msg, msg2)\n",
    "print(msg3)"
   ]
  },
  {
   "cell_type": "code",
   "execution_count": 32,
   "metadata": {},
   "outputs": [],
   "source": [
    "#이스케이프 코드\n",
    "# \\n 개행(줄바꿈)\n",
    "# \\t 수평 탭\n",
    "# \\\\ 문자'\\'\n",
    "# \\' 단일 인용부호()\n",
    "# \\\" 이중 인용부호(\")"
   ]
  },
  {
   "cell_type": "code",
   "execution_count": null,
   "metadata": {},
   "outputs": [],
   "source": [
    "#따옴표 3개를 사용하여 문자열 표현\n",
    "\n",
    "# 일반적으로 문자열 데이터 내에서 Enter를 치면 제대로 인식X\n",
    "#msg4 = 'Hello ~ \n",
    "#Python.'\n",
    "\n",
    "#하지만 따옴표 3개를 사용할 때에는 Enter를 쳐도 하나의 문자열로 인식O\n",
    "msg5 = '''Hello ~ python. \n",
    "Easy Language.'''\n",
    "\n"
   ]
  },
  {
   "cell_type": "markdown",
   "metadata": {},
   "source": [
    "# 문자열 인덱싱 & 슬라이싱 "
   ]
  },
  {
   "cell_type": "code",
   "execution_count": 45,
   "metadata": {},
   "outputs": [
    {
     "name": "stdout",
     "output_type": "stream",
     "text": [
      "My name is DJ\n",
      "M\n",
      "M\n",
      "J\n",
      "J\n",
      "name\n",
      "n a m e\n",
      "is\n"
     ]
    }
   ],
   "source": [
    "intro = 'My name is DJ'\n",
    "print(intro)\n",
    "\n",
    "#인덱스(ndex): 데이터가 위치한 값을 표현(양수/음수 모두 접근가능)\n",
    "#인덱싱: 인덱스를 활용하여 특정한 값을 접근하는 방법\n",
    "print(intro[0])\n",
    "print(intro[-13])\n",
    "print(intro[-1])\n",
    "print(intro[12])\n",
    "\n",
    "# 'name'을 출력하시오.\n",
    "\n",
    "print(intro[3]+intro[4]+intro[5]+intro[6]) #문자열 + 문자열 --> 문자열\n",
    "print(intro[3],intro[4],intro[5],intro[6])\n",
    "\n",
    "#'is' 문자열을 출력하시오.(음수로)\n",
    "print(intro[-5]+intro[-4])"
   ]
  },
  {
   "cell_type": "code",
   "execution_count": null,
   "metadata": {},
   "outputs": [],
   "source": [
    "#슬라이싱: 특정 범위를 지정해서 문자열을 접근하는 방법\n",
    "# 인덱싱 --> 변수명[인덱스]\n",
    "# 슬라이싱 --> 변수명[시작인덱스: 끝인덱스]\n",
    "\n",
    "#'name'을 출력하시오.(슬라이싱 활용)\n",
    "print(intro[3:7]) # 시작 <= x < 끝"
   ]
  },
  {
   "cell_type": "code",
   "execution_count": 47,
   "metadata": {},
   "outputs": [
    {
     "name": "stdout",
     "output_type": "stream",
     "text": [
      "년도: 2020\n",
      "월일: 0706\n",
      "날씨: Sunny\n"
     ]
    }
   ],
   "source": [
    "dy_info = \"20200706Sunny\"\n",
    "\n",
    "#변수활용!\n",
    "year = dy_info[:4]\n",
    "day = dy_info[4:8]\n",
    "weather = dy_info[8:]\n",
    "\n",
    "print('년도:',year)\n",
    "print('월일:',day)\n",
    "print('날씨:',weather)"
   ]
  },
  {
   "cell_type": "code",
   "execution_count": 22,
   "metadata": {},
   "outputs": [
    {
     "name": "stdout",
     "output_type": "stream",
     "text": [
      "날짜 : 2020년 3월 3일\n",
      "날씨 : 맑음\n",
      "2020년 3월 3일의 날씨는 맑음입니다.\n",
      "2020년 3월 3일의 날씨는 맑음입니다.\n",
      "는 맑음입니다.\n"
     ]
    }
   ],
   "source": [
    "s = \"2020년 3월 3일의 날씨는 맑음입니다.\"\n",
    "\n",
    "date = s[:11]\n",
    "weather = s[-6:-4]\n",
    "print(\"날짜 :\",date)\n",
    "print(\"날씨 :\",weather)\n",
    "print(s)\n",
    "print(s[:]) #모든 문자열 출력\n",
    "print(s[15:]) # 끝인덱스를 비운 경우 --> 마지막 인덱스까지 접근!"
   ]
  },
  {
   "cell_type": "markdown",
   "metadata": {},
   "source": [
    "# 문자열 Formatting\n",
    "- '%'문자 활용\n",
    "- format()기능 활용"
   ]
  },
  {
   "cell_type": "code",
   "execution_count": 16,
   "metadata": {},
   "outputs": [
    {
     "name": "stdout",
     "output_type": "stream",
     "text": [
      "내일은 4월 7일입니다.\n"
     ]
    }
   ],
   "source": [
    "# 오늘 , 내일, 어제 등의 값을 가지는 변수 선언!\n",
    "when = \"내일\"\n",
    "month = 4\n",
    "day = 7\n",
    "msg = '%s은 %d월 %d일입니다.'%(when,month, day) #두 개이상의 변수를 적용할 때\n",
    "print(msg)"
   ]
  },
  {
   "cell_type": "code",
   "execution_count": 23,
   "metadata": {},
   "outputs": [
    {
     "name": "stdout",
     "output_type": "stream",
     "text": [
      "문자 2 3.500000\n"
     ]
    }
   ],
   "source": [
    "s = '문자'\n",
    "i = 2\n",
    "f = 3.5\n",
    "\n",
    "msg = '%s %d %f'%(s,i,f)\n",
    "print(msg)"
   ]
  },
  {
   "cell_type": "code",
   "execution_count": 27,
   "metadata": {},
   "outputs": [
    {
     "name": "stdout",
     "output_type": "stream",
     "text": [
      "내일은 4월 2일입니다.\n"
     ]
    }
   ],
   "source": [
    "\n",
    "when = '오늘'\n",
    "month = 5\n",
    "day = 5\n",
    "\n",
    "msg2 = '{}은 {}월 {}일입니다.'.format(when, month, day)\n",
    "print(msg2)"
   ]
  },
  {
   "cell_type": "code",
   "execution_count": 32,
   "metadata": {},
   "outputs": [
    {
     "name": "stdout",
     "output_type": "stream",
     "text": [
      "100와 200의 합은 300입니다.\n",
      "100와 200의 합은 300입니다.\n"
     ]
    }
   ],
   "source": [
    "#문자열 포맷팅: 문자열 안에 값을 삽입하는 기술\n",
    "\n",
    "x = 100\n",
    "y = 200\n",
    "sum1 = x + y\n",
    "print(\"%d와 %d의 합은 %d입니다.\"%(x,y,sum1)) #문자열 포맷 코드\n",
    "print(\"{}와 {}의 합은 {}입니다.\".format(x,y,sum1)) #포맷 기능\n",
    "\n"
   ]
  },
  {
   "cell_type": "markdown",
   "metadata": {},
   "source": [
    "# 문자열 함수 "
   ]
  },
  {
   "cell_type": "code",
   "execution_count": 46,
   "metadata": {},
   "outputs": [
    {
     "name": "stdout",
     "output_type": "stream",
     "text": [
      "26\n"
     ]
    }
   ],
   "source": [
    "msg3 = 'python is easy and simple.'\n",
    "\n",
    "# 문자열의 길이 :len(데이터 or 변수)\n",
    "# ex) len('Python is easy and simple')\n",
    "print(len(msg3))"
   ]
  },
  {
   "cell_type": "code",
   "execution_count": 39,
   "metadata": {},
   "outputs": [
    {
     "name": "stdout",
     "output_type": "stream",
     "text": [
      " python is easy and simple. \n",
      "python is easy and simple.\n"
     ]
    }
   ],
   "source": [
    "#양쪽 공백 제거 : strip()\n",
    "msg4 = ' python is easy and simple. '\n",
    "print(msg4)\n",
    "print(msg4.strip()) # 크롤링한 문자열 데이터의 공백을 제거할 때"
   ]
  },
  {
   "cell_type": "code",
   "execution_count": 48,
   "metadata": {},
   "outputs": [
    {
     "name": "stdout",
     "output_type": "stream",
     "text": [
      "Java is easy and simple.\n",
      "python is easy and simple.\n"
     ]
    }
   ],
   "source": [
    "# 특정 문자를 다른 문자로 대체 : 변수. replace(이전 문자, 다른 문자)\n",
    "# --> 실제 변수에 저장된 데이터에 영향을 주지 않음.\n",
    "print(msg3.replace('python','Java'))\n",
    "print(msg3)\n",
    "\n",
    "#대체한 결과를 변수에 반영하고자 한다면?\n",
    "msg3 = msg3.replace('python','Java')\n"
   ]
  },
  {
   "cell_type": "code",
   "execution_count": 50,
   "metadata": {},
   "outputs": [
    {
     "name": "stdout",
     "output_type": "stream",
     "text": [
      "['Java', 'is', 'easy', 'and', 'simple.']\n",
      "['python', 'is', 'easy', 'and', 'simple.']\n"
     ]
    }
   ],
   "source": [
    "#문자열 나누기 : split()\n",
    "print(msg3.split()) #아무것도 안넣었을때는 공백 기준으로 나눈다\n",
    "\n",
    "msg5 = 'python_is_easy_and_simple.'\n",
    "print(msg5.split('_'))"
   ]
  },
  {
   "cell_type": "code",
   "execution_count": null,
   "metadata": {},
   "outputs": [],
   "source": []
  }
 ],
 "metadata": {
  "kernelspec": {
   "display_name": "Python 3",
   "language": "python",
   "name": "python3"
  },
  "language_info": {
   "codemirror_mode": {
    "name": "ipython",
    "version": 3
   },
   "file_extension": ".py",
   "mimetype": "text/x-python",
   "name": "python",
   "nbconvert_exporter": "python",
   "pygments_lexer": "ipython3",
   "version": "3.8.5"
  }
 },
 "nbformat": 4,
 "nbformat_minor": 4
}
