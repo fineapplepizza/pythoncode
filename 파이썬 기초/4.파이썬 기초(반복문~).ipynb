{
 "cells": [
  {
   "cell_type": "markdown",
   "metadata": {},
   "source": [
    "# 반복문\n",
    "- 실행할 명령문을 반복적으로 수행할 때 사용하는 구문\n",
    "- 종류 while, for"
   ]
  },
  {
   "cell_type": "code",
   "execution_count": 2,
   "metadata": {},
   "outputs": [
    {
     "name": "stdout",
     "output_type": "stream",
     "text": [
      "1\n",
      "2\n",
      "3\n",
      "4\n",
      "5\n"
     ]
    }
   ],
   "source": [
    "# 1 ~ 5까지 숫자를 출력하시오.\n",
    "# print(1)\n",
    "# print(2)\n",
    "# print(3)\n",
    "# print(4)\n",
    "# print(5)\n",
    "\n",
    "count = 1\n",
    "# count변수가 6미만이라면 계속 반복\n",
    "while count < 6:\n",
    "    print(count)\n",
    "    count = count + 1\n",
    "#논리연산자와 비교연산자를 조건식에 쓴다고 생각하면된다.\n"
   ]
  },
  {
   "cell_type": "code",
   "execution_count": 3,
   "metadata": {},
   "outputs": [
    {
     "name": "stdout",
     "output_type": "stream",
     "text": [
      "배고파..ㅠ\n",
      "배고파..ㅠ\n",
      "배고파..ㅠ\n",
      "배고파..ㅠ\n",
      "배고파..ㅠ\n",
      "배고파..ㅠ\n",
      "배고파..ㅠ\n",
      "배고파..ㅠ\n",
      "배고파..ㅠ\n",
      "배고파..ㅠ\n"
     ]
    }
   ],
   "source": [
    "# '배고파..ㅠ' 10번 출력\n",
    "\n",
    "num = 1\n",
    "while num <= 10: #종료되는 조건을 반드시 써줘야한다.\n",
    "    print('배고파..ㅠ')\n",
    "    num = num + 1 # num+=1"
   ]
  },
  {
   "cell_type": "markdown",
   "metadata": {},
   "source": [
    "## 반복문을 제어하는 구문\n",
    "- break문 : 반복문을 종료시키는 구문"
   ]
  },
  {
   "cell_type": "code",
   "execution_count": 6,
   "metadata": {},
   "outputs": [
    {
     "name": "stdout",
     "output_type": "stream",
     "text": [
      "배고파..ㅠ\n",
      "배고파..ㅠ\n",
      "배고파..ㅠ\n",
      "배고파..ㅠ\n",
      "배고파..ㅠ\n",
      "배고파..ㅠ\n",
      "배고파..ㅠ\n",
      "배고파..ㅠ\n",
      "배고파..ㅠ\n",
      "배고파..ㅠ\n"
     ]
    }
   ],
   "source": [
    "num = 1\n",
    "while True: #먼저 실행해야할 때 True 사용\n",
    "    if num <= 10:\n",
    "        print('배고파..ㅠ')\n",
    "        num = num + 1\n",
    "    else:\n",
    "        break"
   ]
  },
  {
   "cell_type": "code",
   "execution_count": 10,
   "metadata": {
    "scrolled": false
   },
   "outputs": [
    {
     "name": "stdout",
     "output_type": "stream",
     "text": [
      "첫 번째 정수 입력 >>99\n",
      "두 번째 정수 입력 >>88\n",
      "두 정수의 합: 187\n",
      "첫 번째 정수 입력 >>11\n",
      "두 번째 정수 입력 >>22\n",
      "두 정수의 합: 33\n",
      "첫 번째 정수 입력 >>0\n",
      "두 번째 정수 입력 >>0\n",
      "프로그램이 종료되었습니다.\n"
     ]
    }
   ],
   "source": [
    "while True:\n",
    "    num1 = int(input('첫 번째 정수 입력 >>'))\n",
    "    num2 = int(input('두 번째 정수 입력 >>'))\n",
    "    if num1 == 0 and num2 == 0:\n",
    "        print('프로그램이 종료되었습니다.')\n",
    "        break\n",
    "    else:\n",
    "        print('두 정수의 합: {}'.format(num1 + num2))"
   ]
  },
  {
   "cell_type": "code",
   "execution_count": null,
   "metadata": {},
   "outputs": [
    {
     "name": "stdout",
     "output_type": "stream",
     "text": [
      "첫 번째 정수 입력 >>12\n",
      "두 번째 정수 입력 >>13\n",
      "두 정수의 합:25\n"
     ]
    }
   ],
   "source": [
    "while True:\n",
    "    num1 = int(input('첫 번째 정수 입력 >>'))\n",
    "    num2 = int(input('두 번째 정수 입력 >>'))\n",
    "    print('두 정수의 합:{}'.format(num1 + num2))\n",
    "    if num1 == 0 and num2 == 0:\n",
    "        print('프로그램이 종료되었습니다.')\n",
    "        break"
   ]
  },
  {
   "cell_type": "code",
   "execution_count": 2,
   "metadata": {},
   "outputs": [
    {
     "name": "stdout",
     "output_type": "stream",
     "text": [
      "첫 번째 정수 입력 >>1\n",
      "두 번째 정수 입력 >>2\n",
      "두 정수의 합:3\n",
      "첫 번째 정수 입력 >>0\n",
      "두 번째 정수 입력 >>0\n",
      "프로그램이 종료되었습니다.\n"
     ]
    }
   ],
   "source": [
    "while True:\n",
    "    num1 = int(input('첫 번째 정수 입력 >>'))\n",
    "    num2 = int(input('두 번째 정수 입력 >>'))\n",
    "    \n",
    "    if num1 == 0 and num2 == 0:\n",
    "        print('프로그램이 종료되었습니다.')\n",
    "        break\n",
    "    else:\n",
    "        print('두 정수의 합:{}'.format(num1+num2))\n",
    "    "
   ]
  },
  {
   "cell_type": "markdown",
   "metadata": {},
   "source": [
    "# for문"
   ]
  },
  {
   "cell_type": "code",
   "execution_count": 3,
   "metadata": {},
   "outputs": [
    {
     "name": "stdout",
     "output_type": "stream",
     "text": [
      "햄버거\n",
      "치킨\n",
      "피자\n"
     ]
    }
   ],
   "source": [
    "# for 변수 in 문자열(리스트,튜플):\n",
    "#     print(변수)\n",
    "list_food = [\"햄버거\",\"치킨\",\"피자\"]\n",
    "for food in list_food:\n",
    "    print(food)"
   ]
  },
  {
   "cell_type": "code",
   "execution_count": 4,
   "metadata": {},
   "outputs": [
    {
     "name": "stdout",
     "output_type": "stream",
     "text": [
      "안\n",
      "녕\n",
      "하\n",
      "세\n",
      "요\n"
     ]
    }
   ],
   "source": [
    "hi = \"안녕하세요\" #for문에 반복할 문자열\n",
    "for s in hi:\n",
    "    print(s)"
   ]
  },
  {
   "cell_type": "code",
   "execution_count": 5,
   "metadata": {},
   "outputs": [
    {
     "name": "stdout",
     "output_type": "stream",
     "text": [
      "햄버거\n",
      "치킨\n",
      "피자\n"
     ]
    }
   ],
   "source": [
    "tuple_food = ('햄버거', '치킨', '피자')\n",
    "for food in tuple_food: #변수명 안에 요소를 접근\n",
    "    print(food)"
   ]
  },
  {
   "cell_type": "code",
   "execution_count": 7,
   "metadata": {},
   "outputs": [
    {
     "name": "stdout",
     "output_type": "stream",
     "text": [
      "1번 학생은 합격입니다.\n",
      "2번 학생은 불합격입니다.\n",
      "3번 학생은 합격입니다.\n",
      "4번 학생은 합격입니다.\n",
      "5번 학생은 불합격입니다.\n"
     ]
    }
   ],
   "source": [
    "score_list = [90, 45, 70, 60, 55]\n",
    "num = 1\n",
    "for score in score_list:\n",
    "    if score >= 60:\n",
    "        print('{}번 학생은 합격입니다.'.format(num))\n",
    "    else:\n",
    "        print('{}번 학생은 불합격입니다.'.format(num))\n",
    "        \n",
    "    num+=1"
   ]
  },
  {
   "cell_type": "code",
   "execution_count": 14,
   "metadata": {},
   "outputs": [
    {
     "name": "stdout",
     "output_type": "stream",
     "text": [
      "1* 2* 3* 4* 5* 6* 7* 8* 9* "
     ]
    }
   ],
   "source": [
    "for i in range(1, 10, 1):\n",
    "    #[1,2,3,4,5,6,7,8,9]\n",
    "    print(i, end=' ') #print()에는 기본적으로 end='\\n' '디폴트값'"
   ]
  },
  {
   "cell_type": "code",
   "execution_count": 15,
   "metadata": {},
   "outputs": [
    {
     "name": "stdout",
     "output_type": "stream",
     "text": [
      "3 4 5 6 7 8 9 "
     ]
    }
   ],
   "source": [
    "for i in range(3,10):\n",
    "    print(i, end=' ')"
   ]
  },
  {
   "cell_type": "code",
   "execution_count": 17,
   "metadata": {},
   "outputs": [
    {
     "name": "stdout",
     "output_type": "stream",
     "text": [
      "0 1 2 3 4 5 6 7 8 9 "
     ]
    }
   ],
   "source": [
    "for i in range(10):\n",
    "    \n",
    "    #첫시작값 0, 증가값 1\n",
    "    print(i, end=' ')"
   ]
  },
  {
   "cell_type": "code",
   "execution_count": 18,
   "metadata": {},
   "outputs": [
    {
     "name": "stdout",
     "output_type": "stream",
     "text": [
      "97 96 95 94 93 92 91 90 89 88 87 86 85 84 83 82 81 80 79 78 77 "
     ]
    }
   ],
   "source": [
    "#for문을 이용하여 97*77까지 출력\n",
    "for i in range(97,76,-1):\n",
    "    #range 97시작 76전까지 -1씩 변화\n",
    "    print(i, end=' ')"
   ]
  },
  {
   "cell_type": "code",
   "execution_count": 20,
   "metadata": {},
   "outputs": [
    {
     "name": "stdout",
     "output_type": "stream",
     "text": [
      "23 24 25 26 27 28 29 30 31 32 33 34 35 36 37 38 39 "
     ]
    }
   ],
   "source": [
    "#for문을 이용하여 23~39까지 출력\n",
    "for i in range(23,40,1):\n",
    "    # 증가하는 값 1\n",
    "    print(i, end=' ')\n",
    "    "
   ]
  },
  {
   "cell_type": "code",
   "execution_count": 25,
   "metadata": {},
   "outputs": [
    {
     "name": "stdout",
     "output_type": "stream",
     "text": [
      "1\n",
      "7\n"
     ]
    }
   ],
   "source": [
    "a,b = 1,7\n",
    "print(a)\n",
    "print(b)"
   ]
  },
  {
   "cell_type": "code",
   "execution_count": 30,
   "metadata": {},
   "outputs": [
    {
     "name": "stdout",
     "output_type": "stream",
     "text": [
      "1\n",
      "2\n",
      "-----\n",
      "3\n",
      "4\n",
      "-----\n",
      "5\n",
      "6\n",
      "-----\n"
     ]
    }
   ],
   "source": [
    "list1 = [[1,2],[3,4],[5,6]]\n",
    "for i,j in list1:\n",
    "    print(i)\n",
    "    print(j)\n",
    "    print('-'*5)"
   ]
  },
  {
   "cell_type": "code",
   "execution_count": 29,
   "metadata": {},
   "outputs": [
    {
     "data": {
      "text/plain": [
       "3"
      ]
     },
     "execution_count": 29,
     "metadata": {},
     "output_type": "execute_result"
    }
   ],
   "source": [
    "len(list1)"
   ]
  },
  {
   "cell_type": "code",
   "execution_count": 33,
   "metadata": {},
   "outputs": [
    {
     "name": "stdout",
     "output_type": "stream",
     "text": [
      "첫 번째 정수 입력 >>10\n",
      "두 번째 정수 입력 >>30\n",
      "10 11 12 13 14 15 16 17 18 19 20 21 22 23 24 25 26 27 28 29 30 "
     ]
    }
   ],
   "source": [
    "start = int(input('첫 번째 정수 입력 >>'))\n",
    "end = int(input('두 번째 정수 입력 >>'))\n",
    "for i in range(start,end+1,1):\n",
    "    print(i, end=' ')"
   ]
  },
  {
   "cell_type": "code",
   "execution_count": 42,
   "metadata": {},
   "outputs": [
    {
     "name": "stdout",
     "output_type": "stream",
     "text": [
      "1683\n"
     ]
    }
   ],
   "source": [
    "hap = 0 #sum(range(3,101,3))\n",
    "for i in range(3,100,3):\n",
    "    hap+=i\n",
    "print(hap)\n"
   ]
  },
  {
   "cell_type": "code",
   "execution_count": 44,
   "metadata": {},
   "outputs": [
    {
     "name": "stdout",
     "output_type": "stream",
     "text": [
      "2 * 1 = 2\n",
      "2 * 2 = 4\n",
      "2 * 3 = 6\n",
      "2 * 4 = 8\n",
      "2 * 5 = 10\n",
      "2 * 6 = 12\n",
      "2 * 7 = 14\n",
      "2 * 8 = 16\n",
      "2 * 9 = 18\n"
     ]
    }
   ],
   "source": [
    "\n",
    "for i in range(1,10):\n",
    "    print('2 * {} = {}'.format(i,i*2))"
   ]
  },
  {
   "cell_type": "code",
   "execution_count": 45,
   "metadata": {},
   "outputs": [
    {
     "name": "stdout",
     "output_type": "stream",
     "text": [
      "1683\n"
     ]
    }
   ],
   "source": [
    "hap=0\n",
    "for i in range(1,101,1):\n",
    "    if i % 3 == 0:\n",
    "        hap+=i\n",
    "print(hap)"
   ]
  },
  {
   "cell_type": "code",
   "execution_count": 48,
   "metadata": {},
   "outputs": [
    {
     "name": "stdout",
     "output_type": "stream",
     "text": [
      "2 * 1 = 2\n",
      "2 * 2 = 4\n",
      "2 * 3 = 6\n",
      "2 * 4 = 8\n",
      "2 * 5 = 10\n",
      "2 * 6 = 12\n",
      "2 * 7 = 14\n",
      "2 * 8 = 16\n",
      "2 * 9 = 18\n"
     ]
    }
   ],
   "source": [
    "# 구구단 2단 (1~9)\n",
    "for i in range(1,10):\n",
    "    print('2 * {} = {}'.format(i,i*2))"
   ]
  },
  {
   "cell_type": "code",
   "execution_count": 69,
   "metadata": {},
   "outputs": [
    {
     "name": "stdout",
     "output_type": "stream",
     "text": [
      "정수 입력 >>32\n",
      "32의 약수 : 1 2 4 8 16 32 "
     ]
    }
   ],
   "source": [
    "num = int(input('정수 입력 >>'))\n",
    "print('{}의 약수 :'.format(num), end=' ')\n",
    "for i in range(1,num+1):\n",
    "    if num % i == 0:\n",
    "        print(i,end=' ')\n",
    "        \n",
    "        \n"
   ]
  },
  {
   "cell_type": "code",
   "execution_count": null,
   "metadata": {},
   "outputs": [],
   "source": [
    "#  특정 조건을 만족하면 계속 반복\n",
    "# while 반복횟수를 정확히 모를때\n",
    "#for 반복횟수를 정확히 알때"
   ]
  },
  {
   "cell_type": "code",
   "execution_count": 76,
   "metadata": {},
   "outputs": [
    {
     "name": "stdout",
     "output_type": "stream",
     "text": [
      "============================================================\n",
      "[1]시험점수입력 [2]성적확인 [3]종료 >>1\n",
      "이름 입력 : 임대진\n",
      "Java 점수 입력 : 12\n",
      "web 점수 입력 : 32\n",
      "[1]시험점수입력 [2]성적확인 [3]종료 >>2\n",
      "이름    Java    Web    Grade\n",
      "------------------------------\n",
      "임대진   12   32   F\n",
      "[1]시험점수입력 [2]성적확인 [3]종료 >>3\n",
      "============================================================\n"
     ]
    }
   ],
   "source": [
    "print('=='*30)\n",
    "#학생들의 [이름, 자바점수, 웹점수]를 저장 할 리스트\n",
    "studentScore = []\n",
    "while True:\n",
    "    menu = int(input('[1]시험점수입력 [2]성적확인 [3]종료 >>'))\n",
    "    if menu == 1:\n",
    "        name = input('이름 입력 : ')\n",
    "        java = int(input('Java 점수 입력 : '))\n",
    "        web = int(input('web 점수 입력 : '))\n",
    "        studentScore.append([name, java, web])\n",
    "    \n",
    "    elif menu == 2:\n",
    "        print('이름    Java    Web    Grade')\n",
    "        print('-'*30)\n",
    "        for s in studentScore:\n",
    "            avg=(s[1]+s[2])/2\n",
    "            if avg>=90:\n",
    "                grade='A'\n",
    "            elif avg>=80:\n",
    "                grade='B'\n",
    "            elif avg>=70:\n",
    "                grade='C'\n",
    "            elif avg>=60:\n",
    "                grade='D'\n",
    "            elif avg<=50:\n",
    "                grade='F'\n",
    "            print('{}   {}   {}   {}'.format(s[0],s[1],s[2],grade))\n",
    "            \n",
    "        \n",
    "    elif menu==3:\n",
    "        \n",
    "        break\n",
    "\n",
    "print('=='*30)"
   ]
  },
  {
   "cell_type": "code",
   "execution_count": null,
   "metadata": {},
   "outputs": [],
   "source": []
  },
  {
   "cell_type": "code",
   "execution_count": null,
   "metadata": {},
   "outputs": [],
   "source": []
  },
  {
   "cell_type": "code",
   "execution_count": null,
   "metadata": {},
   "outputs": [],
   "source": []
  },
  {
   "cell_type": "code",
   "execution_count": null,
   "metadata": {},
   "outputs": [],
   "source": []
  },
  {
   "cell_type": "code",
   "execution_count": null,
   "metadata": {},
   "outputs": [],
   "source": []
  },
  {
   "cell_type": "code",
   "execution_count": null,
   "metadata": {},
   "outputs": [],
   "source": []
  },
  {
   "cell_type": "code",
   "execution_count": null,
   "metadata": {},
   "outputs": [],
   "source": []
  },
  {
   "cell_type": "code",
   "execution_count": null,
   "metadata": {},
   "outputs": [],
   "source": []
  },
  {
   "cell_type": "code",
   "execution_count": null,
   "metadata": {},
   "outputs": [],
   "source": []
  },
  {
   "cell_type": "code",
   "execution_count": null,
   "metadata": {},
   "outputs": [],
   "source": []
  },
  {
   "cell_type": "code",
   "execution_count": null,
   "metadata": {},
   "outputs": [],
   "source": []
  },
  {
   "cell_type": "code",
   "execution_count": null,
   "metadata": {},
   "outputs": [],
   "source": []
  },
  {
   "cell_type": "code",
   "execution_count": null,
   "metadata": {},
   "outputs": [],
   "source": []
  },
  {
   "cell_type": "code",
   "execution_count": null,
   "metadata": {},
   "outputs": [],
   "source": []
  },
  {
   "cell_type": "code",
   "execution_count": null,
   "metadata": {},
   "outputs": [],
   "source": []
  },
  {
   "cell_type": "code",
   "execution_count": null,
   "metadata": {},
   "outputs": [],
   "source": []
  },
  {
   "cell_type": "code",
   "execution_count": null,
   "metadata": {},
   "outputs": [],
   "source": []
  },
  {
   "cell_type": "code",
   "execution_count": null,
   "metadata": {},
   "outputs": [],
   "source": []
  },
  {
   "cell_type": "code",
   "execution_count": null,
   "metadata": {},
   "outputs": [],
   "source": []
  },
  {
   "cell_type": "code",
   "execution_count": null,
   "metadata": {},
   "outputs": [],
   "source": []
  },
  {
   "cell_type": "code",
   "execution_count": null,
   "metadata": {},
   "outputs": [],
   "source": []
  }
 ],
 "metadata": {
  "kernelspec": {
   "display_name": "Python 3",
   "language": "python",
   "name": "python3"
  },
  "language_info": {
   "codemirror_mode": {
    "name": "ipython",
    "version": 3
   },
   "file_extension": ".py",
   "mimetype": "text/x-python",
   "name": "python",
   "nbconvert_exporter": "python",
   "pygments_lexer": "ipython3",
   "version": "3.8.5"
  }
 },
 "nbformat": 4,
 "nbformat_minor": 4
}
